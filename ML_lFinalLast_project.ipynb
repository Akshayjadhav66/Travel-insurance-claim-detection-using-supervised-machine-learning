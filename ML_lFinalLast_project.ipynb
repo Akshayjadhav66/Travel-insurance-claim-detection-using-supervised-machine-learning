{
  "nbformat": 4,
  "nbformat_minor": 0,
  "metadata": {
    "colab": {
      "name": "ML_lFinalLast_project.ipynb",
      "provenance": [],
      "collapsed_sections": []
    },
    "kernelspec": {
      "name": "python3",
      "display_name": "Python 3"
    },
    "language_info": {
      "name": "python"
    }
  },
  "cells": [
    {
      "cell_type": "markdown",
      "metadata": {
        "id": "1gfIRl-QwSQz"
      },
      "source": [
        "**Insurance Claim Status Prediction**\n",
        "\n",
        "Insurance companies take risks over customers. Risk management is a very important aspect of the insurance industry. Insurers consider every quantifiable factor to develop profiles of high and low insurance risks. Insurers collect vast amounts of information about policyholders and analyse the data. As a Data scientist in an insurance company, you need to analyse the available data and predict whether to approve the insurance or not."
      ]
    },
    {
      "cell_type": "markdown",
      "metadata": {
        "id": "x8YACJkyuWFe"
      },
      "source": [
        "**Prepaird By**\n",
        "\n",
        "**Humera**\n",
        "\n",
        "**Nitish**\n",
        "\n",
        "**Akshay**\n",
        "\n",
        "**Abhijeet** "
      ]
    },
    {
      "cell_type": "markdown",
      "metadata": {
        "id": "AtIqGuzawzM5"
      },
      "source": [
        "**Importing Library**"
      ]
    },
    {
      "cell_type": "code",
      "metadata": {
        "id": "YSkmiBdTwZ5-"
      },
      "source": [
        "import numpy as np \n",
        "import pandas as pd \n",
        "import matplotlib.pyplot as plt \n",
        "import seaborn as sns \n",
        "from scipy.stats import skew \n",
        "from sklearn.preprocessing import StandardScaler\n",
        "from sklearn.preprocessing import MinMaxScaler\n",
        "from sklearn.model_selection import train_test_split\n",
        "from sklearn.model_selection import cross_val_score\n",
        "from sklearn.metrics import classification_report,confusion_matrix\n",
        "from sklearn.metrics import roc_auc_score ,roc_curve\n",
        "from sklearn.feature_selection import chi2\n",
        "from sklearn.feature_selection import f_classif\n",
        "from sklearn.feature_selection import SelectKBest\n",
        "from sklearn.ensemble import VotingClassifier\n",
        "from sklearn.linear_model import LogisticRegression\n",
        "from sklearn.tree import DecisionTreeClassifier\n",
        "from sklearn.ensemble import RandomForestClassifier\n",
        "from sklearn.ensemble import GradientBoostingClassifier\n",
        "from sklearn.ensemble import AdaBoostClassifier\n",
        "from sklearn.svm import SVC\n",
        "from sklearn.svm import LinearSVC\n",
        "import warnings\n",
        "warnings.filterwarnings(\"ignore\")\n"
      ],
      "execution_count": null,
      "outputs": []
    },
    {
      "cell_type": "code",
      "metadata": {
        "id": "SylJNcB-nwfF"
      },
      "source": [
        "df=pd.read_csv(\"/content/data.csv\")"
      ],
      "execution_count": null,
      "outputs": []
    },
    {
      "cell_type": "code",
      "metadata": {
        "colab": {
          "base_uri": "https://localhost:8080/",
          "height": 408
        },
        "id": "p_antxSLxgQb",
        "outputId": "e891dc16-e1a5-485c-f5e4-dad2996df1d5"
      },
      "source": [
        "df.head()"
      ],
      "execution_count": null,
      "outputs": [
        {
          "output_type": "execute_result",
          "data": {
            "text/html": [
              "<div>\n",
              "<style scoped>\n",
              "    .dataframe tbody tr th:only-of-type {\n",
              "        vertical-align: middle;\n",
              "    }\n",
              "\n",
              "    .dataframe tbody tr th {\n",
              "        vertical-align: top;\n",
              "    }\n",
              "\n",
              "    .dataframe thead th {\n",
              "        text-align: right;\n",
              "    }\n",
              "</style>\n",
              "<table border=\"1\" class=\"dataframe\">\n",
              "  <thead>\n",
              "    <tr style=\"text-align: right;\">\n",
              "      <th></th>\n",
              "      <th>ID</th>\n",
              "      <th>Agency</th>\n",
              "      <th>Agency Type</th>\n",
              "      <th>Distribution Channel</th>\n",
              "      <th>Product Name</th>\n",
              "      <th>Claim</th>\n",
              "      <th>Duration</th>\n",
              "      <th>Destination</th>\n",
              "      <th>Net Sales</th>\n",
              "      <th>Commision (in value)</th>\n",
              "      <th>Gender</th>\n",
              "      <th>Age</th>\n",
              "    </tr>\n",
              "  </thead>\n",
              "  <tbody>\n",
              "    <tr>\n",
              "      <th>0</th>\n",
              "      <td>3433</td>\n",
              "      <td>CWT</td>\n",
              "      <td>Travel Agency</td>\n",
              "      <td>Online</td>\n",
              "      <td>Rental Vehicle Excess Insurance</td>\n",
              "      <td>0</td>\n",
              "      <td>7</td>\n",
              "      <td>MALAYSIA</td>\n",
              "      <td>0.0</td>\n",
              "      <td>17.82</td>\n",
              "      <td>NaN</td>\n",
              "      <td>31</td>\n",
              "    </tr>\n",
              "    <tr>\n",
              "      <th>1</th>\n",
              "      <td>4339</td>\n",
              "      <td>EPX</td>\n",
              "      <td>Travel Agency</td>\n",
              "      <td>Online</td>\n",
              "      <td>Cancellation Plan</td>\n",
              "      <td>0</td>\n",
              "      <td>85</td>\n",
              "      <td>SINGAPORE</td>\n",
              "      <td>69.0</td>\n",
              "      <td>0.00</td>\n",
              "      <td>NaN</td>\n",
              "      <td>36</td>\n",
              "    </tr>\n",
              "    <tr>\n",
              "      <th>2</th>\n",
              "      <td>34590</td>\n",
              "      <td>CWT</td>\n",
              "      <td>Travel Agency</td>\n",
              "      <td>Online</td>\n",
              "      <td>Rental Vehicle Excess Insurance</td>\n",
              "      <td>0</td>\n",
              "      <td>11</td>\n",
              "      <td>MALAYSIA</td>\n",
              "      <td>19.8</td>\n",
              "      <td>11.88</td>\n",
              "      <td>NaN</td>\n",
              "      <td>75</td>\n",
              "    </tr>\n",
              "    <tr>\n",
              "      <th>3</th>\n",
              "      <td>55816</td>\n",
              "      <td>EPX</td>\n",
              "      <td>Travel Agency</td>\n",
              "      <td>Online</td>\n",
              "      <td>2 way Comprehensive Plan</td>\n",
              "      <td>0</td>\n",
              "      <td>16</td>\n",
              "      <td>INDONESIA</td>\n",
              "      <td>20.0</td>\n",
              "      <td>0.00</td>\n",
              "      <td>NaN</td>\n",
              "      <td>32</td>\n",
              "    </tr>\n",
              "    <tr>\n",
              "      <th>4</th>\n",
              "      <td>13816</td>\n",
              "      <td>EPX</td>\n",
              "      <td>Travel Agency</td>\n",
              "      <td>Online</td>\n",
              "      <td>Cancellation Plan</td>\n",
              "      <td>0</td>\n",
              "      <td>10</td>\n",
              "      <td>KOREA, REPUBLIC OF</td>\n",
              "      <td>15.0</td>\n",
              "      <td>0.00</td>\n",
              "      <td>NaN</td>\n",
              "      <td>29</td>\n",
              "    </tr>\n",
              "  </tbody>\n",
              "</table>\n",
              "</div>"
            ],
            "text/plain": [
              "      ID Agency    Agency Type  ... Commision (in value) Gender  Age\n",
              "0   3433    CWT  Travel Agency  ...                17.82    NaN   31\n",
              "1   4339    EPX  Travel Agency  ...                 0.00    NaN   36\n",
              "2  34590    CWT  Travel Agency  ...                11.88    NaN   75\n",
              "3  55816    EPX  Travel Agency  ...                 0.00    NaN   32\n",
              "4  13816    EPX  Travel Agency  ...                 0.00    NaN   29\n",
              "\n",
              "[5 rows x 12 columns]"
            ]
          },
          "metadata": {
            "tags": []
          },
          "execution_count": 177
        }
      ]
    },
    {
      "cell_type": "code",
      "metadata": {
        "colab": {
          "base_uri": "https://localhost:8080/"
        },
        "id": "_4jS-HqVxi00",
        "outputId": "347df0b4-ca91-4e52-d5aa-4b921ac2cdfa"
      },
      "source": [
        "df.shape"
      ],
      "execution_count": null,
      "outputs": [
        {
          "output_type": "execute_result",
          "data": {
            "text/plain": [
              "(50553, 12)"
            ]
          },
          "metadata": {
            "tags": []
          },
          "execution_count": 178
        }
      ]
    },
    {
      "cell_type": "markdown",
      "metadata": {
        "id": "LErHQD7QxElL"
      },
      "source": [
        "**EDA**"
      ]
    },
    {
      "cell_type": "code",
      "metadata": {
        "colab": {
          "base_uri": "https://localhost:8080/"
        },
        "id": "typcQk3zxlW7",
        "outputId": "621d9756-6351-447c-f197-f7a26732d0e6"
      },
      "source": [
        "# Checking the weightage of null values.\n",
        "(df['Gender'].isnull().sum()/df.shape[0]*100).round(2)"
      ],
      "execution_count": null,
      "outputs": [
        {
          "output_type": "execute_result",
          "data": {
            "text/plain": [
              "71.12"
            ]
          },
          "metadata": {
            "tags": []
          },
          "execution_count": 179
        }
      ]
    },
    {
      "cell_type": "markdown",
      "metadata": {
        "id": "cmUpoiPCxrb8"
      },
      "source": [
        "**we can see 71% of the data does not have Gender updated.  there are no other features that will help us find out whether the individual is male or female. Thus we will drop this feature**\n",
        "\n",
        "**We can see from data ID column is not usefull data.hnce we will drop ID column**"
      ]
    },
    {
      "cell_type": "code",
      "metadata": {
        "id": "JwXfvbz9xlYB"
      },
      "source": [
        "df.drop([\"Gender\"],axis=1,inplace=True)"
      ],
      "execution_count": null,
      "outputs": []
    },
    {
      "cell_type": "code",
      "metadata": {
        "id": "mie5kjuVx0EK"
      },
      "source": [
        "df.drop([\"ID\"],axis=1,inplace=True)"
      ],
      "execution_count": null,
      "outputs": []
    },
    {
      "cell_type": "code",
      "metadata": {
        "colab": {
          "base_uri": "https://localhost:8080/",
          "height": 288
        },
        "id": "nkmSwjKAyd7T",
        "outputId": "6d0faa00-12db-443d-c898-926d7ba3ad01"
      },
      "source": [
        "df.describe()"
      ],
      "execution_count": null,
      "outputs": [
        {
          "output_type": "execute_result",
          "data": {
            "text/html": [
              "<div>\n",
              "<style scoped>\n",
              "    .dataframe tbody tr th:only-of-type {\n",
              "        vertical-align: middle;\n",
              "    }\n",
              "\n",
              "    .dataframe tbody tr th {\n",
              "        vertical-align: top;\n",
              "    }\n",
              "\n",
              "    .dataframe thead th {\n",
              "        text-align: right;\n",
              "    }\n",
              "</style>\n",
              "<table border=\"1\" class=\"dataframe\">\n",
              "  <thead>\n",
              "    <tr style=\"text-align: right;\">\n",
              "      <th></th>\n",
              "      <th>Claim</th>\n",
              "      <th>Duration</th>\n",
              "      <th>Net Sales</th>\n",
              "      <th>Commision (in value)</th>\n",
              "      <th>Age</th>\n",
              "    </tr>\n",
              "  </thead>\n",
              "  <tbody>\n",
              "    <tr>\n",
              "      <th>count</th>\n",
              "      <td>50553.000000</td>\n",
              "      <td>50553.000000</td>\n",
              "      <td>50553.000000</td>\n",
              "      <td>50553.00000</td>\n",
              "      <td>50553.000000</td>\n",
              "    </tr>\n",
              "    <tr>\n",
              "      <th>mean</th>\n",
              "      <td>0.014658</td>\n",
              "      <td>49.425969</td>\n",
              "      <td>40.800977</td>\n",
              "      <td>9.83809</td>\n",
              "      <td>40.011236</td>\n",
              "    </tr>\n",
              "    <tr>\n",
              "      <th>std</th>\n",
              "      <td>0.120180</td>\n",
              "      <td>101.434647</td>\n",
              "      <td>48.899683</td>\n",
              "      <td>19.91004</td>\n",
              "      <td>14.076566</td>\n",
              "    </tr>\n",
              "    <tr>\n",
              "      <th>min</th>\n",
              "      <td>0.000000</td>\n",
              "      <td>-2.000000</td>\n",
              "      <td>-389.000000</td>\n",
              "      <td>0.00000</td>\n",
              "      <td>0.000000</td>\n",
              "    </tr>\n",
              "    <tr>\n",
              "      <th>25%</th>\n",
              "      <td>0.000000</td>\n",
              "      <td>9.000000</td>\n",
              "      <td>18.000000</td>\n",
              "      <td>0.00000</td>\n",
              "      <td>35.000000</td>\n",
              "    </tr>\n",
              "    <tr>\n",
              "      <th>50%</th>\n",
              "      <td>0.000000</td>\n",
              "      <td>22.000000</td>\n",
              "      <td>26.500000</td>\n",
              "      <td>0.00000</td>\n",
              "      <td>36.000000</td>\n",
              "    </tr>\n",
              "    <tr>\n",
              "      <th>75%</th>\n",
              "      <td>0.000000</td>\n",
              "      <td>53.000000</td>\n",
              "      <td>48.000000</td>\n",
              "      <td>11.55000</td>\n",
              "      <td>44.000000</td>\n",
              "    </tr>\n",
              "    <tr>\n",
              "      <th>max</th>\n",
              "      <td>1.000000</td>\n",
              "      <td>4881.000000</td>\n",
              "      <td>810.000000</td>\n",
              "      <td>283.50000</td>\n",
              "      <td>118.000000</td>\n",
              "    </tr>\n",
              "  </tbody>\n",
              "</table>\n",
              "</div>"
            ],
            "text/plain": [
              "              Claim      Duration  ...  Commision (in value)           Age\n",
              "count  50553.000000  50553.000000  ...           50553.00000  50553.000000\n",
              "mean       0.014658     49.425969  ...               9.83809     40.011236\n",
              "std        0.120180    101.434647  ...              19.91004     14.076566\n",
              "min        0.000000     -2.000000  ...               0.00000      0.000000\n",
              "25%        0.000000      9.000000  ...               0.00000     35.000000\n",
              "50%        0.000000     22.000000  ...               0.00000     36.000000\n",
              "75%        0.000000     53.000000  ...              11.55000     44.000000\n",
              "max        1.000000   4881.000000  ...             283.50000    118.000000\n",
              "\n",
              "[8 rows x 5 columns]"
            ]
          },
          "metadata": {
            "tags": []
          },
          "execution_count": 182
        }
      ]
    },
    {
      "cell_type": "markdown",
      "metadata": {
        "id": "W5S5AUBpyjeM"
      },
      "source": [
        "**Duration is negative so checking destination for rplace negative value**"
      ]
    },
    {
      "cell_type": "code",
      "metadata": {
        "colab": {
          "base_uri": "https://localhost:8080/",
          "height": 207
        },
        "id": "Lp0AqZkepuIX",
        "outputId": "1044b7ea-50c2-4c54-a4dc-3f63e5730c5b"
      },
      "source": [
        "df[(df[\"Duration\"]<0) & (df[\"Destination\"])]"
      ],
      "execution_count": null,
      "outputs": [
        {
          "output_type": "execute_result",
          "data": {
            "text/html": [
              "<div>\n",
              "<style scoped>\n",
              "    .dataframe tbody tr th:only-of-type {\n",
              "        vertical-align: middle;\n",
              "    }\n",
              "\n",
              "    .dataframe tbody tr th {\n",
              "        vertical-align: top;\n",
              "    }\n",
              "\n",
              "    .dataframe thead th {\n",
              "        text-align: right;\n",
              "    }\n",
              "</style>\n",
              "<table border=\"1\" class=\"dataframe\">\n",
              "  <thead>\n",
              "    <tr style=\"text-align: right;\">\n",
              "      <th></th>\n",
              "      <th>Agency</th>\n",
              "      <th>Agency Type</th>\n",
              "      <th>Distribution Channel</th>\n",
              "      <th>Product Name</th>\n",
              "      <th>Claim</th>\n",
              "      <th>Duration</th>\n",
              "      <th>Destination</th>\n",
              "      <th>Net Sales</th>\n",
              "      <th>Commision (in value)</th>\n",
              "      <th>Age</th>\n",
              "    </tr>\n",
              "  </thead>\n",
              "  <tbody>\n",
              "    <tr>\n",
              "      <th>4063</th>\n",
              "      <td>JZI</td>\n",
              "      <td>Airlines</td>\n",
              "      <td>Online</td>\n",
              "      <td>Basic Plan</td>\n",
              "      <td>0</td>\n",
              "      <td>-1</td>\n",
              "      <td>BRUNEI DARUSSALAM</td>\n",
              "      <td>18.0</td>\n",
              "      <td>6.3</td>\n",
              "      <td>118</td>\n",
              "    </tr>\n",
              "    <tr>\n",
              "      <th>38935</th>\n",
              "      <td>JZI</td>\n",
              "      <td>Airlines</td>\n",
              "      <td>Online</td>\n",
              "      <td>Basic Plan</td>\n",
              "      <td>0</td>\n",
              "      <td>-1</td>\n",
              "      <td>INDONESIA</td>\n",
              "      <td>18.0</td>\n",
              "      <td>6.3</td>\n",
              "      <td>118</td>\n",
              "    </tr>\n",
              "    <tr>\n",
              "      <th>48367</th>\n",
              "      <td>JZI</td>\n",
              "      <td>Airlines</td>\n",
              "      <td>Online</td>\n",
              "      <td>Basic Plan</td>\n",
              "      <td>0</td>\n",
              "      <td>-2</td>\n",
              "      <td>BANGLADESH</td>\n",
              "      <td>22.0</td>\n",
              "      <td>7.7</td>\n",
              "      <td>118</td>\n",
              "    </tr>\n",
              "  </tbody>\n",
              "</table>\n",
              "</div>"
            ],
            "text/plain": [
              "      Agency Agency Type  ... Commision (in value)  Age\n",
              "4063     JZI    Airlines  ...                  6.3  118\n",
              "38935    JZI    Airlines  ...                  6.3  118\n",
              "48367    JZI    Airlines  ...                  7.7  118\n",
              "\n",
              "[3 rows x 10 columns]"
            ]
          },
          "metadata": {
            "tags": []
          },
          "execution_count": 183
        }
      ]
    },
    {
      "cell_type": "code",
      "metadata": {
        "id": "WF5jnwpXtggi"
      },
      "source": [
        "#BANGLADESH,INDONESIA,BRUNEI DARUSSALAM has negaitive values\n",
        "#replacing this negative value with mean value of its own"
      ],
      "execution_count": null,
      "outputs": []
    },
    {
      "cell_type": "code",
      "metadata": {
        "colab": {
          "base_uri": "https://localhost:8080/"
        },
        "id": "cosA8fl4t0HP",
        "outputId": "47eda8cf-0b80-45ed-e48d-7774e7bde01d"
      },
      "source": [
        "ban=df[(df[\"Duration\"]) & (df[\"Destination\"]==\"BANGLADESH\")]\n",
        "ban[\"Duration\"].mean()"
      ],
      "execution_count": null,
      "outputs": [
        {
          "output_type": "execute_result",
          "data": {
            "text/plain": [
              "15.958333333333334"
            ]
          },
          "metadata": {
            "tags": []
          },
          "execution_count": 185
        }
      ]
    },
    {
      "cell_type": "code",
      "metadata": {
        "colab": {
          "base_uri": "https://localhost:8080/"
        },
        "id": "qf4RBhM4u2xK",
        "outputId": "3e5fa2c0-a7cd-4736-e600-7725cc3e2e3a"
      },
      "source": [
        "indo=df[(df[\"Duration\"]) & (df[\"Destination\"]==\"INDONESIA\")]\n",
        "indo[\"Duration\"].mean()"
      ],
      "execution_count": null,
      "outputs": [
        {
          "output_type": "execute_result",
          "data": {
            "text/plain": [
              "31.335203366058906"
            ]
          },
          "metadata": {
            "tags": []
          },
          "execution_count": 186
        }
      ]
    },
    {
      "cell_type": "code",
      "metadata": {
        "colab": {
          "base_uri": "https://localhost:8080/"
        },
        "id": "Ks11v4CxvEha",
        "outputId": "860e5bac-4701-4113-e3b3-6b7217037758"
      },
      "source": [
        "BRUNEI=df[(df[\"Duration\"]) & (df[\"Destination\"]==\"BRUNEI DARUSSALAM\")]\n",
        "BRUNEI[\"Duration\"].mean()"
      ],
      "execution_count": null,
      "outputs": [
        {
          "output_type": "execute_result",
          "data": {
            "text/plain": [
              "22.37012987012987"
            ]
          },
          "metadata": {
            "tags": []
          },
          "execution_count": 187
        }
      ]
    },
    {
      "cell_type": "code",
      "metadata": {
        "colab": {
          "base_uri": "https://localhost:8080/",
          "height": 1962
        },
        "id": "3nvEAC5avQHv",
        "outputId": "2e4a1048-01ae-4355-becc-d265e0377ebf"
      },
      "source": [
        "des=df[(df[\"Duration\"]==0) & (df[\"Destination\"])]\n",
        "des"
      ],
      "execution_count": null,
      "outputs": [
        {
          "output_type": "execute_result",
          "data": {
            "text/html": [
              "<div>\n",
              "<style scoped>\n",
              "    .dataframe tbody tr th:only-of-type {\n",
              "        vertical-align: middle;\n",
              "    }\n",
              "\n",
              "    .dataframe tbody tr th {\n",
              "        vertical-align: top;\n",
              "    }\n",
              "\n",
              "    .dataframe thead th {\n",
              "        text-align: right;\n",
              "    }\n",
              "</style>\n",
              "<table border=\"1\" class=\"dataframe\">\n",
              "  <thead>\n",
              "    <tr style=\"text-align: right;\">\n",
              "      <th></th>\n",
              "      <th>Agency</th>\n",
              "      <th>Agency Type</th>\n",
              "      <th>Distribution Channel</th>\n",
              "      <th>Product Name</th>\n",
              "      <th>Claim</th>\n",
              "      <th>Duration</th>\n",
              "      <th>Destination</th>\n",
              "      <th>Net Sales</th>\n",
              "      <th>Commision (in value)</th>\n",
              "      <th>Age</th>\n",
              "    </tr>\n",
              "  </thead>\n",
              "  <tbody>\n",
              "    <tr>\n",
              "      <th>181</th>\n",
              "      <td>JWT</td>\n",
              "      <td>Airlines</td>\n",
              "      <td>Online</td>\n",
              "      <td>Value Plan</td>\n",
              "      <td>0</td>\n",
              "      <td>0</td>\n",
              "      <td>INDIA</td>\n",
              "      <td>31.00</td>\n",
              "      <td>12.40</td>\n",
              "      <td>118</td>\n",
              "    </tr>\n",
              "    <tr>\n",
              "      <th>314</th>\n",
              "      <td>RAB</td>\n",
              "      <td>Airlines</td>\n",
              "      <td>Online</td>\n",
              "      <td>Value Plan</td>\n",
              "      <td>0</td>\n",
              "      <td>0</td>\n",
              "      <td>BRUNEI DARUSSALAM</td>\n",
              "      <td>15.00</td>\n",
              "      <td>6.00</td>\n",
              "      <td>53</td>\n",
              "    </tr>\n",
              "    <tr>\n",
              "      <th>1864</th>\n",
              "      <td>JWT</td>\n",
              "      <td>Airlines</td>\n",
              "      <td>Online</td>\n",
              "      <td>Value Plan</td>\n",
              "      <td>0</td>\n",
              "      <td>0</td>\n",
              "      <td>INDIA</td>\n",
              "      <td>31.00</td>\n",
              "      <td>12.40</td>\n",
              "      <td>118</td>\n",
              "    </tr>\n",
              "    <tr>\n",
              "      <th>3068</th>\n",
              "      <td>C2B</td>\n",
              "      <td>Airlines</td>\n",
              "      <td>Online</td>\n",
              "      <td>Silver Plan</td>\n",
              "      <td>0</td>\n",
              "      <td>0</td>\n",
              "      <td>SINGAPORE</td>\n",
              "      <td>0.00</td>\n",
              "      <td>5.63</td>\n",
              "      <td>51</td>\n",
              "    </tr>\n",
              "    <tr>\n",
              "      <th>4282</th>\n",
              "      <td>LWC</td>\n",
              "      <td>Travel Agency</td>\n",
              "      <td>Online</td>\n",
              "      <td>Single Trip Travel Protect Gold</td>\n",
              "      <td>0</td>\n",
              "      <td>0</td>\n",
              "      <td>MALAYSIA</td>\n",
              "      <td>27.00</td>\n",
              "      <td>17.55</td>\n",
              "      <td>56</td>\n",
              "    </tr>\n",
              "    <tr>\n",
              "      <th>7324</th>\n",
              "      <td>RAB</td>\n",
              "      <td>Airlines</td>\n",
              "      <td>Online</td>\n",
              "      <td>Value Plan</td>\n",
              "      <td>0</td>\n",
              "      <td>0</td>\n",
              "      <td>BRUNEI DARUSSALAM</td>\n",
              "      <td>15.00</td>\n",
              "      <td>6.00</td>\n",
              "      <td>24</td>\n",
              "    </tr>\n",
              "    <tr>\n",
              "      <th>7482</th>\n",
              "      <td>JZI</td>\n",
              "      <td>Airlines</td>\n",
              "      <td>Online</td>\n",
              "      <td>Basic Plan</td>\n",
              "      <td>0</td>\n",
              "      <td>0</td>\n",
              "      <td>THAILAND</td>\n",
              "      <td>18.00</td>\n",
              "      <td>6.30</td>\n",
              "      <td>118</td>\n",
              "    </tr>\n",
              "    <tr>\n",
              "      <th>7885</th>\n",
              "      <td>JZI</td>\n",
              "      <td>Airlines</td>\n",
              "      <td>Online</td>\n",
              "      <td>Basic Plan</td>\n",
              "      <td>0</td>\n",
              "      <td>0</td>\n",
              "      <td>THAILAND</td>\n",
              "      <td>18.00</td>\n",
              "      <td>6.30</td>\n",
              "      <td>118</td>\n",
              "    </tr>\n",
              "    <tr>\n",
              "      <th>8205</th>\n",
              "      <td>JWT</td>\n",
              "      <td>Airlines</td>\n",
              "      <td>Online</td>\n",
              "      <td>Value Plan</td>\n",
              "      <td>0</td>\n",
              "      <td>0</td>\n",
              "      <td>INDIA</td>\n",
              "      <td>62.00</td>\n",
              "      <td>24.80</td>\n",
              "      <td>118</td>\n",
              "    </tr>\n",
              "    <tr>\n",
              "      <th>8512</th>\n",
              "      <td>JWT</td>\n",
              "      <td>Airlines</td>\n",
              "      <td>Online</td>\n",
              "      <td>Value Plan</td>\n",
              "      <td>0</td>\n",
              "      <td>0</td>\n",
              "      <td>INDIA</td>\n",
              "      <td>31.00</td>\n",
              "      <td>12.40</td>\n",
              "      <td>118</td>\n",
              "    </tr>\n",
              "    <tr>\n",
              "      <th>8897</th>\n",
              "      <td>JWT</td>\n",
              "      <td>Airlines</td>\n",
              "      <td>Online</td>\n",
              "      <td>Value Plan</td>\n",
              "      <td>0</td>\n",
              "      <td>0</td>\n",
              "      <td>INDIA</td>\n",
              "      <td>62.00</td>\n",
              "      <td>24.80</td>\n",
              "      <td>118</td>\n",
              "    </tr>\n",
              "    <tr>\n",
              "      <th>9501</th>\n",
              "      <td>JWT</td>\n",
              "      <td>Airlines</td>\n",
              "      <td>Online</td>\n",
              "      <td>Value Plan</td>\n",
              "      <td>0</td>\n",
              "      <td>0</td>\n",
              "      <td>INDIA</td>\n",
              "      <td>31.00</td>\n",
              "      <td>12.40</td>\n",
              "      <td>118</td>\n",
              "    </tr>\n",
              "    <tr>\n",
              "      <th>10465</th>\n",
              "      <td>JWT</td>\n",
              "      <td>Airlines</td>\n",
              "      <td>Online</td>\n",
              "      <td>Value Plan</td>\n",
              "      <td>0</td>\n",
              "      <td>0</td>\n",
              "      <td>INDIA</td>\n",
              "      <td>31.00</td>\n",
              "      <td>12.40</td>\n",
              "      <td>118</td>\n",
              "    </tr>\n",
              "    <tr>\n",
              "      <th>10558</th>\n",
              "      <td>JWT</td>\n",
              "      <td>Airlines</td>\n",
              "      <td>Online</td>\n",
              "      <td>Value Plan</td>\n",
              "      <td>0</td>\n",
              "      <td>0</td>\n",
              "      <td>INDIA</td>\n",
              "      <td>62.00</td>\n",
              "      <td>24.80</td>\n",
              "      <td>118</td>\n",
              "    </tr>\n",
              "    <tr>\n",
              "      <th>11515</th>\n",
              "      <td>JZI</td>\n",
              "      <td>Airlines</td>\n",
              "      <td>Online</td>\n",
              "      <td>Basic Plan</td>\n",
              "      <td>0</td>\n",
              "      <td>0</td>\n",
              "      <td>THAILAND</td>\n",
              "      <td>18.00</td>\n",
              "      <td>6.30</td>\n",
              "      <td>118</td>\n",
              "    </tr>\n",
              "    <tr>\n",
              "      <th>12579</th>\n",
              "      <td>SSI</td>\n",
              "      <td>Airlines</td>\n",
              "      <td>Online</td>\n",
              "      <td>Ticket Protector</td>\n",
              "      <td>0</td>\n",
              "      <td>0</td>\n",
              "      <td>SINGAPORE</td>\n",
              "      <td>5.80</td>\n",
              "      <td>1.63</td>\n",
              "      <td>48</td>\n",
              "    </tr>\n",
              "    <tr>\n",
              "      <th>12924</th>\n",
              "      <td>C2B</td>\n",
              "      <td>Airlines</td>\n",
              "      <td>Online</td>\n",
              "      <td>Bronze Plan</td>\n",
              "      <td>0</td>\n",
              "      <td>0</td>\n",
              "      <td>SINGAPORE</td>\n",
              "      <td>-14.40</td>\n",
              "      <td>3.60</td>\n",
              "      <td>49</td>\n",
              "    </tr>\n",
              "    <tr>\n",
              "      <th>16251</th>\n",
              "      <td>SSI</td>\n",
              "      <td>Airlines</td>\n",
              "      <td>Online</td>\n",
              "      <td>Ticket Protector</td>\n",
              "      <td>0</td>\n",
              "      <td>0</td>\n",
              "      <td>SINGAPORE</td>\n",
              "      <td>1.80</td>\n",
              "      <td>0.50</td>\n",
              "      <td>48</td>\n",
              "    </tr>\n",
              "    <tr>\n",
              "      <th>17641</th>\n",
              "      <td>SSI</td>\n",
              "      <td>Airlines</td>\n",
              "      <td>Online</td>\n",
              "      <td>Ticket Protector</td>\n",
              "      <td>0</td>\n",
              "      <td>0</td>\n",
              "      <td>SINGAPORE</td>\n",
              "      <td>0.51</td>\n",
              "      <td>0.14</td>\n",
              "      <td>48</td>\n",
              "    </tr>\n",
              "    <tr>\n",
              "      <th>17741</th>\n",
              "      <td>SSI</td>\n",
              "      <td>Airlines</td>\n",
              "      <td>Online</td>\n",
              "      <td>Ticket Protector</td>\n",
              "      <td>0</td>\n",
              "      <td>0</td>\n",
              "      <td>SINGAPORE</td>\n",
              "      <td>1.35</td>\n",
              "      <td>0.38</td>\n",
              "      <td>48</td>\n",
              "    </tr>\n",
              "    <tr>\n",
              "      <th>18198</th>\n",
              "      <td>JWT</td>\n",
              "      <td>Airlines</td>\n",
              "      <td>Online</td>\n",
              "      <td>Value Plan</td>\n",
              "      <td>0</td>\n",
              "      <td>0</td>\n",
              "      <td>INDIA</td>\n",
              "      <td>62.00</td>\n",
              "      <td>24.80</td>\n",
              "      <td>118</td>\n",
              "    </tr>\n",
              "    <tr>\n",
              "      <th>18299</th>\n",
              "      <td>RAB</td>\n",
              "      <td>Airlines</td>\n",
              "      <td>Online</td>\n",
              "      <td>Value Plan</td>\n",
              "      <td>0</td>\n",
              "      <td>0</td>\n",
              "      <td>BRUNEI DARUSSALAM</td>\n",
              "      <td>15.00</td>\n",
              "      <td>6.00</td>\n",
              "      <td>33</td>\n",
              "    </tr>\n",
              "    <tr>\n",
              "      <th>19419</th>\n",
              "      <td>SSI</td>\n",
              "      <td>Airlines</td>\n",
              "      <td>Online</td>\n",
              "      <td>Ticket Protector</td>\n",
              "      <td>0</td>\n",
              "      <td>0</td>\n",
              "      <td>SINGAPORE</td>\n",
              "      <td>14.40</td>\n",
              "      <td>4.04</td>\n",
              "      <td>48</td>\n",
              "    </tr>\n",
              "    <tr>\n",
              "      <th>20538</th>\n",
              "      <td>JWT</td>\n",
              "      <td>Airlines</td>\n",
              "      <td>Online</td>\n",
              "      <td>Value Plan</td>\n",
              "      <td>0</td>\n",
              "      <td>0</td>\n",
              "      <td>INDIA</td>\n",
              "      <td>62.00</td>\n",
              "      <td>24.80</td>\n",
              "      <td>118</td>\n",
              "    </tr>\n",
              "    <tr>\n",
              "      <th>21442</th>\n",
              "      <td>C2B</td>\n",
              "      <td>Airlines</td>\n",
              "      <td>Online</td>\n",
              "      <td>Bronze Plan</td>\n",
              "      <td>0</td>\n",
              "      <td>0</td>\n",
              "      <td>SINGAPORE</td>\n",
              "      <td>27.00</td>\n",
              "      <td>6.75</td>\n",
              "      <td>23</td>\n",
              "    </tr>\n",
              "    <tr>\n",
              "      <th>23561</th>\n",
              "      <td>SSI</td>\n",
              "      <td>Airlines</td>\n",
              "      <td>Online</td>\n",
              "      <td>Ticket Protector</td>\n",
              "      <td>0</td>\n",
              "      <td>0</td>\n",
              "      <td>SINGAPORE</td>\n",
              "      <td>1.93</td>\n",
              "      <td>0.54</td>\n",
              "      <td>48</td>\n",
              "    </tr>\n",
              "    <tr>\n",
              "      <th>23606</th>\n",
              "      <td>JZI</td>\n",
              "      <td>Airlines</td>\n",
              "      <td>Online</td>\n",
              "      <td>Basic Plan</td>\n",
              "      <td>0</td>\n",
              "      <td>0</td>\n",
              "      <td>MYANMAR</td>\n",
              "      <td>18.00</td>\n",
              "      <td>6.30</td>\n",
              "      <td>24</td>\n",
              "    </tr>\n",
              "    <tr>\n",
              "      <th>23766</th>\n",
              "      <td>SSI</td>\n",
              "      <td>Airlines</td>\n",
              "      <td>Online</td>\n",
              "      <td>Ticket Protector</td>\n",
              "      <td>0</td>\n",
              "      <td>0</td>\n",
              "      <td>SINGAPORE</td>\n",
              "      <td>2.44</td>\n",
              "      <td>0.68</td>\n",
              "      <td>48</td>\n",
              "    </tr>\n",
              "    <tr>\n",
              "      <th>24505</th>\n",
              "      <td>JZI</td>\n",
              "      <td>Airlines</td>\n",
              "      <td>Online</td>\n",
              "      <td>Basic Plan</td>\n",
              "      <td>0</td>\n",
              "      <td>0</td>\n",
              "      <td>MYANMAR</td>\n",
              "      <td>18.00</td>\n",
              "      <td>6.30</td>\n",
              "      <td>26</td>\n",
              "    </tr>\n",
              "    <tr>\n",
              "      <th>25266</th>\n",
              "      <td>CWT</td>\n",
              "      <td>Travel Agency</td>\n",
              "      <td>Online</td>\n",
              "      <td>Rental Vehicle Excess Insurance</td>\n",
              "      <td>0</td>\n",
              "      <td>0</td>\n",
              "      <td>MALAYSIA</td>\n",
              "      <td>9.90</td>\n",
              "      <td>5.94</td>\n",
              "      <td>33</td>\n",
              "    </tr>\n",
              "    <tr>\n",
              "      <th>25785</th>\n",
              "      <td>SSI</td>\n",
              "      <td>Airlines</td>\n",
              "      <td>Online</td>\n",
              "      <td>Ticket Protector</td>\n",
              "      <td>0</td>\n",
              "      <td>0</td>\n",
              "      <td>SINGAPORE</td>\n",
              "      <td>4.44</td>\n",
              "      <td>1.25</td>\n",
              "      <td>48</td>\n",
              "    </tr>\n",
              "    <tr>\n",
              "      <th>26076</th>\n",
              "      <td>SSI</td>\n",
              "      <td>Airlines</td>\n",
              "      <td>Online</td>\n",
              "      <td>Ticket Protector</td>\n",
              "      <td>0</td>\n",
              "      <td>0</td>\n",
              "      <td>SINGAPORE</td>\n",
              "      <td>0.84</td>\n",
              "      <td>0.24</td>\n",
              "      <td>48</td>\n",
              "    </tr>\n",
              "    <tr>\n",
              "      <th>27002</th>\n",
              "      <td>JWT</td>\n",
              "      <td>Airlines</td>\n",
              "      <td>Online</td>\n",
              "      <td>Value Plan</td>\n",
              "      <td>0</td>\n",
              "      <td>0</td>\n",
              "      <td>INDIA</td>\n",
              "      <td>31.00</td>\n",
              "      <td>12.40</td>\n",
              "      <td>118</td>\n",
              "    </tr>\n",
              "    <tr>\n",
              "      <th>30597</th>\n",
              "      <td>SSI</td>\n",
              "      <td>Airlines</td>\n",
              "      <td>Online</td>\n",
              "      <td>Ticket Protector</td>\n",
              "      <td>0</td>\n",
              "      <td>0</td>\n",
              "      <td>SINGAPORE</td>\n",
              "      <td>3.99</td>\n",
              "      <td>1.12</td>\n",
              "      <td>48</td>\n",
              "    </tr>\n",
              "    <tr>\n",
              "      <th>31258</th>\n",
              "      <td>EPX</td>\n",
              "      <td>Travel Agency</td>\n",
              "      <td>Offline</td>\n",
              "      <td>1 way Comprehensive Plan</td>\n",
              "      <td>0</td>\n",
              "      <td>0</td>\n",
              "      <td>MYANMAR</td>\n",
              "      <td>20.00</td>\n",
              "      <td>0.00</td>\n",
              "      <td>33</td>\n",
              "    </tr>\n",
              "    <tr>\n",
              "      <th>31932</th>\n",
              "      <td>SSI</td>\n",
              "      <td>Airlines</td>\n",
              "      <td>Online</td>\n",
              "      <td>Ticket Protector</td>\n",
              "      <td>0</td>\n",
              "      <td>0</td>\n",
              "      <td>SINGAPORE</td>\n",
              "      <td>2.86</td>\n",
              "      <td>0.80</td>\n",
              "      <td>48</td>\n",
              "    </tr>\n",
              "    <tr>\n",
              "      <th>33674</th>\n",
              "      <td>SSI</td>\n",
              "      <td>Airlines</td>\n",
              "      <td>Online</td>\n",
              "      <td>Ticket Protector</td>\n",
              "      <td>0</td>\n",
              "      <td>0</td>\n",
              "      <td>SINGAPORE</td>\n",
              "      <td>4.88</td>\n",
              "      <td>1.37</td>\n",
              "      <td>48</td>\n",
              "    </tr>\n",
              "    <tr>\n",
              "      <th>34178</th>\n",
              "      <td>JWT</td>\n",
              "      <td>Airlines</td>\n",
              "      <td>Online</td>\n",
              "      <td>Value Plan</td>\n",
              "      <td>0</td>\n",
              "      <td>0</td>\n",
              "      <td>INDIA</td>\n",
              "      <td>31.00</td>\n",
              "      <td>12.40</td>\n",
              "      <td>118</td>\n",
              "    </tr>\n",
              "    <tr>\n",
              "      <th>34511</th>\n",
              "      <td>JZI</td>\n",
              "      <td>Airlines</td>\n",
              "      <td>Online</td>\n",
              "      <td>Basic Plan</td>\n",
              "      <td>0</td>\n",
              "      <td>0</td>\n",
              "      <td>CHINA</td>\n",
              "      <td>22.00</td>\n",
              "      <td>7.70</td>\n",
              "      <td>34</td>\n",
              "    </tr>\n",
              "    <tr>\n",
              "      <th>36144</th>\n",
              "      <td>JWT</td>\n",
              "      <td>Airlines</td>\n",
              "      <td>Online</td>\n",
              "      <td>Value Plan</td>\n",
              "      <td>0</td>\n",
              "      <td>0</td>\n",
              "      <td>INDIA</td>\n",
              "      <td>31.00</td>\n",
              "      <td>12.40</td>\n",
              "      <td>118</td>\n",
              "    </tr>\n",
              "    <tr>\n",
              "      <th>36403</th>\n",
              "      <td>JWT</td>\n",
              "      <td>Airlines</td>\n",
              "      <td>Online</td>\n",
              "      <td>Value Plan</td>\n",
              "      <td>0</td>\n",
              "      <td>0</td>\n",
              "      <td>INDIA</td>\n",
              "      <td>31.00</td>\n",
              "      <td>12.40</td>\n",
              "      <td>118</td>\n",
              "    </tr>\n",
              "    <tr>\n",
              "      <th>39014</th>\n",
              "      <td>JWT</td>\n",
              "      <td>Airlines</td>\n",
              "      <td>Online</td>\n",
              "      <td>Value Plan</td>\n",
              "      <td>0</td>\n",
              "      <td>0</td>\n",
              "      <td>INDIA</td>\n",
              "      <td>31.00</td>\n",
              "      <td>12.40</td>\n",
              "      <td>118</td>\n",
              "    </tr>\n",
              "    <tr>\n",
              "      <th>39027</th>\n",
              "      <td>JZI</td>\n",
              "      <td>Airlines</td>\n",
              "      <td>Online</td>\n",
              "      <td>Basic Plan</td>\n",
              "      <td>0</td>\n",
              "      <td>0</td>\n",
              "      <td>INDONESIA</td>\n",
              "      <td>18.00</td>\n",
              "      <td>6.30</td>\n",
              "      <td>118</td>\n",
              "    </tr>\n",
              "    <tr>\n",
              "      <th>39318</th>\n",
              "      <td>JWT</td>\n",
              "      <td>Airlines</td>\n",
              "      <td>Online</td>\n",
              "      <td>Value Plan</td>\n",
              "      <td>0</td>\n",
              "      <td>0</td>\n",
              "      <td>INDIA</td>\n",
              "      <td>31.00</td>\n",
              "      <td>12.40</td>\n",
              "      <td>118</td>\n",
              "    </tr>\n",
              "    <tr>\n",
              "      <th>41302</th>\n",
              "      <td>JWT</td>\n",
              "      <td>Airlines</td>\n",
              "      <td>Online</td>\n",
              "      <td>Value Plan</td>\n",
              "      <td>0</td>\n",
              "      <td>0</td>\n",
              "      <td>INDIA</td>\n",
              "      <td>62.00</td>\n",
              "      <td>24.80</td>\n",
              "      <td>118</td>\n",
              "    </tr>\n",
              "    <tr>\n",
              "      <th>41861</th>\n",
              "      <td>JWT</td>\n",
              "      <td>Airlines</td>\n",
              "      <td>Online</td>\n",
              "      <td>Value Plan</td>\n",
              "      <td>0</td>\n",
              "      <td>0</td>\n",
              "      <td>INDIA</td>\n",
              "      <td>93.00</td>\n",
              "      <td>37.20</td>\n",
              "      <td>118</td>\n",
              "    </tr>\n",
              "    <tr>\n",
              "      <th>43410</th>\n",
              "      <td>SSI</td>\n",
              "      <td>Airlines</td>\n",
              "      <td>Online</td>\n",
              "      <td>Ticket Protector</td>\n",
              "      <td>0</td>\n",
              "      <td>0</td>\n",
              "      <td>SINGAPORE</td>\n",
              "      <td>9.77</td>\n",
              "      <td>2.74</td>\n",
              "      <td>48</td>\n",
              "    </tr>\n",
              "    <tr>\n",
              "      <th>43464</th>\n",
              "      <td>RAB</td>\n",
              "      <td>Airlines</td>\n",
              "      <td>Online</td>\n",
              "      <td>Value Plan</td>\n",
              "      <td>0</td>\n",
              "      <td>0</td>\n",
              "      <td>BRUNEI DARUSSALAM</td>\n",
              "      <td>15.00</td>\n",
              "      <td>6.00</td>\n",
              "      <td>24</td>\n",
              "    </tr>\n",
              "    <tr>\n",
              "      <th>43485</th>\n",
              "      <td>JZI</td>\n",
              "      <td>Airlines</td>\n",
              "      <td>Online</td>\n",
              "      <td>Basic Plan</td>\n",
              "      <td>0</td>\n",
              "      <td>0</td>\n",
              "      <td>VIET NAM</td>\n",
              "      <td>18.00</td>\n",
              "      <td>6.30</td>\n",
              "      <td>58</td>\n",
              "    </tr>\n",
              "    <tr>\n",
              "      <th>43719</th>\n",
              "      <td>SSI</td>\n",
              "      <td>Airlines</td>\n",
              "      <td>Online</td>\n",
              "      <td>Ticket Protector</td>\n",
              "      <td>0</td>\n",
              "      <td>0</td>\n",
              "      <td>SINGAPORE</td>\n",
              "      <td>1.03</td>\n",
              "      <td>0.29</td>\n",
              "      <td>48</td>\n",
              "    </tr>\n",
              "    <tr>\n",
              "      <th>45395</th>\n",
              "      <td>CWT</td>\n",
              "      <td>Travel Agency</td>\n",
              "      <td>Online</td>\n",
              "      <td>Rental Vehicle Excess Insurance</td>\n",
              "      <td>0</td>\n",
              "      <td>0</td>\n",
              "      <td>UNITED STATES</td>\n",
              "      <td>9.90</td>\n",
              "      <td>5.94</td>\n",
              "      <td>59</td>\n",
              "    </tr>\n",
              "    <tr>\n",
              "      <th>45474</th>\n",
              "      <td>RAB</td>\n",
              "      <td>Airlines</td>\n",
              "      <td>Online</td>\n",
              "      <td>Value Plan</td>\n",
              "      <td>0</td>\n",
              "      <td>0</td>\n",
              "      <td>BRUNEI DARUSSALAM</td>\n",
              "      <td>15.00</td>\n",
              "      <td>6.00</td>\n",
              "      <td>38</td>\n",
              "    </tr>\n",
              "    <tr>\n",
              "      <th>47625</th>\n",
              "      <td>LWC</td>\n",
              "      <td>Travel Agency</td>\n",
              "      <td>Online</td>\n",
              "      <td>Single Trip Travel Protect Gold</td>\n",
              "      <td>0</td>\n",
              "      <td>0</td>\n",
              "      <td>INDIA</td>\n",
              "      <td>35.25</td>\n",
              "      <td>22.91</td>\n",
              "      <td>24</td>\n",
              "    </tr>\n",
              "    <tr>\n",
              "      <th>50357</th>\n",
              "      <td>C2B</td>\n",
              "      <td>Airlines</td>\n",
              "      <td>Online</td>\n",
              "      <td>Bronze Plan</td>\n",
              "      <td>0</td>\n",
              "      <td>0</td>\n",
              "      <td>SINGAPORE</td>\n",
              "      <td>14.40</td>\n",
              "      <td>3.60</td>\n",
              "      <td>49</td>\n",
              "    </tr>\n",
              "  </tbody>\n",
              "</table>\n",
              "</div>"
            ],
            "text/plain": [
              "      Agency    Agency Type  ... Commision (in value)  Age\n",
              "181      JWT       Airlines  ...                12.40  118\n",
              "314      RAB       Airlines  ...                 6.00   53\n",
              "1864     JWT       Airlines  ...                12.40  118\n",
              "3068     C2B       Airlines  ...                 5.63   51\n",
              "4282     LWC  Travel Agency  ...                17.55   56\n",
              "7324     RAB       Airlines  ...                 6.00   24\n",
              "7482     JZI       Airlines  ...                 6.30  118\n",
              "7885     JZI       Airlines  ...                 6.30  118\n",
              "8205     JWT       Airlines  ...                24.80  118\n",
              "8512     JWT       Airlines  ...                12.40  118\n",
              "8897     JWT       Airlines  ...                24.80  118\n",
              "9501     JWT       Airlines  ...                12.40  118\n",
              "10465    JWT       Airlines  ...                12.40  118\n",
              "10558    JWT       Airlines  ...                24.80  118\n",
              "11515    JZI       Airlines  ...                 6.30  118\n",
              "12579    SSI       Airlines  ...                 1.63   48\n",
              "12924    C2B       Airlines  ...                 3.60   49\n",
              "16251    SSI       Airlines  ...                 0.50   48\n",
              "17641    SSI       Airlines  ...                 0.14   48\n",
              "17741    SSI       Airlines  ...                 0.38   48\n",
              "18198    JWT       Airlines  ...                24.80  118\n",
              "18299    RAB       Airlines  ...                 6.00   33\n",
              "19419    SSI       Airlines  ...                 4.04   48\n",
              "20538    JWT       Airlines  ...                24.80  118\n",
              "21442    C2B       Airlines  ...                 6.75   23\n",
              "23561    SSI       Airlines  ...                 0.54   48\n",
              "23606    JZI       Airlines  ...                 6.30   24\n",
              "23766    SSI       Airlines  ...                 0.68   48\n",
              "24505    JZI       Airlines  ...                 6.30   26\n",
              "25266    CWT  Travel Agency  ...                 5.94   33\n",
              "25785    SSI       Airlines  ...                 1.25   48\n",
              "26076    SSI       Airlines  ...                 0.24   48\n",
              "27002    JWT       Airlines  ...                12.40  118\n",
              "30597    SSI       Airlines  ...                 1.12   48\n",
              "31258    EPX  Travel Agency  ...                 0.00   33\n",
              "31932    SSI       Airlines  ...                 0.80   48\n",
              "33674    SSI       Airlines  ...                 1.37   48\n",
              "34178    JWT       Airlines  ...                12.40  118\n",
              "34511    JZI       Airlines  ...                 7.70   34\n",
              "36144    JWT       Airlines  ...                12.40  118\n",
              "36403    JWT       Airlines  ...                12.40  118\n",
              "39014    JWT       Airlines  ...                12.40  118\n",
              "39027    JZI       Airlines  ...                 6.30  118\n",
              "39318    JWT       Airlines  ...                12.40  118\n",
              "41302    JWT       Airlines  ...                24.80  118\n",
              "41861    JWT       Airlines  ...                37.20  118\n",
              "43410    SSI       Airlines  ...                 2.74   48\n",
              "43464    RAB       Airlines  ...                 6.00   24\n",
              "43485    JZI       Airlines  ...                 6.30   58\n",
              "43719    SSI       Airlines  ...                 0.29   48\n",
              "45395    CWT  Travel Agency  ...                 5.94   59\n",
              "45474    RAB       Airlines  ...                 6.00   38\n",
              "47625    LWC  Travel Agency  ...                22.91   24\n",
              "50357    C2B       Airlines  ...                 3.60   49\n",
              "\n",
              "[54 rows x 10 columns]"
            ]
          },
          "metadata": {
            "tags": []
          },
          "execution_count": 188
        }
      ]
    },
    {
      "cell_type": "code",
      "metadata": {
        "colab": {
          "base_uri": "https://localhost:8080/"
        },
        "id": "KV9O7NC-wLbZ",
        "outputId": "95425e72-786c-4afc-cd77-87a94a136ead"
      },
      "source": [
        "des[\"Destination\"].mode()"
      ],
      "execution_count": null,
      "outputs": [
        {
          "output_type": "execute_result",
          "data": {
            "text/plain": [
              "0    INDIA\n",
              "dtype: object"
            ]
          },
          "metadata": {
            "tags": []
          },
          "execution_count": 189
        }
      ]
    },
    {
      "cell_type": "code",
      "metadata": {
        "colab": {
          "base_uri": "https://localhost:8080/"
        },
        "id": "dWh5hEROv6i6",
        "outputId": "ba706c0d-e677-4e68-b00d-7619a717f151"
      },
      "source": [
        "ind=df[(df[\"Duration\"]) & (df[\"Destination\"]==\"INDIA\")]\n",
        "ind[\"Duration\"].mean()"
      ],
      "execution_count": null,
      "outputs": [
        {
          "output_type": "execute_result",
          "data": {
            "text/plain": [
              "30.41387024608501"
            ]
          },
          "metadata": {
            "tags": []
          },
          "execution_count": 190
        }
      ]
    },
    {
      "cell_type": "code",
      "metadata": {
        "colab": {
          "base_uri": "https://localhost:8080/"
        },
        "id": "YYjSLi05yYNr",
        "outputId": "55d8f2ed-7518-41f1-cf95-5808cd6e8eb1"
      },
      "source": [
        "#duration has negative value\n",
        "for i in range(len(df)):\n",
        "    if df['Duration'][i]<0:\n",
        "        print(df['Duration'].iloc[i])\n",
        "        "
      ],
      "execution_count": null,
      "outputs": [
        {
          "output_type": "stream",
          "text": [
            "-1\n",
            "-1\n",
            "-2\n"
          ],
          "name": "stdout"
        }
      ]
    },
    {
      "cell_type": "code",
      "metadata": {
        "colab": {
          "base_uri": "https://localhost:8080/",
          "height": 459
        },
        "id": "XujOCkrLytzj",
        "outputId": "25d77407-80ec-4643-82cf-63934179e830"
      },
      "source": [
        "df[df[\"Age\"] >100]"
      ],
      "execution_count": null,
      "outputs": [
        {
          "output_type": "execute_result",
          "data": {
            "text/html": [
              "<div>\n",
              "<style scoped>\n",
              "    .dataframe tbody tr th:only-of-type {\n",
              "        vertical-align: middle;\n",
              "    }\n",
              "\n",
              "    .dataframe tbody tr th {\n",
              "        vertical-align: top;\n",
              "    }\n",
              "\n",
              "    .dataframe thead th {\n",
              "        text-align: right;\n",
              "    }\n",
              "</style>\n",
              "<table border=\"1\" class=\"dataframe\">\n",
              "  <thead>\n",
              "    <tr style=\"text-align: right;\">\n",
              "      <th></th>\n",
              "      <th>Agency</th>\n",
              "      <th>Agency Type</th>\n",
              "      <th>Distribution Channel</th>\n",
              "      <th>Product Name</th>\n",
              "      <th>Claim</th>\n",
              "      <th>Duration</th>\n",
              "      <th>Destination</th>\n",
              "      <th>Net Sales</th>\n",
              "      <th>Commision (in value)</th>\n",
              "      <th>Age</th>\n",
              "    </tr>\n",
              "  </thead>\n",
              "  <tbody>\n",
              "    <tr>\n",
              "      <th>90</th>\n",
              "      <td>JWT</td>\n",
              "      <td>Airlines</td>\n",
              "      <td>Online</td>\n",
              "      <td>Value Plan</td>\n",
              "      <td>0</td>\n",
              "      <td>58</td>\n",
              "      <td>INDIA</td>\n",
              "      <td>78.0</td>\n",
              "      <td>31.20</td>\n",
              "      <td>118</td>\n",
              "    </tr>\n",
              "    <tr>\n",
              "      <th>108</th>\n",
              "      <td>JWT</td>\n",
              "      <td>Airlines</td>\n",
              "      <td>Online</td>\n",
              "      <td>Value Plan</td>\n",
              "      <td>0</td>\n",
              "      <td>15</td>\n",
              "      <td>INDIA</td>\n",
              "      <td>31.0</td>\n",
              "      <td>12.40</td>\n",
              "      <td>118</td>\n",
              "    </tr>\n",
              "    <tr>\n",
              "      <th>140</th>\n",
              "      <td>JWT</td>\n",
              "      <td>Airlines</td>\n",
              "      <td>Online</td>\n",
              "      <td>Value Plan</td>\n",
              "      <td>0</td>\n",
              "      <td>8</td>\n",
              "      <td>INDIA</td>\n",
              "      <td>39.0</td>\n",
              "      <td>15.60</td>\n",
              "      <td>118</td>\n",
              "    </tr>\n",
              "    <tr>\n",
              "      <th>153</th>\n",
              "      <td>JWT</td>\n",
              "      <td>Airlines</td>\n",
              "      <td>Online</td>\n",
              "      <td>Value Plan</td>\n",
              "      <td>0</td>\n",
              "      <td>4</td>\n",
              "      <td>INDIA</td>\n",
              "      <td>78.0</td>\n",
              "      <td>31.20</td>\n",
              "      <td>118</td>\n",
              "    </tr>\n",
              "    <tr>\n",
              "      <th>181</th>\n",
              "      <td>JWT</td>\n",
              "      <td>Airlines</td>\n",
              "      <td>Online</td>\n",
              "      <td>Value Plan</td>\n",
              "      <td>0</td>\n",
              "      <td>0</td>\n",
              "      <td>INDIA</td>\n",
              "      <td>31.0</td>\n",
              "      <td>12.40</td>\n",
              "      <td>118</td>\n",
              "    </tr>\n",
              "    <tr>\n",
              "      <th>...</th>\n",
              "      <td>...</td>\n",
              "      <td>...</td>\n",
              "      <td>...</td>\n",
              "      <td>...</td>\n",
              "      <td>...</td>\n",
              "      <td>...</td>\n",
              "      <td>...</td>\n",
              "      <td>...</td>\n",
              "      <td>...</td>\n",
              "      <td>...</td>\n",
              "    </tr>\n",
              "    <tr>\n",
              "      <th>50158</th>\n",
              "      <td>JWT</td>\n",
              "      <td>Airlines</td>\n",
              "      <td>Online</td>\n",
              "      <td>Value Plan</td>\n",
              "      <td>0</td>\n",
              "      <td>41</td>\n",
              "      <td>INDIA</td>\n",
              "      <td>60.0</td>\n",
              "      <td>24.00</td>\n",
              "      <td>118</td>\n",
              "    </tr>\n",
              "    <tr>\n",
              "      <th>50179</th>\n",
              "      <td>JWT</td>\n",
              "      <td>Airlines</td>\n",
              "      <td>Online</td>\n",
              "      <td>Value Plan</td>\n",
              "      <td>0</td>\n",
              "      <td>62</td>\n",
              "      <td>INDIA</td>\n",
              "      <td>31.0</td>\n",
              "      <td>12.40</td>\n",
              "      <td>118</td>\n",
              "    </tr>\n",
              "    <tr>\n",
              "      <th>50250</th>\n",
              "      <td>JWT</td>\n",
              "      <td>Airlines</td>\n",
              "      <td>Online</td>\n",
              "      <td>Value Plan</td>\n",
              "      <td>0</td>\n",
              "      <td>15</td>\n",
              "      <td>INDIA</td>\n",
              "      <td>31.0</td>\n",
              "      <td>12.40</td>\n",
              "      <td>118</td>\n",
              "    </tr>\n",
              "    <tr>\n",
              "      <th>50429</th>\n",
              "      <td>JZI</td>\n",
              "      <td>Airlines</td>\n",
              "      <td>Online</td>\n",
              "      <td>Basic Plan</td>\n",
              "      <td>0</td>\n",
              "      <td>19</td>\n",
              "      <td>SRI LANKA</td>\n",
              "      <td>35.0</td>\n",
              "      <td>12.25</td>\n",
              "      <td>118</td>\n",
              "    </tr>\n",
              "    <tr>\n",
              "      <th>50478</th>\n",
              "      <td>CCR</td>\n",
              "      <td>Travel Agency</td>\n",
              "      <td>Offline</td>\n",
              "      <td>Comprehensive Plan</td>\n",
              "      <td>0</td>\n",
              "      <td>6</td>\n",
              "      <td>THAILAND</td>\n",
              "      <td>29.0</td>\n",
              "      <td>9.57</td>\n",
              "      <td>118</td>\n",
              "    </tr>\n",
              "  </tbody>\n",
              "</table>\n",
              "<p>795 rows × 10 columns</p>\n",
              "</div>"
            ],
            "text/plain": [
              "      Agency    Agency Type  ... Commision (in value)  Age\n",
              "90       JWT       Airlines  ...                31.20  118\n",
              "108      JWT       Airlines  ...                12.40  118\n",
              "140      JWT       Airlines  ...                15.60  118\n",
              "153      JWT       Airlines  ...                31.20  118\n",
              "181      JWT       Airlines  ...                12.40  118\n",
              "...      ...            ...  ...                  ...  ...\n",
              "50158    JWT       Airlines  ...                24.00  118\n",
              "50179    JWT       Airlines  ...                12.40  118\n",
              "50250    JWT       Airlines  ...                12.40  118\n",
              "50429    JZI       Airlines  ...                12.25  118\n",
              "50478    CCR  Travel Agency  ...                 9.57  118\n",
              "\n",
              "[795 rows x 10 columns]"
            ]
          },
          "metadata": {
            "tags": []
          },
          "execution_count": 192
        }
      ]
    },
    {
      "cell_type": "code",
      "metadata": {
        "colab": {
          "base_uri": "https://localhost:8080/"
        },
        "id": "kiINj9jPyt0w",
        "outputId": "d86f5a3c-a66a-4dfe-c940-aecfa626f1a8"
      },
      "source": [
        "df[\"Age\"].mean()"
      ],
      "execution_count": null,
      "outputs": [
        {
          "output_type": "execute_result",
          "data": {
            "text/plain": [
              "40.011235732795285"
            ]
          },
          "metadata": {
            "tags": []
          },
          "execution_count": 193
        }
      ]
    },
    {
      "cell_type": "markdown",
      "metadata": {
        "id": "TVBFTuFO9vsQ"
      },
      "source": [
        "**#we can see from data there is 795 rows so we replace age with mean value 40**\n"
      ]
    },
    {
      "cell_type": "code",
      "metadata": {
        "id": "1YeCAP8Xy4cn"
      },
      "source": [
        "#we can see from data there is 795 rows so we replace age with mean value 40.011235732795285\n",
        "df.loc[df['Age'] > 100, 'Age'] = 40"
      ],
      "execution_count": null,
      "outputs": []
    },
    {
      "cell_type": "code",
      "metadata": {
        "colab": {
          "base_uri": "https://localhost:8080/",
          "height": 65
        },
        "id": "wMnpxRREy-vw",
        "outputId": "6e9b9336-1c58-4742-ec76-de1323988b1c"
      },
      "source": [
        "df[df[\"Age\"] >100]"
      ],
      "execution_count": null,
      "outputs": [
        {
          "output_type": "execute_result",
          "data": {
            "text/html": [
              "<div>\n",
              "<style scoped>\n",
              "    .dataframe tbody tr th:only-of-type {\n",
              "        vertical-align: middle;\n",
              "    }\n",
              "\n",
              "    .dataframe tbody tr th {\n",
              "        vertical-align: top;\n",
              "    }\n",
              "\n",
              "    .dataframe thead th {\n",
              "        text-align: right;\n",
              "    }\n",
              "</style>\n",
              "<table border=\"1\" class=\"dataframe\">\n",
              "  <thead>\n",
              "    <tr style=\"text-align: right;\">\n",
              "      <th></th>\n",
              "      <th>Agency</th>\n",
              "      <th>Agency Type</th>\n",
              "      <th>Distribution Channel</th>\n",
              "      <th>Product Name</th>\n",
              "      <th>Claim</th>\n",
              "      <th>Duration</th>\n",
              "      <th>Destination</th>\n",
              "      <th>Net Sales</th>\n",
              "      <th>Commision (in value)</th>\n",
              "      <th>Age</th>\n",
              "    </tr>\n",
              "  </thead>\n",
              "  <tbody>\n",
              "  </tbody>\n",
              "</table>\n",
              "</div>"
            ],
            "text/plain": [
              "Empty DataFrame\n",
              "Columns: [Agency, Agency Type, Distribution Channel, Product Name, Claim, Duration, Destination, Net Sales, Commision (in value), Age]\n",
              "Index: []"
            ]
          },
          "metadata": {
            "tags": []
          },
          "execution_count": 195
        }
      ]
    },
    {
      "cell_type": "code",
      "metadata": {
        "colab": {
          "base_uri": "https://localhost:8080/",
          "height": 113
        },
        "id": "O-vE37njzFk9",
        "outputId": "18547f15-4691-4307-b2ea-bf8fa6ee0a05"
      },
      "source": [
        "df[df[\"Duration\"]==-2]"
      ],
      "execution_count": null,
      "outputs": [
        {
          "output_type": "execute_result",
          "data": {
            "text/html": [
              "<div>\n",
              "<style scoped>\n",
              "    .dataframe tbody tr th:only-of-type {\n",
              "        vertical-align: middle;\n",
              "    }\n",
              "\n",
              "    .dataframe tbody tr th {\n",
              "        vertical-align: top;\n",
              "    }\n",
              "\n",
              "    .dataframe thead th {\n",
              "        text-align: right;\n",
              "    }\n",
              "</style>\n",
              "<table border=\"1\" class=\"dataframe\">\n",
              "  <thead>\n",
              "    <tr style=\"text-align: right;\">\n",
              "      <th></th>\n",
              "      <th>Agency</th>\n",
              "      <th>Agency Type</th>\n",
              "      <th>Distribution Channel</th>\n",
              "      <th>Product Name</th>\n",
              "      <th>Claim</th>\n",
              "      <th>Duration</th>\n",
              "      <th>Destination</th>\n",
              "      <th>Net Sales</th>\n",
              "      <th>Commision (in value)</th>\n",
              "      <th>Age</th>\n",
              "    </tr>\n",
              "  </thead>\n",
              "  <tbody>\n",
              "    <tr>\n",
              "      <th>48367</th>\n",
              "      <td>JZI</td>\n",
              "      <td>Airlines</td>\n",
              "      <td>Online</td>\n",
              "      <td>Basic Plan</td>\n",
              "      <td>0</td>\n",
              "      <td>-2</td>\n",
              "      <td>BANGLADESH</td>\n",
              "      <td>22.0</td>\n",
              "      <td>7.7</td>\n",
              "      <td>40</td>\n",
              "    </tr>\n",
              "  </tbody>\n",
              "</table>\n",
              "</div>"
            ],
            "text/plain": [
              "      Agency Agency Type  ... Commision (in value) Age\n",
              "48367    JZI    Airlines  ...                  7.7  40\n",
              "\n",
              "[1 rows x 10 columns]"
            ]
          },
          "metadata": {
            "tags": []
          },
          "execution_count": 196
        }
      ]
    },
    {
      "cell_type": "code",
      "metadata": {
        "id": "ppzHTTkYxOEZ"
      },
      "source": [
        "# we replace duration -1 value with 27  INDONESIA,BRUNEI DARUSSALAM travel duration mean time is 27\n",
        "df.loc[df['Duration']==-1, 'Duration'] =27"
      ],
      "execution_count": null,
      "outputs": []
    },
    {
      "cell_type": "code",
      "metadata": {
        "colab": {
          "base_uri": "https://localhost:8080/",
          "height": 65
        },
        "id": "mI22mNZLyFn7",
        "outputId": "1cb6252c-834a-45ba-bfbe-64f0e3d422c7"
      },
      "source": [
        "df[df[\"Duration\"]==-1]"
      ],
      "execution_count": null,
      "outputs": [
        {
          "output_type": "execute_result",
          "data": {
            "text/html": [
              "<div>\n",
              "<style scoped>\n",
              "    .dataframe tbody tr th:only-of-type {\n",
              "        vertical-align: middle;\n",
              "    }\n",
              "\n",
              "    .dataframe tbody tr th {\n",
              "        vertical-align: top;\n",
              "    }\n",
              "\n",
              "    .dataframe thead th {\n",
              "        text-align: right;\n",
              "    }\n",
              "</style>\n",
              "<table border=\"1\" class=\"dataframe\">\n",
              "  <thead>\n",
              "    <tr style=\"text-align: right;\">\n",
              "      <th></th>\n",
              "      <th>Agency</th>\n",
              "      <th>Agency Type</th>\n",
              "      <th>Distribution Channel</th>\n",
              "      <th>Product Name</th>\n",
              "      <th>Claim</th>\n",
              "      <th>Duration</th>\n",
              "      <th>Destination</th>\n",
              "      <th>Net Sales</th>\n",
              "      <th>Commision (in value)</th>\n",
              "      <th>Age</th>\n",
              "    </tr>\n",
              "  </thead>\n",
              "  <tbody>\n",
              "  </tbody>\n",
              "</table>\n",
              "</div>"
            ],
            "text/plain": [
              "Empty DataFrame\n",
              "Columns: [Agency, Agency Type, Distribution Channel, Product Name, Claim, Duration, Destination, Net Sales, Commision (in value), Age]\n",
              "Index: []"
            ]
          },
          "metadata": {
            "tags": []
          },
          "execution_count": 198
        }
      ]
    },
    {
      "cell_type": "code",
      "metadata": {
        "id": "6yV3Z_m-xodP"
      },
      "source": [
        "# we replace duration 0 value with 30 because mode of 0 value desitnation is india.and indias meaan is 30 \n",
        "df.loc[df['Duration']==0, 'Duration'] =30"
      ],
      "execution_count": null,
      "outputs": []
    },
    {
      "cell_type": "code",
      "metadata": {
        "colab": {
          "base_uri": "https://localhost:8080/",
          "height": 65
        },
        "id": "zeafn2bbyIP6",
        "outputId": "632f63bb-fdbf-4776-9211-4658546e6230"
      },
      "source": [
        "df[df[\"Duration\"]==0]"
      ],
      "execution_count": null,
      "outputs": [
        {
          "output_type": "execute_result",
          "data": {
            "text/html": [
              "<div>\n",
              "<style scoped>\n",
              "    .dataframe tbody tr th:only-of-type {\n",
              "        vertical-align: middle;\n",
              "    }\n",
              "\n",
              "    .dataframe tbody tr th {\n",
              "        vertical-align: top;\n",
              "    }\n",
              "\n",
              "    .dataframe thead th {\n",
              "        text-align: right;\n",
              "    }\n",
              "</style>\n",
              "<table border=\"1\" class=\"dataframe\">\n",
              "  <thead>\n",
              "    <tr style=\"text-align: right;\">\n",
              "      <th></th>\n",
              "      <th>Agency</th>\n",
              "      <th>Agency Type</th>\n",
              "      <th>Distribution Channel</th>\n",
              "      <th>Product Name</th>\n",
              "      <th>Claim</th>\n",
              "      <th>Duration</th>\n",
              "      <th>Destination</th>\n",
              "      <th>Net Sales</th>\n",
              "      <th>Commision (in value)</th>\n",
              "      <th>Age</th>\n",
              "    </tr>\n",
              "  </thead>\n",
              "  <tbody>\n",
              "  </tbody>\n",
              "</table>\n",
              "</div>"
            ],
            "text/plain": [
              "Empty DataFrame\n",
              "Columns: [Agency, Agency Type, Distribution Channel, Product Name, Claim, Duration, Destination, Net Sales, Commision (in value), Age]\n",
              "Index: []"
            ]
          },
          "metadata": {
            "tags": []
          },
          "execution_count": 200
        }
      ]
    },
    {
      "cell_type": "code",
      "metadata": {
        "colab": {
          "base_uri": "https://localhost:8080/",
          "height": 336
        },
        "id": "tfF_5cdCzFmP",
        "outputId": "6a82271a-559f-445a-e64f-afeb78188a47"
      },
      "source": [
        "df.head()"
      ],
      "execution_count": null,
      "outputs": [
        {
          "output_type": "execute_result",
          "data": {
            "text/html": [
              "<div>\n",
              "<style scoped>\n",
              "    .dataframe tbody tr th:only-of-type {\n",
              "        vertical-align: middle;\n",
              "    }\n",
              "\n",
              "    .dataframe tbody tr th {\n",
              "        vertical-align: top;\n",
              "    }\n",
              "\n",
              "    .dataframe thead th {\n",
              "        text-align: right;\n",
              "    }\n",
              "</style>\n",
              "<table border=\"1\" class=\"dataframe\">\n",
              "  <thead>\n",
              "    <tr style=\"text-align: right;\">\n",
              "      <th></th>\n",
              "      <th>Agency</th>\n",
              "      <th>Agency Type</th>\n",
              "      <th>Distribution Channel</th>\n",
              "      <th>Product Name</th>\n",
              "      <th>Claim</th>\n",
              "      <th>Duration</th>\n",
              "      <th>Destination</th>\n",
              "      <th>Net Sales</th>\n",
              "      <th>Commision (in value)</th>\n",
              "      <th>Age</th>\n",
              "    </tr>\n",
              "  </thead>\n",
              "  <tbody>\n",
              "    <tr>\n",
              "      <th>0</th>\n",
              "      <td>CWT</td>\n",
              "      <td>Travel Agency</td>\n",
              "      <td>Online</td>\n",
              "      <td>Rental Vehicle Excess Insurance</td>\n",
              "      <td>0</td>\n",
              "      <td>7</td>\n",
              "      <td>MALAYSIA</td>\n",
              "      <td>0.0</td>\n",
              "      <td>17.82</td>\n",
              "      <td>31</td>\n",
              "    </tr>\n",
              "    <tr>\n",
              "      <th>1</th>\n",
              "      <td>EPX</td>\n",
              "      <td>Travel Agency</td>\n",
              "      <td>Online</td>\n",
              "      <td>Cancellation Plan</td>\n",
              "      <td>0</td>\n",
              "      <td>85</td>\n",
              "      <td>SINGAPORE</td>\n",
              "      <td>69.0</td>\n",
              "      <td>0.00</td>\n",
              "      <td>36</td>\n",
              "    </tr>\n",
              "    <tr>\n",
              "      <th>2</th>\n",
              "      <td>CWT</td>\n",
              "      <td>Travel Agency</td>\n",
              "      <td>Online</td>\n",
              "      <td>Rental Vehicle Excess Insurance</td>\n",
              "      <td>0</td>\n",
              "      <td>11</td>\n",
              "      <td>MALAYSIA</td>\n",
              "      <td>19.8</td>\n",
              "      <td>11.88</td>\n",
              "      <td>75</td>\n",
              "    </tr>\n",
              "    <tr>\n",
              "      <th>3</th>\n",
              "      <td>EPX</td>\n",
              "      <td>Travel Agency</td>\n",
              "      <td>Online</td>\n",
              "      <td>2 way Comprehensive Plan</td>\n",
              "      <td>0</td>\n",
              "      <td>16</td>\n",
              "      <td>INDONESIA</td>\n",
              "      <td>20.0</td>\n",
              "      <td>0.00</td>\n",
              "      <td>32</td>\n",
              "    </tr>\n",
              "    <tr>\n",
              "      <th>4</th>\n",
              "      <td>EPX</td>\n",
              "      <td>Travel Agency</td>\n",
              "      <td>Online</td>\n",
              "      <td>Cancellation Plan</td>\n",
              "      <td>0</td>\n",
              "      <td>10</td>\n",
              "      <td>KOREA, REPUBLIC OF</td>\n",
              "      <td>15.0</td>\n",
              "      <td>0.00</td>\n",
              "      <td>29</td>\n",
              "    </tr>\n",
              "  </tbody>\n",
              "</table>\n",
              "</div>"
            ],
            "text/plain": [
              "  Agency    Agency Type  ... Commision (in value) Age\n",
              "0    CWT  Travel Agency  ...                17.82  31\n",
              "1    EPX  Travel Agency  ...                 0.00  36\n",
              "2    CWT  Travel Agency  ...                11.88  75\n",
              "3    EPX  Travel Agency  ...                 0.00  32\n",
              "4    EPX  Travel Agency  ...                 0.00  29\n",
              "\n",
              "[5 rows x 10 columns]"
            ]
          },
          "metadata": {
            "tags": []
          },
          "execution_count": 201
        }
      ]
    },
    {
      "cell_type": "code",
      "metadata": {
        "colab": {
          "base_uri": "https://localhost:8080/"
        },
        "id": "ZozNPIsZzLsU",
        "outputId": "96955e2b-fae4-49fa-ca8e-ed0bd454500b"
      },
      "source": [
        "df.info()"
      ],
      "execution_count": null,
      "outputs": [
        {
          "output_type": "stream",
          "text": [
            "<class 'pandas.core.frame.DataFrame'>\n",
            "RangeIndex: 50553 entries, 0 to 50552\n",
            "Data columns (total 10 columns):\n",
            " #   Column                Non-Null Count  Dtype  \n",
            "---  ------                --------------  -----  \n",
            " 0   Agency                50553 non-null  object \n",
            " 1   Agency Type           50553 non-null  object \n",
            " 2   Distribution Channel  50553 non-null  object \n",
            " 3   Product Name          50553 non-null  object \n",
            " 4   Claim                 50553 non-null  int64  \n",
            " 5   Duration              50553 non-null  int64  \n",
            " 6   Destination           50553 non-null  object \n",
            " 7   Net Sales             50553 non-null  float64\n",
            " 8   Commision (in value)  50553 non-null  float64\n",
            " 9   Age                   50553 non-null  int64  \n",
            "dtypes: float64(2), int64(3), object(5)\n",
            "memory usage: 3.9+ MB\n"
          ],
          "name": "stdout"
        }
      ]
    },
    {
      "cell_type": "code",
      "metadata": {
        "id": "-oZYFfp80OkH"
      },
      "source": [
        "#changing data of claim int to objetive\n",
        "df[\"Claim\"]=df[\"Claim\"].astype('object')"
      ],
      "execution_count": null,
      "outputs": []
    },
    {
      "cell_type": "code",
      "metadata": {
        "id": "x_-hJSn1iX6Q"
      },
      "source": [
        "#changing data of claim int to objetive\n",
        "df[\"Claim\"]=df[\"Claim\"].astype('int')"
      ],
      "execution_count": null,
      "outputs": []
    },
    {
      "cell_type": "code",
      "metadata": {
        "colab": {
          "base_uri": "https://localhost:8080/"
        },
        "id": "2HgeSgy22HT9",
        "outputId": "84bc63e8-3b7f-486c-eafa-41cd3acf18b3"
      },
      "source": [
        "#net sale wont be negative so removing those record \n",
        "df=df[df['Net Sales'] > 0]\n",
        "df['Net Sales'].describe().T"
      ],
      "execution_count": null,
      "outputs": [
        {
          "output_type": "execute_result",
          "data": {
            "text/plain": [
              "count    48536.000000\n",
              "mean        43.148207\n",
              "std         47.939269\n",
              "min          0.070000\n",
              "25%         19.800000\n",
              "50%         28.000000\n",
              "75%         49.500000\n",
              "max        810.000000\n",
              "Name: Net Sales, dtype: float64"
            ]
          },
          "metadata": {
            "tags": []
          },
          "execution_count": 205
        }
      ]
    },
    {
      "cell_type": "code",
      "metadata": {
        "colab": {
          "base_uri": "https://localhost:8080/"
        },
        "id": "sdAo-Sik02KA",
        "outputId": "bee58cf3-209b-4f31-cafb-a75d4a5dfec8"
      },
      "source": [
        "df.info()"
      ],
      "execution_count": null,
      "outputs": [
        {
          "output_type": "stream",
          "text": [
            "<class 'pandas.core.frame.DataFrame'>\n",
            "Int64Index: 48536 entries, 1 to 50552\n",
            "Data columns (total 10 columns):\n",
            " #   Column                Non-Null Count  Dtype  \n",
            "---  ------                --------------  -----  \n",
            " 0   Agency                48536 non-null  object \n",
            " 1   Agency Type           48536 non-null  object \n",
            " 2   Distribution Channel  48536 non-null  object \n",
            " 3   Product Name          48536 non-null  object \n",
            " 4   Claim                 48536 non-null  int64  \n",
            " 5   Duration              48536 non-null  int64  \n",
            " 6   Destination           48536 non-null  object \n",
            " 7   Net Sales             48536 non-null  float64\n",
            " 8   Commision (in value)  48536 non-null  float64\n",
            " 9   Age                   48536 non-null  int64  \n",
            "dtypes: float64(2), int64(3), object(5)\n",
            "memory usage: 4.1+ MB\n"
          ],
          "name": "stdout"
        }
      ]
    },
    {
      "cell_type": "markdown",
      "metadata": {
        "id": "B4zedlsc9_Mc"
      },
      "source": [
        "**Data visualization**"
      ]
    },
    {
      "cell_type": "markdown",
      "metadata": {
        "id": "T7e5i5r7M-6Q"
      },
      "source": [
        "**Agencies with maximum claims**\n"
      ]
    },
    {
      "cell_type": "code",
      "metadata": {
        "colab": {
          "base_uri": "https://localhost:8080/",
          "height": 348
        },
        "id": "EuWpw4W4Ne25",
        "outputId": "470f990e-5e49-4e81-e21e-62a4bbeb9f53"
      },
      "source": [
        "#ploting diffrant diffrant graphs for understnding\n",
        "# Finding the Agencies with the Maximum Claims\n",
        "Claim_mean = (df.groupby('Agency', as_index=False)['Claim'].mean()).nlargest(10,'Claim')\n",
        "Claim_mean"
      ],
      "execution_count": null,
      "outputs": [
        {
          "output_type": "execute_result",
          "data": {
            "text/html": [
              "<div>\n",
              "<style scoped>\n",
              "    .dataframe tbody tr th:only-of-type {\n",
              "        vertical-align: middle;\n",
              "    }\n",
              "\n",
              "    .dataframe tbody tr th {\n",
              "        vertical-align: top;\n",
              "    }\n",
              "\n",
              "    .dataframe thead th {\n",
              "        text-align: right;\n",
              "    }\n",
              "</style>\n",
              "<table border=\"1\" class=\"dataframe\">\n",
              "  <thead>\n",
              "    <tr style=\"text-align: right;\">\n",
              "      <th></th>\n",
              "      <th>Agency</th>\n",
              "      <th>Claim</th>\n",
              "    </tr>\n",
              "  </thead>\n",
              "  <tbody>\n",
              "    <tr>\n",
              "      <th>2</th>\n",
              "      <td>C2B</td>\n",
              "      <td>0.067726</td>\n",
              "    </tr>\n",
              "    <tr>\n",
              "      <th>11</th>\n",
              "      <td>LWC</td>\n",
              "      <td>0.055028</td>\n",
              "    </tr>\n",
              "    <tr>\n",
              "      <th>15</th>\n",
              "      <td>TTW</td>\n",
              "      <td>0.051948</td>\n",
              "    </tr>\n",
              "    <tr>\n",
              "      <th>10</th>\n",
              "      <td>KML</td>\n",
              "      <td>0.022364</td>\n",
              "    </tr>\n",
              "    <tr>\n",
              "      <th>4</th>\n",
              "      <td>CCR</td>\n",
              "      <td>0.019355</td>\n",
              "    </tr>\n",
              "    <tr>\n",
              "      <th>5</th>\n",
              "      <td>CSR</td>\n",
              "      <td>0.014706</td>\n",
              "    </tr>\n",
              "    <tr>\n",
              "      <th>3</th>\n",
              "      <td>CBH</td>\n",
              "      <td>0.013333</td>\n",
              "    </tr>\n",
              "    <tr>\n",
              "      <th>6</th>\n",
              "      <td>CWT</td>\n",
              "      <td>0.011810</td>\n",
              "    </tr>\n",
              "    <tr>\n",
              "      <th>13</th>\n",
              "      <td>SSI</td>\n",
              "      <td>0.006010</td>\n",
              "    </tr>\n",
              "    <tr>\n",
              "      <th>7</th>\n",
              "      <td>EPX</td>\n",
              "      <td>0.005468</td>\n",
              "    </tr>\n",
              "  </tbody>\n",
              "</table>\n",
              "</div>"
            ],
            "text/plain": [
              "   Agency     Claim\n",
              "2     C2B  0.067726\n",
              "11    LWC  0.055028\n",
              "15    TTW  0.051948\n",
              "10    KML  0.022364\n",
              "4     CCR  0.019355\n",
              "5     CSR  0.014706\n",
              "3     CBH  0.013333\n",
              "6     CWT  0.011810\n",
              "13    SSI  0.006010\n",
              "7     EPX  0.005468"
            ]
          },
          "metadata": {
            "tags": []
          },
          "execution_count": 207
        }
      ]
    },
    {
      "cell_type": "code",
      "metadata": {
        "colab": {
          "base_uri": "https://localhost:8080/",
          "height": 280
        },
        "id": "WMNsepJsNkiS",
        "outputId": "7c4b8e87-8f20-4548-e13b-2ed49f572ab4"
      },
      "source": [
        "ax = Claim_mean.plot.bar(x='Agency', y='Claim', rot=0)\n"
      ],
      "execution_count": null,
      "outputs": [
        {
          "output_type": "display_data",
          "data": {
            "image/png": "[encoded data removed]",
            "text/plain": [
              "<Figure size 432x288 with 1 Axes>"
            ]
          },
          "metadata": {
            "tags": [],
            "needs_background": "light"
          }
        }
      ]
    },
    {
      "cell_type": "markdown",
      "metadata": {
        "id": "8Iai5g1dNoDR"
      },
      "source": [
        "**Agencies with the most number of net sales**\n"
      ]
    },
    {
      "cell_type": "code",
      "metadata": {
        "colab": {
          "base_uri": "https://localhost:8080/",
          "height": 348
        },
        "id": "Bbkp5ZPMNqSD",
        "outputId": "2393c21a-ad6a-42b5-9051-fa9121441bb7"
      },
      "source": [
        "netsales_mean = (df.groupby('Agency', as_index=False)['Net Sales'].mean()).nlargest(10,'Net Sales')\n",
        "netsales_mean"
      ],
      "execution_count": null,
      "outputs": [
        {
          "output_type": "execute_result",
          "data": {
            "text/html": [
              "<div>\n",
              "<style scoped>\n",
              "    .dataframe tbody tr th:only-of-type {\n",
              "        vertical-align: middle;\n",
              "    }\n",
              "\n",
              "    .dataframe tbody tr th {\n",
              "        vertical-align: top;\n",
              "    }\n",
              "\n",
              "    .dataframe thead th {\n",
              "        text-align: right;\n",
              "    }\n",
              "</style>\n",
              "<table border=\"1\" class=\"dataframe\">\n",
              "  <thead>\n",
              "    <tr style=\"text-align: right;\">\n",
              "      <th></th>\n",
              "      <th>Agency</th>\n",
              "      <th>Net Sales</th>\n",
              "    </tr>\n",
              "  </thead>\n",
              "  <tbody>\n",
              "    <tr>\n",
              "      <th>11</th>\n",
              "      <td>LWC</td>\n",
              "      <td>120.021442</td>\n",
              "    </tr>\n",
              "    <tr>\n",
              "      <th>0</th>\n",
              "      <td>ADM</td>\n",
              "      <td>97.697674</td>\n",
              "    </tr>\n",
              "    <tr>\n",
              "      <th>15</th>\n",
              "      <td>TTW</td>\n",
              "      <td>93.194805</td>\n",
              "    </tr>\n",
              "    <tr>\n",
              "      <th>2</th>\n",
              "      <td>C2B</td>\n",
              "      <td>81.687274</td>\n",
              "    </tr>\n",
              "    <tr>\n",
              "      <th>10</th>\n",
              "      <td>KML</td>\n",
              "      <td>57.329073</td>\n",
              "    </tr>\n",
              "    <tr>\n",
              "      <th>8</th>\n",
              "      <td>JWT</td>\n",
              "      <td>55.108514</td>\n",
              "    </tr>\n",
              "    <tr>\n",
              "      <th>6</th>\n",
              "      <td>CWT</td>\n",
              "      <td>53.973741</td>\n",
              "    </tr>\n",
              "    <tr>\n",
              "      <th>5</th>\n",
              "      <td>CSR</td>\n",
              "      <td>33.808824</td>\n",
              "    </tr>\n",
              "    <tr>\n",
              "      <th>7</th>\n",
              "      <td>EPX</td>\n",
              "      <td>33.473937</td>\n",
              "    </tr>\n",
              "    <tr>\n",
              "      <th>9</th>\n",
              "      <td>JZI</td>\n",
              "      <td>33.370798</td>\n",
              "    </tr>\n",
              "  </tbody>\n",
              "</table>\n",
              "</div>"
            ],
            "text/plain": [
              "   Agency   Net Sales\n",
              "11    LWC  120.021442\n",
              "0     ADM   97.697674\n",
              "15    TTW   93.194805\n",
              "2     C2B   81.687274\n",
              "10    KML   57.329073\n",
              "8     JWT   55.108514\n",
              "6     CWT   53.973741\n",
              "5     CSR   33.808824\n",
              "7     EPX   33.473937\n",
              "9     JZI   33.370798"
            ]
          },
          "metadata": {
            "tags": []
          },
          "execution_count": 209
        }
      ]
    },
    {
      "cell_type": "code",
      "metadata": {
        "colab": {
          "base_uri": "https://localhost:8080/",
          "height": 279
        },
        "id": "3lYna1b1Nybm",
        "outputId": "0365fdfb-64e7-4dfb-ced0-42664700a906"
      },
      "source": [
        "ax1 = netsales_mean.plot.bar(x='Agency', y='Net Sales', rot=0)"
      ],
      "execution_count": null,
      "outputs": [
        {
          "output_type": "display_data",
          "data": {
            "image/png": "[encoded data removed]",
            "text/plain": [
              "<Figure size 432x288 with 1 Axes>"
            ]
          },
          "metadata": {
            "tags": [],
            "needs_background": "light"
          }
        }
      ]
    },
    {
      "cell_type": "code",
      "metadata": {
        "colab": {
          "base_uri": "https://localhost:8080/",
          "height": 462
        },
        "id": "is0cahuIN4QK",
        "outputId": "0574bfbc-257f-49f8-baf7-82ee85c7790c"
      },
      "source": [
        "plot2 = sns.catplot(x=\"Agency Type\", col=\"Claim\",data=df, kind=\"count\",height=4, aspect=.7)\n",
        "df.pivot_table(index=['Agency Type'],columns=['Claim'], values=['Agency'], aggfunc='count')"
      ],
      "execution_count": null,
      "outputs": [
        {
          "output_type": "execute_result",
          "data": {
            "text/html": [
              "<div>\n",
              "<style scoped>\n",
              "    .dataframe tbody tr th:only-of-type {\n",
              "        vertical-align: middle;\n",
              "    }\n",
              "\n",
              "    .dataframe tbody tr th {\n",
              "        vertical-align: top;\n",
              "    }\n",
              "\n",
              "    .dataframe thead tr th {\n",
              "        text-align: left;\n",
              "    }\n",
              "\n",
              "    .dataframe thead tr:last-of-type th {\n",
              "        text-align: right;\n",
              "    }\n",
              "</style>\n",
              "<table border=\"1\" class=\"dataframe\">\n",
              "  <thead>\n",
              "    <tr>\n",
              "      <th></th>\n",
              "      <th colspan=\"2\" halign=\"left\">Agency</th>\n",
              "    </tr>\n",
              "    <tr>\n",
              "      <th>Claim</th>\n",
              "      <th>0</th>\n",
              "      <th>1</th>\n",
              "    </tr>\n",
              "    <tr>\n",
              "      <th>Agency Type</th>\n",
              "      <th></th>\n",
              "      <th></th>\n",
              "    </tr>\n",
              "  </thead>\n",
              "  <tbody>\n",
              "    <tr>\n",
              "      <th>Airlines</th>\n",
              "      <td>13199</td>\n",
              "      <td>473</td>\n",
              "    </tr>\n",
              "    <tr>\n",
              "      <th>Travel Agency</th>\n",
              "      <td>34599</td>\n",
              "      <td>265</td>\n",
              "    </tr>\n",
              "  </tbody>\n",
              "</table>\n",
              "</div>"
            ],
            "text/plain": [
              "              Agency     \n",
              "Claim              0    1\n",
              "Agency Type              \n",
              "Airlines       13199  473\n",
              "Travel Agency  34599  265"
            ]
          },
          "metadata": {
            "tags": []
          },
          "execution_count": 211
        },
        {
          "output_type": "display_data",
          "data": {
            "image/png": "[encoded data removed]",
            "text/plain": [
              "<Figure size 403.2x288 with 2 Axes>"
            ]
          },
          "metadata": {
            "tags": [],
            "needs_background": "light"
          }
        }
      ]
    },
    {
      "cell_type": "code",
      "metadata": {
        "colab": {
          "base_uri": "https://localhost:8080/",
          "height": 828
        },
        "id": "_oV3XHJ_ODxC",
        "outputId": "3aca807a-1980-44c3-b7fe-049ec713b6ee"
      },
      "source": [
        "df.pivot_table(index = ['Product Name'], values = ['Net Sales'], aggfunc = 'mean')\n"
      ],
      "execution_count": null,
      "outputs": [
        {
          "output_type": "execute_result",
          "data": {
            "text/html": [
              "<div>\n",
              "<style scoped>\n",
              "    .dataframe tbody tr th:only-of-type {\n",
              "        vertical-align: middle;\n",
              "    }\n",
              "\n",
              "    .dataframe tbody tr th {\n",
              "        vertical-align: top;\n",
              "    }\n",
              "\n",
              "    .dataframe thead th {\n",
              "        text-align: right;\n",
              "    }\n",
              "</style>\n",
              "<table border=\"1\" class=\"dataframe\">\n",
              "  <thead>\n",
              "    <tr style=\"text-align: right;\">\n",
              "      <th></th>\n",
              "      <th>Net Sales</th>\n",
              "    </tr>\n",
              "    <tr>\n",
              "      <th>Product Name</th>\n",
              "      <th></th>\n",
              "    </tr>\n",
              "  </thead>\n",
              "  <tbody>\n",
              "    <tr>\n",
              "      <th>1 way Comprehensive Plan</th>\n",
              "      <td>28.476154</td>\n",
              "    </tr>\n",
              "    <tr>\n",
              "      <th>2 way Comprehensive Plan</th>\n",
              "      <td>43.524684</td>\n",
              "    </tr>\n",
              "    <tr>\n",
              "      <th>24 Protect</th>\n",
              "      <td>24.324706</td>\n",
              "    </tr>\n",
              "    <tr>\n",
              "      <th>Annual Gold Plan</th>\n",
              "      <td>362.430000</td>\n",
              "    </tr>\n",
              "    <tr>\n",
              "      <th>Annual Silver Plan</th>\n",
              "      <td>227.285451</td>\n",
              "    </tr>\n",
              "    <tr>\n",
              "      <th>Annual Travel Protect Gold</th>\n",
              "      <td>249.142593</td>\n",
              "    </tr>\n",
              "    <tr>\n",
              "      <th>Annual Travel Protect Platinum</th>\n",
              "      <td>335.104444</td>\n",
              "    </tr>\n",
              "    <tr>\n",
              "      <th>Annual Travel Protect Silver</th>\n",
              "      <td>211.761765</td>\n",
              "    </tr>\n",
              "    <tr>\n",
              "      <th>Basic Plan</th>\n",
              "      <td>27.075577</td>\n",
              "    </tr>\n",
              "    <tr>\n",
              "      <th>Bronze Plan</th>\n",
              "      <td>33.803918</td>\n",
              "    </tr>\n",
              "    <tr>\n",
              "      <th>Cancellation Plan</th>\n",
              "      <td>27.256394</td>\n",
              "    </tr>\n",
              "    <tr>\n",
              "      <th>Child Comprehensive Plan</th>\n",
              "      <td>74.000000</td>\n",
              "    </tr>\n",
              "    <tr>\n",
              "      <th>Comprehensive Plan</th>\n",
              "      <td>30.021127</td>\n",
              "    </tr>\n",
              "    <tr>\n",
              "      <th>Gold Plan</th>\n",
              "      <td>86.322500</td>\n",
              "    </tr>\n",
              "    <tr>\n",
              "      <th>Individual Comprehensive Plan</th>\n",
              "      <td>97.000000</td>\n",
              "    </tr>\n",
              "    <tr>\n",
              "      <th>Premier Plan</th>\n",
              "      <td>79.138889</td>\n",
              "    </tr>\n",
              "    <tr>\n",
              "      <th>Rental Vehicle Excess Insurance</th>\n",
              "      <td>53.973741</td>\n",
              "    </tr>\n",
              "    <tr>\n",
              "      <th>Silver Plan</th>\n",
              "      <td>51.496579</td>\n",
              "    </tr>\n",
              "    <tr>\n",
              "      <th>Single Trip Travel Protect Gold</th>\n",
              "      <td>42.277333</td>\n",
              "    </tr>\n",
              "    <tr>\n",
              "      <th>Single Trip Travel Protect Platinum</th>\n",
              "      <td>47.684545</td>\n",
              "    </tr>\n",
              "    <tr>\n",
              "      <th>Single Trip Travel Protect Silver</th>\n",
              "      <td>36.148438</td>\n",
              "    </tr>\n",
              "    <tr>\n",
              "      <th>Spouse or Parents Comprehensive Plan</th>\n",
              "      <td>86.000000</td>\n",
              "    </tr>\n",
              "    <tr>\n",
              "      <th>Ticket Protector</th>\n",
              "      <td>6.488774</td>\n",
              "    </tr>\n",
              "    <tr>\n",
              "      <th>Travel Cruise Protect</th>\n",
              "      <td>30.000000</td>\n",
              "    </tr>\n",
              "    <tr>\n",
              "      <th>Value Plan</th>\n",
              "      <td>50.639810</td>\n",
              "    </tr>\n",
              "  </tbody>\n",
              "</table>\n",
              "</div>"
            ],
            "text/plain": [
              "                                       Net Sales\n",
              "Product Name                                    \n",
              "1 way Comprehensive Plan               28.476154\n",
              "2 way Comprehensive Plan               43.524684\n",
              "24 Protect                             24.324706\n",
              "Annual Gold Plan                      362.430000\n",
              "Annual Silver Plan                    227.285451\n",
              "Annual Travel Protect Gold            249.142593\n",
              "Annual Travel Protect Platinum        335.104444\n",
              "Annual Travel Protect Silver          211.761765\n",
              "Basic Plan                             27.075577\n",
              "Bronze Plan                            33.803918\n",
              "Cancellation Plan                      27.256394\n",
              "Child Comprehensive Plan               74.000000\n",
              "Comprehensive Plan                     30.021127\n",
              "Gold Plan                              86.322500\n",
              "Individual Comprehensive Plan          97.000000\n",
              "Premier Plan                           79.138889\n",
              "Rental Vehicle Excess Insurance        53.973741\n",
              "Silver Plan                            51.496579\n",
              "Single Trip Travel Protect Gold        42.277333\n",
              "Single Trip Travel Protect Platinum    47.684545\n",
              "Single Trip Travel Protect Silver      36.148438\n",
              "Spouse or Parents Comprehensive Plan   86.000000\n",
              "Ticket Protector                        6.488774\n",
              "Travel Cruise Protect                  30.000000\n",
              "Value Plan                             50.639810"
            ]
          },
          "metadata": {
            "tags": []
          },
          "execution_count": 212
        }
      ]
    },
    {
      "cell_type": "markdown",
      "metadata": {
        "id": "a84o2T5t6ByD"
      },
      "source": [
        "**We can see from above Desity,Commision,Net sale,duration,clasim positivly skewd**"
      ]
    },
    {
      "cell_type": "code",
      "metadata": {
        "id": "cHUtp1Yhe8Y3"
      },
      "source": [
        "#seprating numeric and catagorical data\n",
        "df_num=df.select_dtypes([\"int\",\"float\"])\n",
        "df_cat=df.select_dtypes(\"object\")"
      ],
      "execution_count": null,
      "outputs": []
    },
    {
      "cell_type": "code",
      "metadata": {
        "colab": {
          "base_uri": "https://localhost:8080/",
          "height": 198
        },
        "id": "WaE3s9QPfAqQ",
        "outputId": "b5b447de-f829-41a1-9a57-3257c7256777"
      },
      "source": [
        "df_num.head()"
      ],
      "execution_count": null,
      "outputs": [
        {
          "output_type": "execute_result",
          "data": {
            "text/html": [
              "<div>\n",
              "<style scoped>\n",
              "    .dataframe tbody tr th:only-of-type {\n",
              "        vertical-align: middle;\n",
              "    }\n",
              "\n",
              "    .dataframe tbody tr th {\n",
              "        vertical-align: top;\n",
              "    }\n",
              "\n",
              "    .dataframe thead th {\n",
              "        text-align: right;\n",
              "    }\n",
              "</style>\n",
              "<table border=\"1\" class=\"dataframe\">\n",
              "  <thead>\n",
              "    <tr style=\"text-align: right;\">\n",
              "      <th></th>\n",
              "      <th>Claim</th>\n",
              "      <th>Duration</th>\n",
              "      <th>Net Sales</th>\n",
              "      <th>Commision (in value)</th>\n",
              "      <th>Age</th>\n",
              "    </tr>\n",
              "  </thead>\n",
              "  <tbody>\n",
              "    <tr>\n",
              "      <th>1</th>\n",
              "      <td>0</td>\n",
              "      <td>85</td>\n",
              "      <td>69.0</td>\n",
              "      <td>0.00</td>\n",
              "      <td>36</td>\n",
              "    </tr>\n",
              "    <tr>\n",
              "      <th>2</th>\n",
              "      <td>0</td>\n",
              "      <td>11</td>\n",
              "      <td>19.8</td>\n",
              "      <td>11.88</td>\n",
              "      <td>75</td>\n",
              "    </tr>\n",
              "    <tr>\n",
              "      <th>3</th>\n",
              "      <td>0</td>\n",
              "      <td>16</td>\n",
              "      <td>20.0</td>\n",
              "      <td>0.00</td>\n",
              "      <td>32</td>\n",
              "    </tr>\n",
              "    <tr>\n",
              "      <th>4</th>\n",
              "      <td>0</td>\n",
              "      <td>10</td>\n",
              "      <td>15.0</td>\n",
              "      <td>0.00</td>\n",
              "      <td>29</td>\n",
              "    </tr>\n",
              "    <tr>\n",
              "      <th>5</th>\n",
              "      <td>0</td>\n",
              "      <td>64</td>\n",
              "      <td>49.5</td>\n",
              "      <td>29.70</td>\n",
              "      <td>36</td>\n",
              "    </tr>\n",
              "  </tbody>\n",
              "</table>\n",
              "</div>"
            ],
            "text/plain": [
              "   Claim  Duration  Net Sales  Commision (in value)  Age\n",
              "1      0        85       69.0                  0.00   36\n",
              "2      0        11       19.8                 11.88   75\n",
              "3      0        16       20.0                  0.00   32\n",
              "4      0        10       15.0                  0.00   29\n",
              "5      0        64       49.5                 29.70   36"
            ]
          },
          "metadata": {
            "tags": []
          },
          "execution_count": 214
        }
      ]
    },
    {
      "cell_type": "markdown",
      "metadata": {
        "id": "vkypIM1az47s"
      },
      "source": [
        "**Skewness**"
      ]
    },
    {
      "cell_type": "code",
      "metadata": {
        "colab": {
          "base_uri": "https://localhost:8080/",
          "height": 1418
        },
        "id": "vGsPHWC7fDfC",
        "outputId": "48422d10-aca1-43ef-fd78-77433e16f0be"
      },
      "source": [
        "from scipy.stats import skew\n",
        "\n",
        "for col in df_num:\n",
        "  plt.figure()\n",
        "  sns.distplot(df_num[col])\n",
        "  plt.show()\n",
        "  print(col, skew(df_num[col]))"
      ],
      "execution_count": null,
      "outputs": [
        {
          "output_type": "display_data",
          "data": {
            "image/png": "[encoded data removed]",
            "text/plain": [
              "<Figure size 432x288 with 1 Axes>"
            ]
          },
          "metadata": {
            "tags": [],
            "needs_background": "light"
          }
        },
        {
          "output_type": "stream",
          "text": [
            "Claim 7.9235331542150345\n"
          ],
          "name": "stdout"
        },
        {
          "output_type": "display_data",
          "data": {
            "image/png": "[encoded data removed]",
            "text/plain": [
              "<Figure size 432x288 with 1 Axes>"
            ]
          },
          "metadata": {
            "tags": [],
            "needs_background": "light"
          }
        },
        {
          "output_type": "stream",
          "text": [
            "Duration 23.133461068585436\n"
          ],
          "name": "stdout"
        },
        {
          "output_type": "display_data",
          "data": {
            "image/png": "[encoded data removed]",
            "text/plain": [
              "<Figure size 432x288 with 1 Axes>"
            ]
          },
          "metadata": {
            "tags": [],
            "needs_background": "light"
          }
        },
        {
          "output_type": "stream",
          "text": [
            "Net Sales 3.7486997052049746\n"
          ],
          "name": "stdout"
        },
        {
          "output_type": "display_data",
          "data": {
            "image/png": "[encoded data removed]",
            "text/plain": [
              "<Figure size 432x288 with 1 Axes>"
            ]
          },
          "metadata": {
            "tags": [],
            "needs_background": "light"
          }
        },
        {
          "output_type": "stream",
          "text": [
            "Commision (in value) 4.276732044098302\n"
          ],
          "name": "stdout"
        },
        {
          "output_type": "display_data",
          "data": {
            "image/png": "[encoded data removed]",
            "text/plain": [
              "<Figure size 432x288 with 1 Axes>"
            ]
          },
          "metadata": {
            "tags": [],
            "needs_background": "light"
          }
        },
        {
          "output_type": "stream",
          "text": [
            "Age 1.2148443680304253\n"
          ],
          "name": "stdout"
        }
      ]
    },
    {
      "cell_type": "code",
      "metadata": {
        "id": "Ojh9SibhmQYs"
      },
      "source": [
        "#store claim column in variable\n",
        "df_numnew=df_num[\"Claim\"]\n",
        "df_numwitoutclaim=df_num[[\"Duration\",\"Net Sales\",\"Commision (in value)\",\"Age\"]]"
      ],
      "execution_count": null,
      "outputs": []
    },
    {
      "cell_type": "code",
      "metadata": {
        "colab": {
          "base_uri": "https://localhost:8080/",
          "height": 407
        },
        "id": "X32grr-wnIWh",
        "outputId": "a9219893-c04d-4afa-9091-d6e8fe4e5f24"
      },
      "source": [
        "df_numwitoutclaim"
      ],
      "execution_count": null,
      "outputs": [
        {
          "output_type": "execute_result",
          "data": {
            "text/html": [
              "<div>\n",
              "<style scoped>\n",
              "    .dataframe tbody tr th:only-of-type {\n",
              "        vertical-align: middle;\n",
              "    }\n",
              "\n",
              "    .dataframe tbody tr th {\n",
              "        vertical-align: top;\n",
              "    }\n",
              "\n",
              "    .dataframe thead th {\n",
              "        text-align: right;\n",
              "    }\n",
              "</style>\n",
              "<table border=\"1\" class=\"dataframe\">\n",
              "  <thead>\n",
              "    <tr style=\"text-align: right;\">\n",
              "      <th></th>\n",
              "      <th>Duration</th>\n",
              "      <th>Net Sales</th>\n",
              "      <th>Commision (in value)</th>\n",
              "      <th>Age</th>\n",
              "    </tr>\n",
              "  </thead>\n",
              "  <tbody>\n",
              "    <tr>\n",
              "      <th>1</th>\n",
              "      <td>85</td>\n",
              "      <td>69.0</td>\n",
              "      <td>0.00</td>\n",
              "      <td>36</td>\n",
              "    </tr>\n",
              "    <tr>\n",
              "      <th>2</th>\n",
              "      <td>11</td>\n",
              "      <td>19.8</td>\n",
              "      <td>11.88</td>\n",
              "      <td>75</td>\n",
              "    </tr>\n",
              "    <tr>\n",
              "      <th>3</th>\n",
              "      <td>16</td>\n",
              "      <td>20.0</td>\n",
              "      <td>0.00</td>\n",
              "      <td>32</td>\n",
              "    </tr>\n",
              "    <tr>\n",
              "      <th>4</th>\n",
              "      <td>10</td>\n",
              "      <td>15.0</td>\n",
              "      <td>0.00</td>\n",
              "      <td>29</td>\n",
              "    </tr>\n",
              "    <tr>\n",
              "      <th>5</th>\n",
              "      <td>64</td>\n",
              "      <td>49.5</td>\n",
              "      <td>29.70</td>\n",
              "      <td>36</td>\n",
              "    </tr>\n",
              "    <tr>\n",
              "      <th>...</th>\n",
              "      <td>...</td>\n",
              "      <td>...</td>\n",
              "      <td>...</td>\n",
              "      <td>...</td>\n",
              "    </tr>\n",
              "    <tr>\n",
              "      <th>50548</th>\n",
              "      <td>11</td>\n",
              "      <td>99.0</td>\n",
              "      <td>59.40</td>\n",
              "      <td>50</td>\n",
              "    </tr>\n",
              "    <tr>\n",
              "      <th>50549</th>\n",
              "      <td>48</td>\n",
              "      <td>20.0</td>\n",
              "      <td>0.00</td>\n",
              "      <td>36</td>\n",
              "    </tr>\n",
              "    <tr>\n",
              "      <th>50550</th>\n",
              "      <td>24</td>\n",
              "      <td>28.0</td>\n",
              "      <td>10.64</td>\n",
              "      <td>48</td>\n",
              "    </tr>\n",
              "    <tr>\n",
              "      <th>50551</th>\n",
              "      <td>25</td>\n",
              "      <td>15.0</td>\n",
              "      <td>0.00</td>\n",
              "      <td>36</td>\n",
              "    </tr>\n",
              "    <tr>\n",
              "      <th>50552</th>\n",
              "      <td>9</td>\n",
              "      <td>20.0</td>\n",
              "      <td>0.00</td>\n",
              "      <td>59</td>\n",
              "    </tr>\n",
              "  </tbody>\n",
              "</table>\n",
              "<p>48536 rows × 4 columns</p>\n",
              "</div>"
            ],
            "text/plain": [
              "       Duration  Net Sales  Commision (in value)  Age\n",
              "1            85       69.0                  0.00   36\n",
              "2            11       19.8                 11.88   75\n",
              "3            16       20.0                  0.00   32\n",
              "4            10       15.0                  0.00   29\n",
              "5            64       49.5                 29.70   36\n",
              "...         ...        ...                   ...  ...\n",
              "50548        11       99.0                 59.40   50\n",
              "50549        48       20.0                  0.00   36\n",
              "50550        24       28.0                 10.64   48\n",
              "50551        25       15.0                  0.00   36\n",
              "50552         9       20.0                  0.00   59\n",
              "\n",
              "[48536 rows x 4 columns]"
            ]
          },
          "metadata": {
            "tags": []
          },
          "execution_count": 217
        }
      ]
    },
    {
      "cell_type": "code",
      "metadata": {
        "colab": {
          "base_uri": "https://localhost:8080/"
        },
        "id": "vhvzs806nNNP",
        "outputId": "99c602b2-d108-4f9c-f9dd-3142e66f6cfe"
      },
      "source": [
        "df_numnew"
      ],
      "execution_count": null,
      "outputs": [
        {
          "output_type": "execute_result",
          "data": {
            "text/plain": [
              "1        0\n",
              "2        0\n",
              "3        0\n",
              "4        0\n",
              "5        0\n",
              "        ..\n",
              "50548    0\n",
              "50549    0\n",
              "50550    0\n",
              "50551    0\n",
              "50552    0\n",
              "Name: Claim, Length: 48536, dtype: int64"
            ]
          },
          "metadata": {
            "tags": []
          },
          "execution_count": 218
        }
      ]
    },
    {
      "cell_type": "code",
      "metadata": {
        "colab": {
          "base_uri": "https://localhost:8080/",
          "height": 1137
        },
        "id": "NwLf9Bm_nWYH",
        "outputId": "637a71ac-9ea5-4b73-e86a-278dabc3b44a"
      },
      "source": [
        "#lets see skewness\n",
        "for col in df_numwitoutclaim:\n",
        "  plt.figure()\n",
        "  sns.distplot(df_numwitoutclaim[col])\n",
        "  plt.show()\n",
        "  print(col, skew(df_numwitoutclaim[col]))"
      ],
      "execution_count": null,
      "outputs": [
        {
          "output_type": "display_data",
          "data": {
            "image/png": "[encoded data removed]",
            "text/plain": [
              "<Figure size 432x288 with 1 Axes>"
            ]
          },
          "metadata": {
            "tags": [],
            "needs_background": "light"
          }
        },
        {
          "output_type": "stream",
          "text": [
            "Duration 23.133461068585436\n"
          ],
          "name": "stdout"
        },
        {
          "output_type": "display_data",
          "data": {
            "image/png": "[encoded data removed]",
            "text/plain": [
              "<Figure size 432x288 with 1 Axes>"
            ]
          },
          "metadata": {
            "tags": [],
            "needs_background": "light"
          }
        },
        {
          "output_type": "stream",
          "text": [
            "Net Sales 3.7486997052049746\n"
          ],
          "name": "stdout"
        },
        {
          "output_type": "display_data",
          "data": {
            "image/png": "[encoded data removed]",
            "text/plain": [
              "<Figure size 432x288 with 1 Axes>"
            ]
          },
          "metadata": {
            "tags": [],
            "needs_background": "light"
          }
        },
        {
          "output_type": "stream",
          "text": [
            "Commision (in value) 4.276732044098302\n"
          ],
          "name": "stdout"
        },
        {
          "output_type": "display_data",
          "data": {
            "image/png": "[encoded data removed]",
            "text/plain": [
              "<Figure size 432x288 with 1 Axes>"
            ]
          },
          "metadata": {
            "tags": [],
            "needs_background": "light"
          }
        },
        {
          "output_type": "stream",
          "text": [
            "Age 1.2148443680304253\n"
          ],
          "name": "stdout"
        }
      ]
    },
    {
      "cell_type": "code",
      "metadata": {
        "id": "z37FTT0-3csP"
      },
      "source": [
        "#removing skewness\n",
        "for col in df_numwitoutclaim:\n",
        "  if skew(df_numwitoutclaim[col]) >= 0.5 or skew(df_numwitoutclaim[col]) <= -0.5:\n",
        "    df_numwitoutclaim[col] = np.sqrt(df_numwitoutclaim[col])\n",
        "    "
      ],
      "execution_count": null,
      "outputs": []
    },
    {
      "cell_type": "code",
      "metadata": {
        "colab": {
          "base_uri": "https://localhost:8080/",
          "height": 1137
        },
        "id": "9e6wyBfL3ct5",
        "outputId": "47ed628d-2d3c-4ad9-8fa1-f537de94e124"
      },
      "source": [
        "for col in df_numwitoutclaim:\n",
        "  plt.figure()\n",
        "  sns.distplot(df_numwitoutclaim[col])\n",
        "  plt.show()\n",
        "  print(col, skew(df_numwitoutclaim[col]))"
      ],
      "execution_count": null,
      "outputs": [
        {
          "output_type": "display_data",
          "data": {
            "image/png": "[encoded data removed]",
            "text/plain": [
              "<Figure size 432x288 with 1 Axes>"
            ]
          },
          "metadata": {
            "tags": [],
            "needs_background": "light"
          }
        },
        {
          "output_type": "stream",
          "text": [
            "Duration nan\n"
          ],
          "name": "stdout"
        },
        {
          "output_type": "display_data",
          "data": {
            "image/png": "[encoded data removed]",
            "text/plain": [
              "<Figure size 432x288 with 1 Axes>"
            ]
          },
          "metadata": {
            "tags": [],
            "needs_background": "light"
          }
        },
        {
          "output_type": "stream",
          "text": [
            "Net Sales 1.8479734387767213\n"
          ],
          "name": "stdout"
        },
        {
          "output_type": "display_data",
          "data": {
            "image/png": "[encoded data removed]",
            "text/plain": [
              "<Figure size 432x288 with 1 Axes>"
            ]
          },
          "metadata": {
            "tags": [],
            "needs_background": "light"
          }
        },
        {
          "output_type": "stream",
          "text": [
            "Commision (in value) 1.4209919803987445\n"
          ],
          "name": "stdout"
        },
        {
          "output_type": "display_data",
          "data": {
            "image/png": "[encoded data removed]",
            "text/plain": [
              "<Figure size 432x288 with 1 Axes>"
            ]
          },
          "metadata": {
            "tags": [],
            "needs_background": "light"
          }
        },
        {
          "output_type": "stream",
          "text": [
            "Age 0.6971452234312263\n"
          ],
          "name": "stdout"
        }
      ]
    },
    {
      "cell_type": "markdown",
      "metadata": {
        "id": "didZ00Ok-gmq"
      },
      "source": [
        "**Combine Data**"
      ]
    },
    {
      "cell_type": "code",
      "metadata": {
        "id": "jWyeGZsNodQB"
      },
      "source": [
        "df_num=pd.concat([df_numwitoutclaim,df_numnew],axis=1)"
      ],
      "execution_count": null,
      "outputs": []
    },
    {
      "cell_type": "code",
      "metadata": {
        "colab": {
          "base_uri": "https://localhost:8080/",
          "height": 407
        },
        "id": "zQiM6sFf6UTG",
        "outputId": "d0108862-fa8d-4ba1-bb33-53f1ccbd5721"
      },
      "source": [
        "df_num"
      ],
      "execution_count": null,
      "outputs": [
        {
          "output_type": "execute_result",
          "data": {
            "text/html": [
              "<div>\n",
              "<style scoped>\n",
              "    .dataframe tbody tr th:only-of-type {\n",
              "        vertical-align: middle;\n",
              "    }\n",
              "\n",
              "    .dataframe tbody tr th {\n",
              "        vertical-align: top;\n",
              "    }\n",
              "\n",
              "    .dataframe thead th {\n",
              "        text-align: right;\n",
              "    }\n",
              "</style>\n",
              "<table border=\"1\" class=\"dataframe\">\n",
              "  <thead>\n",
              "    <tr style=\"text-align: right;\">\n",
              "      <th></th>\n",
              "      <th>Duration</th>\n",
              "      <th>Net Sales</th>\n",
              "      <th>Commision (in value)</th>\n",
              "      <th>Age</th>\n",
              "      <th>Claim</th>\n",
              "    </tr>\n",
              "  </thead>\n",
              "  <tbody>\n",
              "    <tr>\n",
              "      <th>1</th>\n",
              "      <td>9.219544</td>\n",
              "      <td>8.306624</td>\n",
              "      <td>0.000000</td>\n",
              "      <td>6.000000</td>\n",
              "      <td>0</td>\n",
              "    </tr>\n",
              "    <tr>\n",
              "      <th>2</th>\n",
              "      <td>3.316625</td>\n",
              "      <td>4.449719</td>\n",
              "      <td>3.446738</td>\n",
              "      <td>8.660254</td>\n",
              "      <td>0</td>\n",
              "    </tr>\n",
              "    <tr>\n",
              "      <th>3</th>\n",
              "      <td>4.000000</td>\n",
              "      <td>4.472136</td>\n",
              "      <td>0.000000</td>\n",
              "      <td>5.656854</td>\n",
              "      <td>0</td>\n",
              "    </tr>\n",
              "    <tr>\n",
              "      <th>4</th>\n",
              "      <td>3.162278</td>\n",
              "      <td>3.872983</td>\n",
              "      <td>0.000000</td>\n",
              "      <td>5.385165</td>\n",
              "      <td>0</td>\n",
              "    </tr>\n",
              "    <tr>\n",
              "      <th>5</th>\n",
              "      <td>8.000000</td>\n",
              "      <td>7.035624</td>\n",
              "      <td>5.449771</td>\n",
              "      <td>6.000000</td>\n",
              "      <td>0</td>\n",
              "    </tr>\n",
              "    <tr>\n",
              "      <th>...</th>\n",
              "      <td>...</td>\n",
              "      <td>...</td>\n",
              "      <td>...</td>\n",
              "      <td>...</td>\n",
              "      <td>...</td>\n",
              "    </tr>\n",
              "    <tr>\n",
              "      <th>50548</th>\n",
              "      <td>3.316625</td>\n",
              "      <td>9.949874</td>\n",
              "      <td>7.707140</td>\n",
              "      <td>7.071068</td>\n",
              "      <td>0</td>\n",
              "    </tr>\n",
              "    <tr>\n",
              "      <th>50549</th>\n",
              "      <td>6.928203</td>\n",
              "      <td>4.472136</td>\n",
              "      <td>0.000000</td>\n",
              "      <td>6.000000</td>\n",
              "      <td>0</td>\n",
              "    </tr>\n",
              "    <tr>\n",
              "      <th>50550</th>\n",
              "      <td>4.898979</td>\n",
              "      <td>5.291503</td>\n",
              "      <td>3.261901</td>\n",
              "      <td>6.928203</td>\n",
              "      <td>0</td>\n",
              "    </tr>\n",
              "    <tr>\n",
              "      <th>50551</th>\n",
              "      <td>5.000000</td>\n",
              "      <td>3.872983</td>\n",
              "      <td>0.000000</td>\n",
              "      <td>6.000000</td>\n",
              "      <td>0</td>\n",
              "    </tr>\n",
              "    <tr>\n",
              "      <th>50552</th>\n",
              "      <td>3.000000</td>\n",
              "      <td>4.472136</td>\n",
              "      <td>0.000000</td>\n",
              "      <td>7.681146</td>\n",
              "      <td>0</td>\n",
              "    </tr>\n",
              "  </tbody>\n",
              "</table>\n",
              "<p>48536 rows × 5 columns</p>\n",
              "</div>"
            ],
            "text/plain": [
              "       Duration  Net Sales  Commision (in value)       Age  Claim\n",
              "1      9.219544   8.306624              0.000000  6.000000      0\n",
              "2      3.316625   4.449719              3.446738  8.660254      0\n",
              "3      4.000000   4.472136              0.000000  5.656854      0\n",
              "4      3.162278   3.872983              0.000000  5.385165      0\n",
              "5      8.000000   7.035624              5.449771  6.000000      0\n",
              "...         ...        ...                   ...       ...    ...\n",
              "50548  3.316625   9.949874              7.707140  7.071068      0\n",
              "50549  6.928203   4.472136              0.000000  6.000000      0\n",
              "50550  4.898979   5.291503              3.261901  6.928203      0\n",
              "50551  5.000000   3.872983              0.000000  6.000000      0\n",
              "50552  3.000000   4.472136              0.000000  7.681146      0\n",
              "\n",
              "[48536 rows x 5 columns]"
            ]
          },
          "metadata": {
            "tags": []
          },
          "execution_count": 223
        }
      ]
    },
    {
      "cell_type": "markdown",
      "metadata": {
        "id": "QJiKZwSN-pat"
      },
      "source": [
        "**Encoding of data**"
      ]
    },
    {
      "cell_type": "code",
      "metadata": {
        "id": "FJgd9RuRozSx"
      },
      "source": [
        "from sklearn.preprocessing import LabelEncoder\n",
        "for col in df_cat:\n",
        "    le = LabelEncoder()\n",
        "    df_cat[col] = le.fit_transform(df_cat[col])"
      ],
      "execution_count": null,
      "outputs": []
    },
    {
      "cell_type": "code",
      "metadata": {
        "colab": {
          "base_uri": "https://localhost:8080/",
          "height": 407
        },
        "id": "597ehtzIp4z3",
        "outputId": "1641075d-f374-4e4f-9795-c60c4b78605a"
      },
      "source": [
        "df_cat"
      ],
      "execution_count": null,
      "outputs": [
        {
          "output_type": "execute_result",
          "data": {
            "text/html": [
              "<div>\n",
              "<style scoped>\n",
              "    .dataframe tbody tr th:only-of-type {\n",
              "        vertical-align: middle;\n",
              "    }\n",
              "\n",
              "    .dataframe tbody tr th {\n",
              "        vertical-align: top;\n",
              "    }\n",
              "\n",
              "    .dataframe thead th {\n",
              "        text-align: right;\n",
              "    }\n",
              "</style>\n",
              "<table border=\"1\" class=\"dataframe\">\n",
              "  <thead>\n",
              "    <tr style=\"text-align: right;\">\n",
              "      <th></th>\n",
              "      <th>Agency</th>\n",
              "      <th>Agency Type</th>\n",
              "      <th>Distribution Channel</th>\n",
              "      <th>Product Name</th>\n",
              "      <th>Destination</th>\n",
              "    </tr>\n",
              "  </thead>\n",
              "  <tbody>\n",
              "    <tr>\n",
              "      <th>1</th>\n",
              "      <td>7</td>\n",
              "      <td>1</td>\n",
              "      <td>1</td>\n",
              "      <td>10</td>\n",
              "      <td>79</td>\n",
              "    </tr>\n",
              "    <tr>\n",
              "      <th>2</th>\n",
              "      <td>6</td>\n",
              "      <td>1</td>\n",
              "      <td>1</td>\n",
              "      <td>16</td>\n",
              "      <td>56</td>\n",
              "    </tr>\n",
              "    <tr>\n",
              "      <th>3</th>\n",
              "      <td>7</td>\n",
              "      <td>1</td>\n",
              "      <td>1</td>\n",
              "      <td>1</td>\n",
              "      <td>38</td>\n",
              "    </tr>\n",
              "    <tr>\n",
              "      <th>4</th>\n",
              "      <td>7</td>\n",
              "      <td>1</td>\n",
              "      <td>1</td>\n",
              "      <td>10</td>\n",
              "      <td>47</td>\n",
              "    </tr>\n",
              "    <tr>\n",
              "      <th>5</th>\n",
              "      <td>6</td>\n",
              "      <td>1</td>\n",
              "      <td>1</td>\n",
              "      <td>16</td>\n",
              "      <td>88</td>\n",
              "    </tr>\n",
              "    <tr>\n",
              "      <th>...</th>\n",
              "      <td>...</td>\n",
              "      <td>...</td>\n",
              "      <td>...</td>\n",
              "      <td>...</td>\n",
              "      <td>...</td>\n",
              "    </tr>\n",
              "    <tr>\n",
              "      <th>50548</th>\n",
              "      <td>6</td>\n",
              "      <td>1</td>\n",
              "      <td>1</td>\n",
              "      <td>16</td>\n",
              "      <td>65</td>\n",
              "    </tr>\n",
              "    <tr>\n",
              "      <th>50549</th>\n",
              "      <td>7</td>\n",
              "      <td>1</td>\n",
              "      <td>1</td>\n",
              "      <td>0</td>\n",
              "      <td>38</td>\n",
              "    </tr>\n",
              "    <tr>\n",
              "      <th>50550</th>\n",
              "      <td>10</td>\n",
              "      <td>1</td>\n",
              "      <td>1</td>\n",
              "      <td>24</td>\n",
              "      <td>38</td>\n",
              "    </tr>\n",
              "    <tr>\n",
              "      <th>50551</th>\n",
              "      <td>7</td>\n",
              "      <td>1</td>\n",
              "      <td>1</td>\n",
              "      <td>10</td>\n",
              "      <td>7</td>\n",
              "    </tr>\n",
              "    <tr>\n",
              "      <th>50552</th>\n",
              "      <td>7</td>\n",
              "      <td>1</td>\n",
              "      <td>1</td>\n",
              "      <td>0</td>\n",
              "      <td>79</td>\n",
              "    </tr>\n",
              "  </tbody>\n",
              "</table>\n",
              "<p>48536 rows × 5 columns</p>\n",
              "</div>"
            ],
            "text/plain": [
              "       Agency  Agency Type  Distribution Channel  Product Name  Destination\n",
              "1           7            1                     1            10           79\n",
              "2           6            1                     1            16           56\n",
              "3           7            1                     1             1           38\n",
              "4           7            1                     1            10           47\n",
              "5           6            1                     1            16           88\n",
              "...       ...          ...                   ...           ...          ...\n",
              "50548       6            1                     1            16           65\n",
              "50549       7            1                     1             0           38\n",
              "50550      10            1                     1            24           38\n",
              "50551       7            1                     1            10            7\n",
              "50552       7            1                     1             0           79\n",
              "\n",
              "[48536 rows x 5 columns]"
            ]
          },
          "metadata": {
            "tags": []
          },
          "execution_count": 225
        }
      ]
    },
    {
      "cell_type": "code",
      "metadata": {
        "id": "zIuMH40Ep88n"
      },
      "source": [
        "df_new=pd.concat([df_num,df_cat],axis=1)"
      ],
      "execution_count": null,
      "outputs": []
    },
    {
      "cell_type": "code",
      "metadata": {
        "colab": {
          "base_uri": "https://localhost:8080/",
          "height": 425
        },
        "id": "YPPJ_QYNqDIS",
        "outputId": "8c187749-6676-4d5a-c89a-ee44963146bd"
      },
      "source": [
        "df_new"
      ],
      "execution_count": null,
      "outputs": [
        {
          "output_type": "execute_result",
          "data": {
            "text/html": [
              "<div>\n",
              "<style scoped>\n",
              "    .dataframe tbody tr th:only-of-type {\n",
              "        vertical-align: middle;\n",
              "    }\n",
              "\n",
              "    .dataframe tbody tr th {\n",
              "        vertical-align: top;\n",
              "    }\n",
              "\n",
              "    .dataframe thead th {\n",
              "        text-align: right;\n",
              "    }\n",
              "</style>\n",
              "<table border=\"1\" class=\"dataframe\">\n",
              "  <thead>\n",
              "    <tr style=\"text-align: right;\">\n",
              "      <th></th>\n",
              "      <th>Duration</th>\n",
              "      <th>Net Sales</th>\n",
              "      <th>Commision (in value)</th>\n",
              "      <th>Age</th>\n",
              "      <th>Claim</th>\n",
              "      <th>Agency</th>\n",
              "      <th>Agency Type</th>\n",
              "      <th>Distribution Channel</th>\n",
              "      <th>Product Name</th>\n",
              "      <th>Destination</th>\n",
              "    </tr>\n",
              "  </thead>\n",
              "  <tbody>\n",
              "    <tr>\n",
              "      <th>1</th>\n",
              "      <td>9.219544</td>\n",
              "      <td>8.306624</td>\n",
              "      <td>0.000000</td>\n",
              "      <td>6.000000</td>\n",
              "      <td>0</td>\n",
              "      <td>7</td>\n",
              "      <td>1</td>\n",
              "      <td>1</td>\n",
              "      <td>10</td>\n",
              "      <td>79</td>\n",
              "    </tr>\n",
              "    <tr>\n",
              "      <th>2</th>\n",
              "      <td>3.316625</td>\n",
              "      <td>4.449719</td>\n",
              "      <td>3.446738</td>\n",
              "      <td>8.660254</td>\n",
              "      <td>0</td>\n",
              "      <td>6</td>\n",
              "      <td>1</td>\n",
              "      <td>1</td>\n",
              "      <td>16</td>\n",
              "      <td>56</td>\n",
              "    </tr>\n",
              "    <tr>\n",
              "      <th>3</th>\n",
              "      <td>4.000000</td>\n",
              "      <td>4.472136</td>\n",
              "      <td>0.000000</td>\n",
              "      <td>5.656854</td>\n",
              "      <td>0</td>\n",
              "      <td>7</td>\n",
              "      <td>1</td>\n",
              "      <td>1</td>\n",
              "      <td>1</td>\n",
              "      <td>38</td>\n",
              "    </tr>\n",
              "    <tr>\n",
              "      <th>4</th>\n",
              "      <td>3.162278</td>\n",
              "      <td>3.872983</td>\n",
              "      <td>0.000000</td>\n",
              "      <td>5.385165</td>\n",
              "      <td>0</td>\n",
              "      <td>7</td>\n",
              "      <td>1</td>\n",
              "      <td>1</td>\n",
              "      <td>10</td>\n",
              "      <td>47</td>\n",
              "    </tr>\n",
              "    <tr>\n",
              "      <th>5</th>\n",
              "      <td>8.000000</td>\n",
              "      <td>7.035624</td>\n",
              "      <td>5.449771</td>\n",
              "      <td>6.000000</td>\n",
              "      <td>0</td>\n",
              "      <td>6</td>\n",
              "      <td>1</td>\n",
              "      <td>1</td>\n",
              "      <td>16</td>\n",
              "      <td>88</td>\n",
              "    </tr>\n",
              "    <tr>\n",
              "      <th>...</th>\n",
              "      <td>...</td>\n",
              "      <td>...</td>\n",
              "      <td>...</td>\n",
              "      <td>...</td>\n",
              "      <td>...</td>\n",
              "      <td>...</td>\n",
              "      <td>...</td>\n",
              "      <td>...</td>\n",
              "      <td>...</td>\n",
              "      <td>...</td>\n",
              "    </tr>\n",
              "    <tr>\n",
              "      <th>50548</th>\n",
              "      <td>3.316625</td>\n",
              "      <td>9.949874</td>\n",
              "      <td>7.707140</td>\n",
              "      <td>7.071068</td>\n",
              "      <td>0</td>\n",
              "      <td>6</td>\n",
              "      <td>1</td>\n",
              "      <td>1</td>\n",
              "      <td>16</td>\n",
              "      <td>65</td>\n",
              "    </tr>\n",
              "    <tr>\n",
              "      <th>50549</th>\n",
              "      <td>6.928203</td>\n",
              "      <td>4.472136</td>\n",
              "      <td>0.000000</td>\n",
              "      <td>6.000000</td>\n",
              "      <td>0</td>\n",
              "      <td>7</td>\n",
              "      <td>1</td>\n",
              "      <td>1</td>\n",
              "      <td>0</td>\n",
              "      <td>38</td>\n",
              "    </tr>\n",
              "    <tr>\n",
              "      <th>50550</th>\n",
              "      <td>4.898979</td>\n",
              "      <td>5.291503</td>\n",
              "      <td>3.261901</td>\n",
              "      <td>6.928203</td>\n",
              "      <td>0</td>\n",
              "      <td>10</td>\n",
              "      <td>1</td>\n",
              "      <td>1</td>\n",
              "      <td>24</td>\n",
              "      <td>38</td>\n",
              "    </tr>\n",
              "    <tr>\n",
              "      <th>50551</th>\n",
              "      <td>5.000000</td>\n",
              "      <td>3.872983</td>\n",
              "      <td>0.000000</td>\n",
              "      <td>6.000000</td>\n",
              "      <td>0</td>\n",
              "      <td>7</td>\n",
              "      <td>1</td>\n",
              "      <td>1</td>\n",
              "      <td>10</td>\n",
              "      <td>7</td>\n",
              "    </tr>\n",
              "    <tr>\n",
              "      <th>50552</th>\n",
              "      <td>3.000000</td>\n",
              "      <td>4.472136</td>\n",
              "      <td>0.000000</td>\n",
              "      <td>7.681146</td>\n",
              "      <td>0</td>\n",
              "      <td>7</td>\n",
              "      <td>1</td>\n",
              "      <td>1</td>\n",
              "      <td>0</td>\n",
              "      <td>79</td>\n",
              "    </tr>\n",
              "  </tbody>\n",
              "</table>\n",
              "<p>48536 rows × 10 columns</p>\n",
              "</div>"
            ],
            "text/plain": [
              "       Duration  Net Sales  ...  Product Name  Destination\n",
              "1      9.219544   8.306624  ...            10           79\n",
              "2      3.316625   4.449719  ...            16           56\n",
              "3      4.000000   4.472136  ...             1           38\n",
              "4      3.162278   3.872983  ...            10           47\n",
              "5      8.000000   7.035624  ...            16           88\n",
              "...         ...        ...  ...           ...          ...\n",
              "50548  3.316625   9.949874  ...            16           65\n",
              "50549  6.928203   4.472136  ...             0           38\n",
              "50550  4.898979   5.291503  ...            24           38\n",
              "50551  5.000000   3.872983  ...            10            7\n",
              "50552  3.000000   4.472136  ...             0           79\n",
              "\n",
              "[48536 rows x 10 columns]"
            ]
          },
          "metadata": {
            "tags": []
          },
          "execution_count": 227
        }
      ]
    },
    {
      "cell_type": "markdown",
      "metadata": {
        "id": "aOavBS-T-yF2"
      },
      "source": [
        "**Ploting Data for multicolinearity**"
      ]
    },
    {
      "cell_type": "code",
      "metadata": {
        "colab": {
          "base_uri": "https://localhost:8080/",
          "height": 648
        },
        "id": "Jvnv1AGkpHUI",
        "outputId": "5babb4ee-9c27-4430-87f6-7deb85c80feb"
      },
      "source": [
        "#ploting heatmap\n",
        "plt.show()\n",
        "plt.figure(figsize=(18,12))\n",
        "sns.heatmap(df_new.corr(),annot=True)"
      ],
      "execution_count": null,
      "outputs": [
        {
          "output_type": "execute_result",
          "data": {
            "text/plain": [
              "<matplotlib.axes._subplots.AxesSubplot at 0x7fa38fe81fd0>"
            ]
          },
          "metadata": {
            "tags": []
          },
          "execution_count": 228
        },
        {
          "output_type": "display_data",
          "data": {
            "image/png": "[encoded data removed]",
            "text/plain": [
              "<Figure size 1296x864 with 2 Axes>"
            ]
          },
          "metadata": {
            "tags": [],
            "needs_background": "light"
          }
        }
      ]
    },
    {
      "cell_type": "markdown",
      "metadata": {
        "id": "EPT-zRJz-3Ir"
      },
      "source": [
        "**as we can see from fig there is multicolineaarity in between Commision (in value) and agancy**"
      ]
    },
    {
      "cell_type": "code",
      "metadata": {
        "id": "KnlgbPkmqlio"
      },
      "source": [
        "#Dropping Commision (in value)\tbecause it multicolinear with agancy\n",
        "df_new.drop(\"Commision (in value)\",axis=1,inplace=True)\n"
      ],
      "execution_count": null,
      "outputs": []
    },
    {
      "cell_type": "markdown",
      "metadata": {
        "id": "sFl-s1FH0UDp"
      },
      "source": [
        "**outliers Checking**"
      ]
    },
    {
      "cell_type": "code",
      "metadata": {
        "id": "R08L4U-y7pfB"
      },
      "source": [
        "#checking outliers in Net sales\n",
        "q1 =np.quantile(df_num[\"Net Sales\"], 0.25)\n",
        "q2=np.quantile(df_num[\"Net Sales\"],0.50)\n",
        "q3=np.quantile(df_num[\"Net Sales\"],0.75)"
      ],
      "execution_count": null,
      "outputs": []
    },
    {
      "cell_type": "code",
      "metadata": {
        "colab": {
          "base_uri": "https://localhost:8080/"
        },
        "id": "VKalMSg47zGI",
        "outputId": "4ab629aa-1ef8-44d4-d395-35e6cd21f103"
      },
      "source": [
        "print(q1,q2,q3)"
      ],
      "execution_count": null,
      "outputs": [
        {
          "output_type": "stream",
          "text": [
            "4.449719092257398 5.291502622129181 7.035623639735144\n"
          ],
          "name": "stdout"
        }
      ]
    },
    {
      "cell_type": "code",
      "metadata": {
        "colab": {
          "base_uri": "https://localhost:8080/"
        },
        "id": "YRHRh4Kt704m",
        "outputId": "898725da-373f-4e2c-d9b4-b89275581365"
      },
      "source": [
        "IQR=q3-q1\n",
        "IQR"
      ],
      "execution_count": null,
      "outputs": [
        {
          "output_type": "execute_result",
          "data": {
            "text/plain": [
              "2.585904547477746"
            ]
          },
          "metadata": {
            "tags": []
          },
          "execution_count": 232
        }
      ]
    },
    {
      "cell_type": "code",
      "metadata": {
        "colab": {
          "base_uri": "https://localhost:8080/"
        },
        "id": "Hf8Y_fWd72hy",
        "outputId": "9deed954-aeee-4220-dac2-9986fcd3092b"
      },
      "source": [
        "UW= q3+1.5*IQR\n",
        "LW=q1-1.5*IQR\n",
        "print(UW,LW)"
      ],
      "execution_count": null,
      "outputs": [
        {
          "output_type": "stream",
          "text": [
            "10.914480460951763 0.5708622710407791\n"
          ],
          "name": "stdout"
        }
      ]
    },
    {
      "cell_type": "code",
      "metadata": {
        "colab": {
          "base_uri": "https://localhost:8080/",
          "height": 407
        },
        "id": "PGZbgCaf75DR",
        "outputId": "7f77016e-263d-4ea4-a936-fab6dc5bcc59"
      },
      "source": [
        "df_num[df_num[\"Net Sales\"] > UW]"
      ],
      "execution_count": null,
      "outputs": [
        {
          "output_type": "execute_result",
          "data": {
            "text/html": [
              "<div>\n",
              "<style scoped>\n",
              "    .dataframe tbody tr th:only-of-type {\n",
              "        vertical-align: middle;\n",
              "    }\n",
              "\n",
              "    .dataframe tbody tr th {\n",
              "        vertical-align: top;\n",
              "    }\n",
              "\n",
              "    .dataframe thead th {\n",
              "        text-align: right;\n",
              "    }\n",
              "</style>\n",
              "<table border=\"1\" class=\"dataframe\">\n",
              "  <thead>\n",
              "    <tr style=\"text-align: right;\">\n",
              "      <th></th>\n",
              "      <th>Duration</th>\n",
              "      <th>Net Sales</th>\n",
              "      <th>Commision (in value)</th>\n",
              "      <th>Age</th>\n",
              "      <th>Claim</th>\n",
              "    </tr>\n",
              "  </thead>\n",
              "  <tbody>\n",
              "    <tr>\n",
              "      <th>64</th>\n",
              "      <td>19.646883</td>\n",
              "      <td>14.696938</td>\n",
              "      <td>7.348469</td>\n",
              "      <td>7.280110</td>\n",
              "      <td>0</td>\n",
              "    </tr>\n",
              "    <tr>\n",
              "      <th>99</th>\n",
              "      <td>19.364917</td>\n",
              "      <td>19.731954</td>\n",
              "      <td>9.866104</td>\n",
              "      <td>5.099020</td>\n",
              "      <td>0</td>\n",
              "    </tr>\n",
              "    <tr>\n",
              "      <th>111</th>\n",
              "      <td>20.760539</td>\n",
              "      <td>16.501515</td>\n",
              "      <td>8.251061</td>\n",
              "      <td>5.830952</td>\n",
              "      <td>1</td>\n",
              "    </tr>\n",
              "    <tr>\n",
              "      <th>188</th>\n",
              "      <td>8.306624</td>\n",
              "      <td>12.922848</td>\n",
              "      <td>7.645260</td>\n",
              "      <td>7.416198</td>\n",
              "      <td>0</td>\n",
              "    </tr>\n",
              "    <tr>\n",
              "      <th>202</th>\n",
              "      <td>11.618950</td>\n",
              "      <td>16.046807</td>\n",
              "      <td>8.023715</td>\n",
              "      <td>9.000000</td>\n",
              "      <td>1</td>\n",
              "    </tr>\n",
              "    <tr>\n",
              "      <th>...</th>\n",
              "      <td>...</td>\n",
              "      <td>...</td>\n",
              "      <td>...</td>\n",
              "      <td>...</td>\n",
              "      <td>...</td>\n",
              "    </tr>\n",
              "    <tr>\n",
              "      <th>50437</th>\n",
              "      <td>3.464102</td>\n",
              "      <td>11.789826</td>\n",
              "      <td>5.894913</td>\n",
              "      <td>7.348469</td>\n",
              "      <td>0</td>\n",
              "    </tr>\n",
              "    <tr>\n",
              "      <th>50466</th>\n",
              "      <td>19.949937</td>\n",
              "      <td>18.248288</td>\n",
              "      <td>9.124144</td>\n",
              "      <td>6.403124</td>\n",
              "      <td>0</td>\n",
              "    </tr>\n",
              "    <tr>\n",
              "      <th>50493</th>\n",
              "      <td>19.157244</td>\n",
              "      <td>12.688578</td>\n",
              "      <td>6.344289</td>\n",
              "      <td>7.071068</td>\n",
              "      <td>0</td>\n",
              "    </tr>\n",
              "    <tr>\n",
              "      <th>50513</th>\n",
              "      <td>19.104973</td>\n",
              "      <td>15.901258</td>\n",
              "      <td>7.950472</td>\n",
              "      <td>5.567764</td>\n",
              "      <td>0</td>\n",
              "    </tr>\n",
              "    <tr>\n",
              "      <th>50536</th>\n",
              "      <td>19.416488</td>\n",
              "      <td>15.901258</td>\n",
              "      <td>7.950472</td>\n",
              "      <td>7.874008</td>\n",
              "      <td>0</td>\n",
              "    </tr>\n",
              "  </tbody>\n",
              "</table>\n",
              "<p>2194 rows × 5 columns</p>\n",
              "</div>"
            ],
            "text/plain": [
              "        Duration  Net Sales  Commision (in value)       Age  Claim\n",
              "64     19.646883  14.696938              7.348469  7.280110      0\n",
              "99     19.364917  19.731954              9.866104  5.099020      0\n",
              "111    20.760539  16.501515              8.251061  5.830952      1\n",
              "188     8.306624  12.922848              7.645260  7.416198      0\n",
              "202    11.618950  16.046807              8.023715  9.000000      1\n",
              "...          ...        ...                   ...       ...    ...\n",
              "50437   3.464102  11.789826              5.894913  7.348469      0\n",
              "50466  19.949937  18.248288              9.124144  6.403124      0\n",
              "50493  19.157244  12.688578              6.344289  7.071068      0\n",
              "50513  19.104973  15.901258              7.950472  5.567764      0\n",
              "50536  19.416488  15.901258              7.950472  7.874008      0\n",
              "\n",
              "[2194 rows x 5 columns]"
            ]
          },
          "metadata": {
            "tags": []
          },
          "execution_count": 234
        }
      ]
    },
    {
      "cell_type": "code",
      "metadata": {
        "colab": {
          "base_uri": "https://localhost:8080/"
        },
        "id": "hOtvioiE7-g-",
        "outputId": "15e7bf61-415c-42d9-e749-16ddff99e998"
      },
      "source": [
        "#Duration\n",
        "q1 =np.quantile(df_new[\"Duration\"], 0.25)\n",
        "q2=np.quantile(df_new[\"Duration\"],0.50)\n",
        "q3=np.quantile(df_new[\"Duration\"],0.75)\n",
        "print(q1,q2,q3)"
      ],
      "execution_count": null,
      "outputs": [
        {
          "output_type": "stream",
          "text": [
            "nan nan nan\n"
          ],
          "name": "stdout"
        }
      ]
    },
    {
      "cell_type": "code",
      "metadata": {
        "colab": {
          "base_uri": "https://localhost:8080/"
        },
        "id": "m7-C0xX88CHo",
        "outputId": "2c5826d0-0fc9-44c4-9cfc-7c9a3c1495df"
      },
      "source": [
        "IQR=q3-q1\n",
        "IQR"
      ],
      "execution_count": null,
      "outputs": [
        {
          "output_type": "execute_result",
          "data": {
            "text/plain": [
              "nan"
            ]
          },
          "metadata": {
            "tags": []
          },
          "execution_count": 236
        }
      ]
    },
    {
      "cell_type": "code",
      "metadata": {
        "colab": {
          "base_uri": "https://localhost:8080/"
        },
        "id": "iqdUXytn8CJB",
        "outputId": "eb3c1e6c-1b4c-4490-9518-e03d5298c160"
      },
      "source": [
        "UW= q3+1.5*IQR\n",
        "LW=q1-1.5*IQR\n",
        "print(UW,LW)"
      ],
      "execution_count": null,
      "outputs": [
        {
          "output_type": "stream",
          "text": [
            "nan nan\n"
          ],
          "name": "stdout"
        }
      ]
    },
    {
      "cell_type": "code",
      "metadata": {
        "colab": {
          "base_uri": "https://localhost:8080/",
          "height": 48
        },
        "id": "XgRWdCj38JqY",
        "outputId": "66ca0365-d0eb-468f-b16a-4418913e97aa"
      },
      "source": [
        "df_new[df_new[\"Duration\"] > UW]"
      ],
      "execution_count": null,
      "outputs": [
        {
          "output_type": "execute_result",
          "data": {
            "text/html": [
              "<div>\n",
              "<style scoped>\n",
              "    .dataframe tbody tr th:only-of-type {\n",
              "        vertical-align: middle;\n",
              "    }\n",
              "\n",
              "    .dataframe tbody tr th {\n",
              "        vertical-align: top;\n",
              "    }\n",
              "\n",
              "    .dataframe thead th {\n",
              "        text-align: right;\n",
              "    }\n",
              "</style>\n",
              "<table border=\"1\" class=\"dataframe\">\n",
              "  <thead>\n",
              "    <tr style=\"text-align: right;\">\n",
              "      <th></th>\n",
              "      <th>Duration</th>\n",
              "      <th>Net Sales</th>\n",
              "      <th>Age</th>\n",
              "      <th>Claim</th>\n",
              "      <th>Agency</th>\n",
              "      <th>Agency Type</th>\n",
              "      <th>Distribution Channel</th>\n",
              "      <th>Product Name</th>\n",
              "      <th>Destination</th>\n",
              "    </tr>\n",
              "  </thead>\n",
              "  <tbody>\n",
              "  </tbody>\n",
              "</table>\n",
              "</div>"
            ],
            "text/plain": [
              "Empty DataFrame\n",
              "Columns: [Duration, Net Sales, Age, Claim, Agency, Agency Type, Distribution Channel, Product Name, Destination]\n",
              "Index: []"
            ]
          },
          "metadata": {
            "tags": []
          },
          "execution_count": 238
        }
      ]
    },
    {
      "cell_type": "markdown",
      "metadata": {
        "id": "sSzcuHby_Mff"
      },
      "source": [
        "**Lets Check the ration of Claim and Non Claim data**"
      ]
    },
    {
      "cell_type": "code",
      "metadata": {
        "id": "NPZ1G3sa3Jrd"
      },
      "source": [
        "LABELS = [\"Non_claim\",\"Clamin\"]"
      ],
      "execution_count": null,
      "outputs": []
    },
    {
      "cell_type": "code",
      "metadata": {
        "colab": {
          "base_uri": "https://localhost:8080/",
          "height": 315
        },
        "id": "KcDjGybU2evG",
        "outputId": "0656b079-4855-4dc2-91ec-3bf220587278"
      },
      "source": [
        "count_classes = pd.value_counts(df_new['Claim'], sort = True)\n",
        "\n",
        "count_classes.plot(kind = 'bar', rot=0)\n",
        "\n",
        "plt.title(\"Insurance Claim\")\n",
        "\n",
        "plt.xticks(range(2), LABELS)\n",
        "\n",
        "plt.xlabel(\"Claim\")\n",
        "\n",
        "plt.ylabel(\"Frequency\")"
      ],
      "execution_count": null,
      "outputs": [
        {
          "output_type": "execute_result",
          "data": {
            "text/plain": [
              "Text(0, 0.5, 'Frequency')"
            ]
          },
          "metadata": {
            "tags": []
          },
          "execution_count": 240
        },
        {
          "output_type": "display_data",
          "data": {
            "image/png": "[encoded data removed]",
            "text/plain": [
              "<Figure size 432x288 with 1 Axes>"
            ]
          },
          "metadata": {
            "tags": [],
            "needs_background": "light"
          }
        }
      ]
    },
    {
      "cell_type": "code",
      "metadata": {
        "colab": {
          "base_uri": "https://localhost:8080/",
          "height": 484
        },
        "id": "Pz6J3eW1zNjF",
        "outputId": "24751817-a009-460a-d87d-ace4894ad844"
      },
      "source": [
        "print(df_new[\"Claim\"].value_counts())\n",
        "print(\"---------------------------------------------------\")\n",
        "plt.figure(figsize=(7,7))\n",
        "df[\"Claim\"].value_counts().plot.pie(autopct=\"%.1f%%\")\n",
        "plt.show()"
      ],
      "execution_count": null,
      "outputs": [
        {
          "output_type": "stream",
          "text": [
            "0    47798\n",
            "1      738\n",
            "Name: Claim, dtype: int64\n",
            "---------------------------------------------------\n"
          ],
          "name": "stdout"
        },
        {
          "output_type": "display_data",
          "data": {
            "image/png": "[encoded data removed]",
            "text/plain": [
              "<Figure size 504x504 with 1 Axes>"
            ]
          },
          "metadata": {
            "tags": []
          }
        }
      ]
    },
    {
      "cell_type": "code",
      "metadata": {
        "id": "zIExYZ0q6G-1"
      },
      "source": [
        "df_new=df_new.dropna()"
      ],
      "execution_count": null,
      "outputs": []
    },
    {
      "cell_type": "markdown",
      "metadata": {
        "id": "bjsqv2zd_VVq"
      },
      "source": [
        "**From above fig we can see there is huge inbalance data**\n"
      ]
    },
    {
      "cell_type": "code",
      "metadata": {
        "id": "nrfTXh3hqg-O"
      },
      "source": [
        "X = df_new.drop(\"Claim\",axis=1)\n",
        "y = df_new[\"Claim\"]"
      ],
      "execution_count": null,
      "outputs": []
    },
    {
      "cell_type": "markdown",
      "metadata": {
        "id": "lkeT13dy0rSj"
      },
      "source": [
        "**Base line model**"
      ]
    },
    {
      "cell_type": "markdown",
      "metadata": {
        "id": "6zXI83FNP0F8"
      },
      "source": [
        "**Filter Method -- Feature Selection**"
      ]
    },
    {
      "cell_type": "code",
      "metadata": {
        "id": "25Hboezjfmhw"
      },
      "source": [
        "from sklearn.model_selection import train_test_split\n",
        "X_train, X_test, y_train, y_test = train_test_split(X,y,test_size=0.3,random_state=1)"
      ],
      "execution_count": null,
      "outputs": []
    },
    {
      "cell_type": "code",
      "metadata": {
        "id": "fVy1XdioP1ZC"
      },
      "source": [
        "from sklearn.feature_selection import chi2\n",
        "from sklearn.feature_selection import f_classif\n",
        "from sklearn.feature_selection import SelectKBest\n",
        "fe=SelectKBest(score_func=chi2,k=5)\n",
        "X_train_fe=fe.fit_transform(X_train,y_train)\n",
        "X_test_fe=fe.transform(X_test)"
      ],
      "execution_count": null,
      "outputs": []
    },
    {
      "cell_type": "markdown",
      "metadata": {
        "id": "t9KNoycrQJ3_"
      },
      "source": [
        "**StandardScaler**"
      ]
    },
    {
      "cell_type": "code",
      "metadata": {
        "id": "7mxNi2miQL5x"
      },
      "source": [
        "from sklearn.preprocessing import StandardScaler\n",
        "ss=StandardScaler()\n"
      ],
      "execution_count": null,
      "outputs": []
    },
    {
      "cell_type": "code",
      "metadata": {
        "id": "XpNIym33QddG"
      },
      "source": [
        "X_train_ss=ss.fit_transform(X_train_fe)\n",
        "X_test_ss=ss.transform(X_test_fe)\n"
      ],
      "execution_count": null,
      "outputs": []
    },
    {
      "cell_type": "markdown",
      "metadata": {
        "id": "5QqGoznL_fS2"
      },
      "source": [
        "**Data imbalance Process**"
      ]
    },
    {
      "cell_type": "markdown",
      "metadata": {
        "id": "hWBoyXm20yqu"
      },
      "source": [
        "**We are doing Oversampling because undersampling required huge amount of data and chances of lossing data is high**"
      ]
    },
    {
      "cell_type": "markdown",
      "metadata": {
        "id": "KhweYyYZRaa1"
      },
      "source": [
        "**oversampling**"
      ]
    },
    {
      "cell_type": "code",
      "metadata": {
        "id": "KoXOkcrpQdjO"
      },
      "source": [
        "from imblearn.over_sampling import RandomOverSampler"
      ],
      "execution_count": null,
      "outputs": []
    },
    {
      "cell_type": "code",
      "metadata": {
        "colab": {
          "base_uri": "https://localhost:8080/"
        },
        "id": "OrLnC1VLQdlz",
        "outputId": "b4add687-8a5f-45fb-8756-261833b22f62"
      },
      "source": [
        "ros=RandomOverSampler(random_state=1)\n",
        "X_sample2 ,y_sample2=ros.fit_resample(X_train_ss,y_train)\n",
        "pd.Series(y_sample2).value_counts()\n"
      ],
      "execution_count": null,
      "outputs": [
        {
          "output_type": "execute_result",
          "data": {
            "text/plain": [
              "1    33443\n",
              "0    33443\n",
              "dtype: int64"
            ]
          },
          "metadata": {
            "tags": []
          },
          "execution_count": 262
        }
      ]
    },
    {
      "cell_type": "markdown",
      "metadata": {
        "id": "GUf-NeHGSEbQ"
      },
      "source": [
        "**Modeling Process**\n",
        "**Model-1 LogisticRegression**"
      ]
    },
    {
      "cell_type": "code",
      "metadata": {
        "id": "6lwoAqT6Qdns"
      },
      "source": [
        "from sklearn.linear_model import LogisticRegression"
      ],
      "execution_count": null,
      "outputs": []
    },
    {
      "cell_type": "code",
      "metadata": {
        "id": "HPAK7TluS6NT"
      },
      "source": [
        "lr1=LogisticRegression()"
      ],
      "execution_count": null,
      "outputs": []
    },
    {
      "cell_type": "code",
      "metadata": {
        "colab": {
          "base_uri": "https://localhost:8080/"
        },
        "id": "cKA346yhS6PX",
        "outputId": "b912f829-e8ab-4f41-871a-cfccd28ca62b"
      },
      "source": [
        "lr1.fit(X_sample2,y_sample2)"
      ],
      "execution_count": null,
      "outputs": [
        {
          "output_type": "execute_result",
          "data": {
            "text/plain": [
              "LogisticRegression(C=1.0, class_weight=None, dual=False, fit_intercept=True,\n",
              "                   intercept_scaling=1, l1_ratio=None, max_iter=100,\n",
              "                   multi_class='auto', n_jobs=None, penalty='l2',\n",
              "                   random_state=None, solver='lbfgs', tol=0.0001, verbose=0,\n",
              "                   warm_start=False)"
            ]
          },
          "metadata": {
            "tags": []
          },
          "execution_count": 265
        }
      ]
    },
    {
      "cell_type": "code",
      "metadata": {
        "id": "ItAgQ9z5TAqO"
      },
      "source": [
        "score=cross_val_score(lr1,X_sample2,y_sample2,cv=5)"
      ],
      "execution_count": null,
      "outputs": []
    },
    {
      "cell_type": "code",
      "metadata": {
        "colab": {
          "base_uri": "https://localhost:8080/"
        },
        "id": "Db5FSbfnTAsO",
        "outputId": "35452c9d-f3c5-459a-a803-f1d342b74fb6"
      },
      "source": [
        "score"
      ],
      "execution_count": null,
      "outputs": [
        {
          "output_type": "execute_result",
          "data": {
            "text/plain": [
              "array([0.74136642, 0.74306646, 0.73902968, 0.73521716, 0.73245122])"
            ]
          },
          "metadata": {
            "tags": []
          },
          "execution_count": 267
        }
      ]
    },
    {
      "cell_type": "code",
      "metadata": {
        "id": "HNF637ROTIGn"
      },
      "source": [
        "y_pred1=lr1.predict(X_test_ss)"
      ],
      "execution_count": null,
      "outputs": []
    },
    {
      "cell_type": "code",
      "metadata": {
        "colab": {
          "base_uri": "https://localhost:8080/"
        },
        "id": "McqKyfPKTLv-",
        "outputId": "78b41ddf-4715-4155-f3fc-3d5a38545e40"
      },
      "source": [
        "print(classification_report(y_test,y_pred1))"
      ],
      "execution_count": null,
      "outputs": [
        {
          "output_type": "stream",
          "text": [
            "              precision    recall  f1-score   support\n",
            "\n",
            "           0       0.99      0.81      0.89     14354\n",
            "           1       0.05      0.71      0.10       207\n",
            "\n",
            "    accuracy                           0.81     14561\n",
            "   macro avg       0.52      0.76      0.49     14561\n",
            "weighted avg       0.98      0.81      0.88     14561\n",
            "\n"
          ],
          "name": "stdout"
        }
      ]
    },
    {
      "cell_type": "code",
      "metadata": {
        "colab": {
          "base_uri": "https://localhost:8080/",
          "height": 283
        },
        "id": "b7nvHpifTQgI",
        "outputId": "37f414a6-8871-4218-df7e-2e65854ca994"
      },
      "source": [
        "mat1=confusion_matrix(y_test,y_pred1)\n",
        "sns.heatmap(mat1,square=True,fmt=\"d\",annot=True)"
      ],
      "execution_count": null,
      "outputs": [
        {
          "output_type": "execute_result",
          "data": {
            "text/plain": [
              "<matplotlib.axes._subplots.AxesSubplot at 0x7fa390235c90>"
            ]
          },
          "metadata": {
            "tags": []
          },
          "execution_count": 270
        },
        {
          "output_type": "display_data",
          "data": {
            "image/png": "[encoded data removed]",
            "text/plain": [
              "<Figure size 432x288 with 2 Axes>"
            ]
          },
          "metadata": {
            "tags": [],
            "needs_background": "light"
          }
        }
      ]
    },
    {
      "cell_type": "markdown",
      "metadata": {
        "id": "QlaHX9jk1R9j"
      },
      "source": [
        "we can see our base model logistic regression give us acuracy of 81%"
      ]
    },
    {
      "cell_type": "markdown",
      "metadata": {
        "id": "oSgodipCTXq7"
      },
      "source": [
        "**roc_auc_score**"
      ]
    },
    {
      "cell_type": "code",
      "metadata": {
        "id": "9mU6WBdyTaa7"
      },
      "source": [
        "scores=lr1.predict_proba(X_test_ss)"
      ],
      "execution_count": null,
      "outputs": []
    },
    {
      "cell_type": "code",
      "metadata": {
        "colab": {
          "base_uri": "https://localhost:8080/"
        },
        "id": "uPh16M2mTagh",
        "outputId": "db4cf56c-1281-480d-cef1-c91b2c300f39"
      },
      "source": [
        "print(scores)"
      ],
      "execution_count": null,
      "outputs": [
        {
          "output_type": "stream",
          "text": [
            "[[0.7916953  0.2083047 ]\n",
            " [0.7915059  0.2084941 ]\n",
            " [0.09011756 0.90988244]\n",
            " ...\n",
            " [0.27167542 0.72832458]\n",
            " [0.69007771 0.30992229]\n",
            " [0.19961701 0.80038299]]\n"
          ],
          "name": "stdout"
        }
      ]
    },
    {
      "cell_type": "code",
      "metadata": {
        "colab": {
          "base_uri": "https://localhost:8080/"
        },
        "id": "5YGreMX6Tato",
        "outputId": "601c254a-b336-492d-f1dd-2cf97124ca34"
      },
      "source": [
        "roc_auc_score(y_test,y_pred1)"
      ],
      "execution_count": null,
      "outputs": [
        {
          "output_type": "execute_result",
          "data": {
            "text/plain": [
              "0.7580143964987458"
            ]
          },
          "metadata": {
            "tags": []
          },
          "execution_count": 273
        }
      ]
    },
    {
      "cell_type": "code",
      "metadata": {
        "colab": {
          "base_uri": "https://localhost:8080/",
          "height": 283
        },
        "id": "g0HwftQWTawB",
        "outputId": "5313b71a-a89e-40fe-83ea-d52c60636fc4"
      },
      "source": [
        "mat1=confusion_matrix(y_test,y_pred1)\n",
        "sns.heatmap(mat1,square=True,fmt=\"d\",annot=True)"
      ],
      "execution_count": null,
      "outputs": [
        {
          "output_type": "execute_result",
          "data": {
            "text/plain": [
              "<matplotlib.axes._subplots.AxesSubplot at 0x7fa396585090>"
            ]
          },
          "metadata": {
            "tags": []
          },
          "execution_count": 274
        },
        {
          "output_type": "display_data",
          "data": {
            "image/png": "[encoded data removed]",
            "text/plain": [
              "<Figure size 432x288 with 2 Axes>"
            ]
          },
          "metadata": {
            "tags": [],
            "needs_background": "light"
          }
        }
      ]
    },
    {
      "cell_type": "markdown",
      "metadata": {
        "id": "PF3Wze7CTtg0"
      },
      "source": [
        "**Model 2= DecisionTreeClassifie**"
      ]
    },
    {
      "cell_type": "code",
      "metadata": {
        "id": "L_Db5XlCTxYO"
      },
      "source": [
        "dt1=DecisionTreeClassifier( max_depth=10, min_samples_leaf=35)"
      ],
      "execution_count": null,
      "outputs": []
    },
    {
      "cell_type": "code",
      "metadata": {
        "colab": {
          "base_uri": "https://localhost:8080/"
        },
        "id": "AkSzMPv_TxbC",
        "outputId": "4bf31148-848c-4a08-ade1-472a69d20cb6"
      },
      "source": [
        "dt1.fit(X_sample2,y_sample2)"
      ],
      "execution_count": null,
      "outputs": [
        {
          "output_type": "execute_result",
          "data": {
            "text/plain": [
              "DecisionTreeClassifier(ccp_alpha=0.0, class_weight=None, criterion='gini',\n",
              "                       max_depth=10, max_features=None, max_leaf_nodes=None,\n",
              "                       min_impurity_decrease=0.0, min_impurity_split=None,\n",
              "                       min_samples_leaf=35, min_samples_split=2,\n",
              "                       min_weight_fraction_leaf=0.0, presort='deprecated',\n",
              "                       random_state=None, splitter='best')"
            ]
          },
          "metadata": {
            "tags": []
          },
          "execution_count": 276
        }
      ]
    },
    {
      "cell_type": "code",
      "metadata": {
        "id": "oZIzvTmuTxeR"
      },
      "source": [
        "score=cross_val_score(dt1,X_sample2,y_sample2,cv=5)"
      ],
      "execution_count": null,
      "outputs": []
    },
    {
      "cell_type": "code",
      "metadata": {
        "colab": {
          "base_uri": "https://localhost:8080/"
        },
        "id": "c1uJOcLjTxir",
        "outputId": "e870e8da-ef5c-4e24-fb7d-e2d37262a8d2"
      },
      "source": [
        "score"
      ],
      "execution_count": null,
      "outputs": [
        {
          "output_type": "execute_result",
          "data": {
            "text/plain": [
              "array([0.82568396, 0.8208866 , 0.81550422, 0.81348583, 0.81475667])"
            ]
          },
          "metadata": {
            "tags": []
          },
          "execution_count": 278
        }
      ]
    },
    {
      "cell_type": "code",
      "metadata": {
        "id": "qcy-LDTcTxmA"
      },
      "source": [
        "y_pred3=dt1.predict(X_test_ss)\n"
      ],
      "execution_count": null,
      "outputs": []
    },
    {
      "cell_type": "code",
      "metadata": {
        "colab": {
          "base_uri": "https://localhost:8080/"
        },
        "id": "qf9Occs_TxoX",
        "outputId": "81f820af-0824-4c45-9e2f-b7b8b16b8c8d"
      },
      "source": [
        "print(classification_report(y_test,y_pred3))"
      ],
      "execution_count": null,
      "outputs": [
        {
          "output_type": "stream",
          "text": [
            "              precision    recall  f1-score   support\n",
            "\n",
            "           0       0.99      0.82      0.90     14354\n",
            "           1       0.05      0.61      0.09       207\n",
            "\n",
            "    accuracy                           0.82     14561\n",
            "   macro avg       0.52      0.72      0.49     14561\n",
            "weighted avg       0.98      0.82      0.89     14561\n",
            "\n"
          ],
          "name": "stdout"
        }
      ]
    },
    {
      "cell_type": "markdown",
      "metadata": {
        "id": "Osw7_I0c2VIf"
      },
      "source": [
        "**From above fig we can see our model accuracy with gimi index is 82%**\n",
        "\n"
      ]
    },
    {
      "cell_type": "code",
      "metadata": {
        "colab": {
          "base_uri": "https://localhost:8080/",
          "height": 283
        },
        "id": "L-2_updsULI8",
        "outputId": "9672aab4-b580-45d0-86c6-6f7a98ebf65f"
      },
      "source": [
        "mat3=confusion_matrix(y_test,y_pred3)\n",
        "sns.heatmap(mat3,square=True,fmt=\"d\",annot=True)"
      ],
      "execution_count": null,
      "outputs": [
        {
          "output_type": "execute_result",
          "data": {
            "text/plain": [
              "<matplotlib.axes._subplots.AxesSubplot at 0x7fa39649c790>"
            ]
          },
          "metadata": {
            "tags": []
          },
          "execution_count": 281
        },
        {
          "output_type": "display_data",
          "data": {
            "image/png": "[encoded data removed]",
            "text/plain": [
              "<Figure size 432x288 with 2 Axes>"
            ]
          },
          "metadata": {
            "tags": [],
            "needs_background": "light"
          }
        }
      ]
    },
    {
      "cell_type": "markdown",
      "metadata": {
        "id": "nR_VNCTzUPjx"
      },
      "source": [
        "**roc_auc_score**"
      ]
    },
    {
      "cell_type": "code",
      "metadata": {
        "id": "8fytMtZhURTj"
      },
      "source": [
        "scores=dt1.predict_proba(X_test_ss)"
      ],
      "execution_count": null,
      "outputs": []
    },
    {
      "cell_type": "code",
      "metadata": {
        "colab": {
          "base_uri": "https://localhost:8080/"
        },
        "id": "XOPA9FsXUX-E",
        "outputId": "0ca40bdf-30a9-4962-a7d0-b3abb4c019e9"
      },
      "source": [
        "print(scores)"
      ],
      "execution_count": null,
      "outputs": [
        {
          "output_type": "stream",
          "text": [
            "[[1.         0.        ]\n",
            " [1.         0.        ]\n",
            " [0.0962406  0.9037594 ]\n",
            " ...\n",
            " [0.33766234 0.66233766]\n",
            " [0.74906367 0.25093633]\n",
            " [0.14679449 0.85320551]]\n"
          ],
          "name": "stdout"
        }
      ]
    },
    {
      "cell_type": "code",
      "metadata": {
        "colab": {
          "base_uri": "https://localhost:8080/"
        },
        "id": "TPslDNumUbPW",
        "outputId": "0fb3f767-514d-41b3-bd91-1d3314e85130"
      },
      "source": [
        "roc_auc_score(y_test,y_pred3)"
      ],
      "execution_count": null,
      "outputs": [
        {
          "output_type": "execute_result",
          "data": {
            "text/plain": [
              "0.716788365141195"
            ]
          },
          "metadata": {
            "tags": []
          },
          "execution_count": 284
        }
      ]
    },
    {
      "cell_type": "markdown",
      "metadata": {
        "id": "9xk1sjYlUiKX"
      },
      "source": [
        ""
      ]
    },
    {
      "cell_type": "markdown",
      "metadata": {
        "id": "-4Ik6n5tUiNH"
      },
      "source": [
        "**Decesion tree with (criterion=\"entropy\")**"
      ]
    },
    {
      "cell_type": "code",
      "metadata": {
        "id": "GdNn2JbVUpC_"
      },
      "source": [
        "dt3=DecisionTreeClassifier(criterion=\"entropy\", max_depth=25, min_samples_leaf=30)"
      ],
      "execution_count": null,
      "outputs": []
    },
    {
      "cell_type": "code",
      "metadata": {
        "colab": {
          "base_uri": "https://localhost:8080/"
        },
        "id": "0DYBxiWuUrw2",
        "outputId": "cd73a4a0-9167-455e-be1e-ba88aebf01d6"
      },
      "source": [
        "dt3.fit(X_sample2,y_sample2)"
      ],
      "execution_count": null,
      "outputs": [
        {
          "output_type": "execute_result",
          "data": {
            "text/plain": [
              "DecisionTreeClassifier(ccp_alpha=0.0, class_weight=None, criterion='entropy',\n",
              "                       max_depth=25, max_features=None, max_leaf_nodes=None,\n",
              "                       min_impurity_decrease=0.0, min_impurity_split=None,\n",
              "                       min_samples_leaf=30, min_samples_split=2,\n",
              "                       min_weight_fraction_leaf=0.0, presort='deprecated',\n",
              "                       random_state=None, splitter='best')"
            ]
          },
          "metadata": {
            "tags": []
          },
          "execution_count": 286
        }
      ]
    },
    {
      "cell_type": "code",
      "metadata": {
        "id": "8W1DTGJ-Uu2w"
      },
      "source": [
        "score=cross_val_score(dt3,X_sample2,y_sample2,cv=5)"
      ],
      "execution_count": null,
      "outputs": []
    },
    {
      "cell_type": "code",
      "metadata": {
        "colab": {
          "base_uri": "https://localhost:8080/"
        },
        "id": "ISCtDOrcUy1k",
        "outputId": "e98dee5e-ffa5-459c-ace1-a68652eab6e4"
      },
      "source": [
        "score"
      ],
      "execution_count": null,
      "outputs": [
        {
          "output_type": "execute_result",
          "data": {
            "text/plain": [
              "array([0.909852  , 0.91081707, 0.91672273, 0.90992001, 0.90752785])"
            ]
          },
          "metadata": {
            "tags": []
          },
          "execution_count": 288
        }
      ]
    },
    {
      "cell_type": "code",
      "metadata": {
        "id": "UQ1twrjFU1HQ"
      },
      "source": [
        "y_pred5=dt3.predict(X_test_ss)"
      ],
      "execution_count": null,
      "outputs": []
    },
    {
      "cell_type": "code",
      "metadata": {
        "colab": {
          "base_uri": "https://localhost:8080/"
        },
        "id": "Eto6rvpvU4kY",
        "outputId": "033f2a2a-2ee6-4ee0-c8cc-3250d7781dd8"
      },
      "source": [
        "print(classification_report(y_test,y_pred5))"
      ],
      "execution_count": null,
      "outputs": [
        {
          "output_type": "stream",
          "text": [
            "              precision    recall  f1-score   support\n",
            "\n",
            "           0       0.99      0.84      0.91     14354\n",
            "           1       0.04      0.52      0.08       207\n",
            "\n",
            "    accuracy                           0.83     14561\n",
            "   macro avg       0.52      0.68      0.50     14561\n",
            "weighted avg       0.98      0.83      0.90     14561\n",
            "\n"
          ],
          "name": "stdout"
        }
      ]
    },
    {
      "cell_type": "markdown",
      "metadata": {
        "id": "pr9PwiGH2noM"
      },
      "source": [
        "**From above fig we can see our model accuracy with  entropy is 83%**"
      ]
    },
    {
      "cell_type": "code",
      "metadata": {
        "colab": {
          "base_uri": "https://localhost:8080/",
          "height": 287
        },
        "id": "14oi6ohSU8vC",
        "outputId": "4ff47d57-36bc-4bde-8bef-d1afed5b98f2"
      },
      "source": [
        "mat5=confusion_matrix(y_test,y_pred5)\n",
        "sns.heatmap(mat5,square=True,annot=True,fmt='d')"
      ],
      "execution_count": null,
      "outputs": [
        {
          "output_type": "execute_result",
          "data": {
            "text/plain": [
              "<matplotlib.axes._subplots.AxesSubplot at 0x7fa39027b290>"
            ]
          },
          "metadata": {
            "tags": []
          },
          "execution_count": 291
        },
        {
          "output_type": "display_data",
          "data": {
            "image/png": "[encoded data removed]",
            "text/plain": [
              "<Figure size 432x288 with 2 Axes>"
            ]
          },
          "metadata": {
            "tags": [],
            "needs_background": "light"
          }
        }
      ]
    },
    {
      "cell_type": "code",
      "metadata": {
        "colab": {
          "base_uri": "https://localhost:8080/"
        },
        "id": "J4rw4yHLVHCL",
        "outputId": "c9860320-d895-4f23-a1c9-b91f358be706"
      },
      "source": [
        "scores=dt3.predict_proba(X_test_ss)\n",
        "print(scores)"
      ],
      "execution_count": null,
      "outputs": [
        {
          "output_type": "stream",
          "text": [
            "[[1.         0.        ]\n",
            " [1.         0.        ]\n",
            " [0.08450704 0.91549296]\n",
            " ...\n",
            " [0.31081081 0.68918919]\n",
            " [1.         0.        ]\n",
            " [1.         0.        ]]\n"
          ],
          "name": "stdout"
        }
      ]
    },
    {
      "cell_type": "code",
      "metadata": {
        "colab": {
          "base_uri": "https://localhost:8080/"
        },
        "id": "puB5zVZ3VHE1",
        "outputId": "0792a7d7-9f7b-49cc-b717-371c12221673"
      },
      "source": [
        "y_test.value_counts()"
      ],
      "execution_count": null,
      "outputs": [
        {
          "output_type": "execute_result",
          "data": {
            "text/plain": [
              "0    14354\n",
              "1      207\n",
              "Name: Claim, dtype: int64"
            ]
          },
          "metadata": {
            "tags": []
          },
          "execution_count": 293
        }
      ]
    },
    {
      "cell_type": "code",
      "metadata": {
        "colab": {
          "base_uri": "https://localhost:8080/"
        },
        "id": "L8RwtE6RVHHe",
        "outputId": "fcd79b73-eb56-4bb9-fbba-8d9ebf53057d"
      },
      "source": [
        "roc_auc_score(y_test,y_pred5)"
      ],
      "execution_count": null,
      "outputs": [
        {
          "output_type": "execute_result",
          "data": {
            "text/plain": [
              "0.6780583977668868"
            ]
          },
          "metadata": {
            "tags": []
          },
          "execution_count": 294
        }
      ]
    },
    {
      "cell_type": "markdown",
      "metadata": {
        "id": "vyHrST1iVXC3"
      },
      "source": [
        "**Model 3== RandomForestClassifier**"
      ]
    },
    {
      "cell_type": "code",
      "metadata": {
        "id": "TJgeJymwVHKA"
      },
      "source": [
        "rfc1=RandomForestClassifier(n_estimators=100,random_state=1)"
      ],
      "execution_count": null,
      "outputs": []
    },
    {
      "cell_type": "code",
      "metadata": {
        "colab": {
          "base_uri": "https://localhost:8080/"
        },
        "id": "HKCwEe6tVHMU",
        "outputId": "9910e512-986e-4555-8696-48675151b0cc"
      },
      "source": [
        "rfc1.fit(X_sample2,y_sample2)"
      ],
      "execution_count": null,
      "outputs": [
        {
          "output_type": "execute_result",
          "data": {
            "text/plain": [
              "RandomForestClassifier(bootstrap=True, ccp_alpha=0.0, class_weight=None,\n",
              "                       criterion='gini', max_depth=None, max_features='auto',\n",
              "                       max_leaf_nodes=None, max_samples=None,\n",
              "                       min_impurity_decrease=0.0, min_impurity_split=None,\n",
              "                       min_samples_leaf=1, min_samples_split=2,\n",
              "                       min_weight_fraction_leaf=0.0, n_estimators=100,\n",
              "                       n_jobs=None, oob_score=False, random_state=1, verbose=0,\n",
              "                       warm_start=False)"
            ]
          },
          "metadata": {
            "tags": []
          },
          "execution_count": 296
        }
      ]
    },
    {
      "cell_type": "code",
      "metadata": {
        "id": "k3F6zxOKVHO4"
      },
      "source": [
        "score=cross_val_score(rfc1,X_sample2,y_sample2,cv=5)"
      ],
      "execution_count": null,
      "outputs": []
    },
    {
      "cell_type": "code",
      "metadata": {
        "colab": {
          "base_uri": "https://localhost:8080/"
        },
        "id": "4D18nfdBVrE4",
        "outputId": "359f851c-8e29-420e-9dfd-9c94c1260f30"
      },
      "source": [
        "score"
      ],
      "execution_count": null,
      "outputs": [
        {
          "output_type": "execute_result",
          "data": {
            "text/plain": [
              "array([0.97981761, 0.98123645, 0.981984  , 0.98041414, 0.97966659])"
            ]
          },
          "metadata": {
            "tags": []
          },
          "execution_count": 298
        }
      ]
    },
    {
      "cell_type": "code",
      "metadata": {
        "id": "qajrLW1lVxcs"
      },
      "source": [
        "y_pred7=rfc1.predict(X_test_ss)"
      ],
      "execution_count": null,
      "outputs": []
    },
    {
      "cell_type": "code",
      "metadata": {
        "colab": {
          "base_uri": "https://localhost:8080/"
        },
        "id": "xq9uPi-DV0ZQ",
        "outputId": "d33a8d0a-241f-4224-d139-fbae9d78166c"
      },
      "source": [
        "print(classification_report(y_test,y_pred7))"
      ],
      "execution_count": null,
      "outputs": [
        {
          "output_type": "stream",
          "text": [
            "              precision    recall  f1-score   support\n",
            "\n",
            "           0       0.99      0.96      0.97     14354\n",
            "           1       0.08      0.23      0.12       207\n",
            "\n",
            "    accuracy                           0.95     14561\n",
            "   macro avg       0.53      0.59      0.55     14561\n",
            "weighted avg       0.98      0.95      0.96     14561\n",
            "\n"
          ],
          "name": "stdout"
        }
      ]
    },
    {
      "cell_type": "markdown",
      "metadata": {
        "id": "yme5nL6s20bM"
      },
      "source": [
        ""
      ]
    },
    {
      "cell_type": "markdown",
      "metadata": {
        "id": "esg8Px2C20e8"
      },
      "source": [
        "**From above fig we can see our Random model accuracy  is 95%**"
      ]
    },
    {
      "cell_type": "code",
      "metadata": {
        "colab": {
          "base_uri": "https://localhost:8080/",
          "height": 283
        },
        "id": "HT8hcTb3V7Hn",
        "outputId": "c90b2338-75d2-4672-fc4c-cbb7cef88b18"
      },
      "source": [
        "mat7=confusion_matrix(y_test,y_pred7)\n",
        "sns.heatmap(mat7,square=True,annot=True,fmt='d')\n",
        "\n"
      ],
      "execution_count": null,
      "outputs": [
        {
          "output_type": "execute_result",
          "data": {
            "text/plain": [
              "<matplotlib.axes._subplots.AxesSubplot at 0x7fa390050f90>"
            ]
          },
          "metadata": {
            "tags": []
          },
          "execution_count": 301
        },
        {
          "output_type": "display_data",
          "data": {
            "image/png": "[encoded data removed]",
            "text/plain": [
              "<Figure size 432x288 with 2 Axes>"
            ]
          },
          "metadata": {
            "tags": [],
            "needs_background": "light"
          }
        }
      ]
    },
    {
      "cell_type": "code",
      "metadata": {
        "id": "ocZSaINUWEOR"
      },
      "source": [
        "scores=rfc1.predict_proba(X_test_ss)"
      ],
      "execution_count": null,
      "outputs": []
    },
    {
      "cell_type": "code",
      "metadata": {
        "colab": {
          "base_uri": "https://localhost:8080/"
        },
        "id": "zLQxjBfVWIB2",
        "outputId": "f0a08948-6376-4937-93b0-37f99d06f450"
      },
      "source": [
        "print(scores)"
      ],
      "execution_count": null,
      "outputs": [
        {
          "output_type": "stream",
          "text": [
            "[[1.         0.        ]\n",
            " [1.         0.        ]\n",
            " [0.08527984 0.91472016]\n",
            " ...\n",
            " [1.         0.        ]\n",
            " [1.         0.        ]\n",
            " [0.99       0.01      ]]\n"
          ],
          "name": "stdout"
        }
      ]
    },
    {
      "cell_type": "code",
      "metadata": {
        "colab": {
          "base_uri": "https://localhost:8080/"
        },
        "id": "JroDf_ATWLAc",
        "outputId": "36b73e9c-01f7-4cf5-b88e-a6e4f6fc938a"
      },
      "source": [
        "roc_auc_score(y_test,y_pred7)"
      ],
      "execution_count": null,
      "outputs": [
        {
          "output_type": "execute_result",
          "data": {
            "text/plain": [
              "0.5940894793418859"
            ]
          },
          "metadata": {
            "tags": []
          },
          "execution_count": 304
        }
      ]
    },
    {
      "cell_type": "markdown",
      "metadata": {
        "id": "hsUzjAXvWQR2"
      },
      "source": [
        "**Model 4 Gradient Boosting**"
      ]
    },
    {
      "cell_type": "code",
      "metadata": {
        "id": "kljgXTXzWWfG"
      },
      "source": [
        "from sklearn.ensemble import GradientBoostingClassifier\n",
        "gb1=GradientBoostingClassifier()"
      ],
      "execution_count": null,
      "outputs": []
    },
    {
      "cell_type": "code",
      "metadata": {
        "colab": {
          "base_uri": "https://localhost:8080/"
        },
        "id": "s2FPwiVGWjdX",
        "outputId": "e8db5b4c-8666-499b-d66f-0f1807e75f05"
      },
      "source": [
        "gb1.fit(X_sample2,y_sample2)"
      ],
      "execution_count": null,
      "outputs": [
        {
          "output_type": "execute_result",
          "data": {
            "text/plain": [
              "GradientBoostingClassifier(ccp_alpha=0.0, criterion='friedman_mse', init=None,\n",
              "                           learning_rate=0.1, loss='deviance', max_depth=3,\n",
              "                           max_features=None, max_leaf_nodes=None,\n",
              "                           min_impurity_decrease=0.0, min_impurity_split=None,\n",
              "                           min_samples_leaf=1, min_samples_split=2,\n",
              "                           min_weight_fraction_leaf=0.0, n_estimators=100,\n",
              "                           n_iter_no_change=None, presort='deprecated',\n",
              "                           random_state=None, subsample=1.0, tol=0.0001,\n",
              "                           validation_fraction=0.1, verbose=0,\n",
              "                           warm_start=False)"
            ]
          },
          "metadata": {
            "tags": []
          },
          "execution_count": 306
        }
      ]
    },
    {
      "cell_type": "code",
      "metadata": {
        "id": "OWXe9obQWn0C"
      },
      "source": [
        "score=cross_val_score(gb1,X_sample2,y_sample2,cv=5)"
      ],
      "execution_count": null,
      "outputs": []
    },
    {
      "cell_type": "code",
      "metadata": {
        "colab": {
          "base_uri": "https://localhost:8080/"
        },
        "id": "f5lQ_KGGWsa5",
        "outputId": "e84eeea7-2457-4dbb-900d-a8bc09603896"
      },
      "source": [
        "score"
      ],
      "execution_count": null,
      "outputs": [
        {
          "output_type": "execute_result",
          "data": {
            "text/plain": [
              "array([0.79227089, 0.78164013, 0.78440607, 0.7776781 , 0.78403229])"
            ]
          },
          "metadata": {
            "tags": []
          },
          "execution_count": 308
        }
      ]
    },
    {
      "cell_type": "code",
      "metadata": {
        "id": "ALGlGTqnW2Zg"
      },
      "source": [
        "y_pred9=gb1.predict(X_test_ss)"
      ],
      "execution_count": null,
      "outputs": []
    },
    {
      "cell_type": "code",
      "metadata": {
        "colab": {
          "base_uri": "https://localhost:8080/"
        },
        "id": "-BsPbudnW4qf",
        "outputId": "3cafcb0f-6843-400d-c665-f186138c73a6"
      },
      "source": [
        "print(classification_report(y_test,y_pred9))"
      ],
      "execution_count": null,
      "outputs": [
        {
          "output_type": "stream",
          "text": [
            "              precision    recall  f1-score   support\n",
            "\n",
            "           0       0.99      0.83      0.90     14354\n",
            "           1       0.05      0.68      0.10       207\n",
            "\n",
            "    accuracy                           0.82     14561\n",
            "   macro avg       0.52      0.75      0.50     14561\n",
            "weighted avg       0.98      0.82      0.89     14561\n",
            "\n"
          ],
          "name": "stdout"
        }
      ]
    },
    {
      "cell_type": "markdown",
      "metadata": {
        "id": "NhuUI_dR3Oa6"
      },
      "source": [
        "**From above fig we cn see our model accuracy with gimi index is 82%**"
      ]
    },
    {
      "cell_type": "code",
      "metadata": {
        "colab": {
          "base_uri": "https://localhost:8080/",
          "height": 283
        },
        "id": "tFKORN75W8Xu",
        "outputId": "f7e4838a-6912-408b-ff0a-ce5d1155d7d3"
      },
      "source": [
        "mat9=confusion_matrix(y_test,y_pred9)\n",
        "sns.heatmap(mat9,square=True,annot=True,fmt='d')\n"
      ],
      "execution_count": null,
      "outputs": [
        {
          "output_type": "execute_result",
          "data": {
            "text/plain": [
              "<matplotlib.axes._subplots.AxesSubplot at 0x7fa38ff2c610>"
            ]
          },
          "metadata": {
            "tags": []
          },
          "execution_count": 311
        },
        {
          "output_type": "display_data",
          "data": {
            "image/png": "[encoded data removed]",
            "text/plain": [
              "<Figure size 432x288 with 2 Axes>"
            ]
          },
          "metadata": {
            "tags": [],
            "needs_background": "light"
          }
        }
      ]
    },
    {
      "cell_type": "markdown",
      "metadata": {
        "id": "SammOMG0XCpT"
      },
      "source": [
        "**roc_auc_score**"
      ]
    },
    {
      "cell_type": "code",
      "metadata": {
        "id": "YHYXgkxuXGA5"
      },
      "source": [
        "scores=gb1.predict_proba(X_test_ss)"
      ],
      "execution_count": null,
      "outputs": []
    },
    {
      "cell_type": "code",
      "metadata": {
        "colab": {
          "base_uri": "https://localhost:8080/"
        },
        "id": "btj0nL3rXJ1Y",
        "outputId": "61c057fc-2739-4031-87e9-3af72842f27a"
      },
      "source": [
        "print(scores)"
      ],
      "execution_count": null,
      "outputs": [
        {
          "output_type": "stream",
          "text": [
            "[[0.93488903 0.06511097]\n",
            " [0.86361138 0.13638862]\n",
            " [0.13057669 0.86942331]\n",
            " ...\n",
            " [0.1954082  0.8045918 ]\n",
            " [0.6655658  0.3344342 ]\n",
            " [0.13375428 0.86624572]]\n"
          ],
          "name": "stdout"
        }
      ]
    },
    {
      "cell_type": "code",
      "metadata": {
        "colab": {
          "base_uri": "https://localhost:8080/"
        },
        "id": "9bb3KpvXXMYX",
        "outputId": "e1acf5fb-b4bc-46ab-bcfe-6444b11d0aa3"
      },
      "source": [
        "roc_auc_score(y_test,y_pred9)"
      ],
      "execution_count": null,
      "outputs": [
        {
          "output_type": "execute_result",
          "data": {
            "text/plain": [
              "0.7513243459548382"
            ]
          },
          "metadata": {
            "tags": []
          },
          "execution_count": 314
        }
      ]
    },
    {
      "cell_type": "markdown",
      "metadata": {
        "id": "VBZd9qilXO5a"
      },
      "source": [
        "**Model 5= Adaboost Classifier**"
      ]
    },
    {
      "cell_type": "code",
      "metadata": {
        "id": "mV2OotfgXTRX"
      },
      "source": [
        "from sklearn.ensemble import AdaBoostClassifier\n",
        "aba1=AdaBoostClassifier(n_estimators=100)\n",
        "\n"
      ],
      "execution_count": null,
      "outputs": []
    },
    {
      "cell_type": "code",
      "metadata": {
        "colab": {
          "base_uri": "https://localhost:8080/"
        },
        "id": "y-2Ot-o8XTUb",
        "outputId": "613af635-0baf-4dfb-d234-1becdaae8441"
      },
      "source": [
        "aba1.fit(X_sample2,y_sample2)\n",
        "\n"
      ],
      "execution_count": null,
      "outputs": [
        {
          "output_type": "execute_result",
          "data": {
            "text/plain": [
              "AdaBoostClassifier(algorithm='SAMME.R', base_estimator=None, learning_rate=1.0,\n",
              "                   n_estimators=100, random_state=None)"
            ]
          },
          "metadata": {
            "tags": []
          },
          "execution_count": 316
        }
      ]
    },
    {
      "cell_type": "code",
      "metadata": {
        "colab": {
          "base_uri": "https://localhost:8080/"
        },
        "id": "Ngqp5dq2XTW8",
        "outputId": "ccbc6e47-ca89-4acc-eb32-28b4c5e5e72c"
      },
      "source": [
        "score=cross_val_score(aba1,X_sample2,y_sample2,cv=5)\n",
        "score\n"
      ],
      "execution_count": null,
      "outputs": [
        {
          "output_type": "execute_result",
          "data": {
            "text/plain": [
              "array([0.76311855, 0.76773567, 0.76205427, 0.75622337, 0.76115721])"
            ]
          },
          "metadata": {
            "tags": []
          },
          "execution_count": 317
        }
      ]
    },
    {
      "cell_type": "code",
      "metadata": {
        "colab": {
          "base_uri": "https://localhost:8080/",
          "height": 446
        },
        "id": "sGqO5gLsY5IC",
        "outputId": "cc69ab68-5ff4-4900-8a8d-4ed7c8fae166"
      },
      "source": [
        "y_pred11=aba1.predict(X_test_ss)\n",
        "print(classification_report(y_test,y_pred11))\n",
        "mat11=confusion_matrix(y_test,y_pred11)\n",
        "sns.heatmap(mat11,square=True,annot=True,fmt=\"d\")\n"
      ],
      "execution_count": null,
      "outputs": [
        {
          "output_type": "stream",
          "text": [
            "              precision    recall  f1-score   support\n",
            "\n",
            "           0       0.99      0.82      0.90     14354\n",
            "           1       0.05      0.66      0.09       207\n",
            "\n",
            "    accuracy                           0.82     14561\n",
            "   macro avg       0.52      0.74      0.49     14561\n",
            "weighted avg       0.98      0.82      0.89     14561\n",
            "\n"
          ],
          "name": "stdout"
        },
        {
          "output_type": "execute_result",
          "data": {
            "text/plain": [
              "<matplotlib.axes._subplots.AxesSubplot at 0x7fa38ff98d50>"
            ]
          },
          "metadata": {
            "tags": []
          },
          "execution_count": 324
        },
        {
          "output_type": "display_data",
          "data": {
            "image/png": "[encoded data removed]",
            "text/plain": [
              "<Figure size 432x288 with 2 Axes>"
            ]
          },
          "metadata": {
            "tags": [],
            "needs_background": "light"
          }
        }
      ]
    },
    {
      "cell_type": "markdown",
      "metadata": {
        "id": "fC5SECfR3Zqx"
      },
      "source": [
        "**From above fig we cn see our model accuracy with gimi index is 82%**"
      ]
    },
    {
      "cell_type": "markdown",
      "metadata": {
        "id": "OrFG2yxaYQz9"
      },
      "source": [
        "**roc_auc_score**"
      ]
    },
    {
      "cell_type": "code",
      "metadata": {
        "id": "RixuK6-UXTeE"
      },
      "source": [
        "scores=aba1.predict_proba(X_test_ss)\n",
        "scores=aba1.predict_proba(X_test_ss)"
      ],
      "execution_count": null,
      "outputs": []
    },
    {
      "cell_type": "code",
      "metadata": {
        "colab": {
          "base_uri": "https://localhost:8080/"
        },
        "id": "VUy2vY4jYYR5",
        "outputId": "46481f55-8e5a-47e0-fc7a-c84c80485342"
      },
      "source": [
        "print(scores)"
      ],
      "execution_count": null,
      "outputs": [
        {
          "output_type": "stream",
          "text": [
            "[[0.5063696  0.4936304 ]\n",
            " [0.50462349 0.49537651]\n",
            " [0.4950041  0.5049959 ]\n",
            " ...\n",
            " [0.49625122 0.50374878]\n",
            " [0.50248344 0.49751656]\n",
            " [0.49492766 0.50507234]]\n"
          ],
          "name": "stdout"
        }
      ]
    },
    {
      "cell_type": "code",
      "metadata": {
        "colab": {
          "base_uri": "https://localhost:8080/"
        },
        "id": "RnAfgEg8YYUz",
        "outputId": "a093cb19-462d-47b3-c47c-77501cd3e6b0"
      },
      "source": [
        "roc_auc_score(y_test,y_pred11)"
      ],
      "execution_count": null,
      "outputs": [
        {
          "output_type": "execute_result",
          "data": {
            "text/plain": [
              "0.7373083232198401"
            ]
          },
          "metadata": {
            "tags": []
          },
          "execution_count": 328
        }
      ]
    },
    {
      "cell_type": "markdown",
      "metadata": {
        "id": "AnZNTovdZNKp"
      },
      "source": [
        "**Model 6 =SVC**"
      ]
    },
    {
      "cell_type": "code",
      "metadata": {
        "id": "vr74rDxxZW-4"
      },
      "source": [
        "lsvc1=LinearSVC(random_state=1)"
      ],
      "execution_count": null,
      "outputs": []
    },
    {
      "cell_type": "code",
      "metadata": {
        "colab": {
          "base_uri": "https://localhost:8080/"
        },
        "id": "qsHEQKEeZXBG",
        "outputId": "bfa2f023-6cc0-4c42-93f3-4bf23fe1b683"
      },
      "source": [
        "lsvc1.fit(X_sample2,y_sample2)"
      ],
      "execution_count": null,
      "outputs": [
        {
          "output_type": "execute_result",
          "data": {
            "text/plain": [
              "LinearSVC(C=1.0, class_weight=None, dual=True, fit_intercept=True,\n",
              "          intercept_scaling=1, loss='squared_hinge', max_iter=1000,\n",
              "          multi_class='ovr', penalty='l2', random_state=1, tol=0.0001,\n",
              "          verbose=0)"
            ]
          },
          "metadata": {
            "tags": []
          },
          "execution_count": 330
        }
      ]
    },
    {
      "cell_type": "code",
      "metadata": {
        "id": "44MUWneiZfCi"
      },
      "source": [
        "score=cross_val_score(lsvc1,X_sample2,y_sample2,cv=5)"
      ],
      "execution_count": null,
      "outputs": []
    },
    {
      "cell_type": "code",
      "metadata": {
        "colab": {
          "base_uri": "https://localhost:8080/"
        },
        "id": "kO8pUyEnZfE9",
        "outputId": "7683e9d4-9f9d-4e46-b232-87f9512ab5f4"
      },
      "source": [
        "score"
      ],
      "execution_count": null,
      "outputs": [
        {
          "output_type": "execute_result",
          "data": {
            "text/plain": [
              "array([0.74330991, 0.74426254, 0.74411303, 0.73529192, 0.73671227])"
            ]
          },
          "metadata": {
            "tags": []
          },
          "execution_count": 332
        }
      ]
    },
    {
      "cell_type": "code",
      "metadata": {
        "id": "TBuHJNwyZfH7"
      },
      "source": [
        "y_pred17=lsvc1.predict(X_test_ss)"
      ],
      "execution_count": null,
      "outputs": []
    },
    {
      "cell_type": "code",
      "metadata": {
        "colab": {
          "base_uri": "https://localhost:8080/"
        },
        "id": "4yCf-3QCZpMp",
        "outputId": "ce5473d4-b425-4418-c9ee-7f34c4d66c73"
      },
      "source": [
        "print(classification_report(y_test,y_pred17))"
      ],
      "execution_count": null,
      "outputs": [
        {
          "output_type": "stream",
          "text": [
            "              precision    recall  f1-score   support\n",
            "\n",
            "           0       0.99      0.83      0.90     14354\n",
            "           1       0.05      0.68      0.10       207\n",
            "\n",
            "    accuracy                           0.83     14561\n",
            "   macro avg       0.52      0.75      0.50     14561\n",
            "weighted avg       0.98      0.83      0.89     14561\n",
            "\n"
          ],
          "name": "stdout"
        }
      ]
    },
    {
      "cell_type": "markdown",
      "metadata": {
        "id": "8dNEhEk63lbn"
      },
      "source": [
        "**From above fig we cn see our model accuracy with gimi index is 83%**"
      ]
    },
    {
      "cell_type": "code",
      "metadata": {
        "colab": {
          "base_uri": "https://localhost:8080/",
          "height": 283
        },
        "id": "QyrKCoA6ZpPT",
        "outputId": "bd09c3e9-03ea-48c6-dde2-da23bcff170d"
      },
      "source": [
        "mat17=confusion_matrix(y_test,y_pred17)\n",
        "sns.heatmap(mat17,square=True,annot=True,fmt='d')"
      ],
      "execution_count": null,
      "outputs": [
        {
          "output_type": "execute_result",
          "data": {
            "text/plain": [
              "<matplotlib.axes._subplots.AxesSubplot at 0x7fa3903ea790>"
            ]
          },
          "metadata": {
            "tags": []
          },
          "execution_count": 336
        },
        {
          "output_type": "display_data",
          "data": {
            "image/png": "[encoded data removed]",
            "text/plain": [
              "<Figure size 432x288 with 2 Axes>"
            ]
          },
          "metadata": {
            "tags": [],
            "needs_background": "light"
          }
        }
      ]
    },
    {
      "cell_type": "markdown",
      "metadata": {
        "id": "b8umZgH9Z1WD"
      },
      "source": [
        "**Soft Margin**"
      ]
    },
    {
      "cell_type": "code",
      "metadata": {
        "id": "8uewjJDoZ4np"
      },
      "source": [
        "lsv1=LinearSVC(C=0.5,random_state=1)"
      ],
      "execution_count": null,
      "outputs": []
    },
    {
      "cell_type": "code",
      "metadata": {
        "colab": {
          "base_uri": "https://localhost:8080/"
        },
        "id": "C9UU4z7tZ4qj",
        "outputId": "b9a01b73-8ef1-4665-c394-846598f26286"
      },
      "source": [
        "lsv1.fit(X_sample2,y_sample2)"
      ],
      "execution_count": null,
      "outputs": [
        {
          "output_type": "execute_result",
          "data": {
            "text/plain": [
              "LinearSVC(C=0.5, class_weight=None, dual=True, fit_intercept=True,\n",
              "          intercept_scaling=1, loss='squared_hinge', max_iter=1000,\n",
              "          multi_class='ovr', penalty='l2', random_state=1, tol=0.0001,\n",
              "          verbose=0)"
            ]
          },
          "metadata": {
            "tags": []
          },
          "execution_count": 338
        }
      ]
    },
    {
      "cell_type": "code",
      "metadata": {
        "id": "y-hrYmnPZ9ty"
      },
      "source": [
        "score=cross_val_score(lsv1,X_sample2,y_sample2,cv=5)"
      ],
      "execution_count": null,
      "outputs": []
    },
    {
      "cell_type": "code",
      "metadata": {
        "colab": {
          "base_uri": "https://localhost:8080/"
        },
        "id": "uEvd96HwZ9wB",
        "outputId": "7880d5d4-6590-4333-e9bc-47d2f6225a78"
      },
      "source": [
        "score"
      ],
      "execution_count": null,
      "outputs": [
        {
          "output_type": "execute_result",
          "data": {
            "text/plain": [
              "array([0.74330991, 0.74426254, 0.74411303, 0.73529192, 0.73671227])"
            ]
          },
          "metadata": {
            "tags": []
          },
          "execution_count": 340
        }
      ]
    },
    {
      "cell_type": "code",
      "metadata": {
        "id": "lcdDZJaiaDJA"
      },
      "source": [
        "y_pred18=lsv1.predict(X_test_ss)"
      ],
      "execution_count": null,
      "outputs": []
    },
    {
      "cell_type": "code",
      "metadata": {
        "colab": {
          "base_uri": "https://localhost:8080/"
        },
        "id": "BJ2bZMZraFok",
        "outputId": "6c23da24-03f2-4500-a945-5e582635c9dc"
      },
      "source": [
        "print(classification_report(y_test,y_pred18))"
      ],
      "execution_count": null,
      "outputs": [
        {
          "output_type": "stream",
          "text": [
            "              precision    recall  f1-score   support\n",
            "\n",
            "           0       0.99      0.83      0.90     14354\n",
            "           1       0.05      0.68      0.10       207\n",
            "\n",
            "    accuracy                           0.83     14561\n",
            "   macro avg       0.52      0.75      0.50     14561\n",
            "weighted avg       0.98      0.83      0.89     14561\n",
            "\n"
          ],
          "name": "stdout"
        }
      ]
    },
    {
      "cell_type": "markdown",
      "metadata": {
        "id": "1wj08-Hi3pGr"
      },
      "source": [
        "**From above fig we cn see our model accuracy with gimi index is 83%**"
      ]
    },
    {
      "cell_type": "code",
      "metadata": {
        "id": "sU_Zmai8aNMS"
      },
      "source": [
        "mat18=confusion_matrix(y_test,y_pred18)"
      ],
      "execution_count": null,
      "outputs": []
    },
    {
      "cell_type": "code",
      "metadata": {
        "colab": {
          "base_uri": "https://localhost:8080/",
          "height": 283
        },
        "id": "OH7zV5bfaPgp",
        "outputId": "1ea50b13-1f96-442e-ee5d-3ce8a15e332b"
      },
      "source": [
        "sns.heatmap(mat18,square=True,annot=True,fmt='d')"
      ],
      "execution_count": null,
      "outputs": [
        {
          "output_type": "execute_result",
          "data": {
            "text/plain": [
              "<matplotlib.axes._subplots.AxesSubplot at 0x7fa3900f2850>"
            ]
          },
          "metadata": {
            "tags": []
          },
          "execution_count": 344
        },
        {
          "output_type": "display_data",
          "data": {
            "image/png": "[encoded data removed]",
            "text/plain": [
              "<Figure size 432x288 with 2 Axes>"
            ]
          },
          "metadata": {
            "tags": [],
            "needs_background": "light"
          }
        }
      ]
    },
    {
      "cell_type": "markdown",
      "metadata": {
        "id": "U4SYzkYOaTqn"
      },
      "source": [
        "**Ensembling**"
      ]
    },
    {
      "cell_type": "markdown",
      "metadata": {
        "id": "3EwxpxT8aYpl"
      },
      "source": [
        "Hard voting"
      ]
    },
    {
      "cell_type": "code",
      "metadata": {
        "id": "lPScJbmMa3wI"
      },
      "source": [
        "from sklearn.ensemble import VotingClassifier"
      ],
      "execution_count": null,
      "outputs": []
    },
    {
      "cell_type": "code",
      "metadata": {
        "id": "i7QMTrINalky"
      },
      "source": [
        "model_list1 = [(\"lr1\",lr1),(\"dt1\",dt1),(\"dt3\",dt3),(\"rfc1\",rfc1),(\"gb1\",gb1),(\"aba1\",aba1),(\"lsvc1\",lsvc1)]"
      ],
      "execution_count": null,
      "outputs": []
    },
    {
      "cell_type": "code",
      "metadata": {
        "colab": {
          "base_uri": "https://localhost:8080/"
        },
        "id": "Dd-Pfn16bdoQ",
        "outputId": "1652111f-1089-4885-97ff-c6592e12ff5b"
      },
      "source": [
        "vc1=VotingClassifier(estimators=model_list1)\n",
        "vc1.fit(X_sample2,y_sample2)"
      ],
      "execution_count": null,
      "outputs": [
        {
          "output_type": "execute_result",
          "data": {
            "text/plain": [
              "VotingClassifier(estimators=[('lr1',\n",
              "                              LogisticRegression(C=1.0, class_weight=None,\n",
              "                                                 dual=False, fit_intercept=True,\n",
              "                                                 intercept_scaling=1,\n",
              "                                                 l1_ratio=None, max_iter=100,\n",
              "                                                 multi_class='auto',\n",
              "                                                 n_jobs=None, penalty='l2',\n",
              "                                                 random_state=None,\n",
              "                                                 solver='lbfgs', tol=0.0001,\n",
              "                                                 verbose=0, warm_start=False)),\n",
              "                             ('dt1',\n",
              "                              DecisionTreeClassifier(ccp_alpha=0.0,\n",
              "                                                     class_weight=None,\n",
              "                                                     criterion='gini...\n",
              "                              AdaBoostClassifier(algorithm='SAMME.R',\n",
              "                                                 base_estimator=None,\n",
              "                                                 learning_rate=1.0,\n",
              "                                                 n_estimators=100,\n",
              "                                                 random_state=None)),\n",
              "                             ('lsvc1',\n",
              "                              LinearSVC(C=1.0, class_weight=None, dual=True,\n",
              "                                        fit_intercept=True, intercept_scaling=1,\n",
              "                                        loss='squared_hinge', max_iter=1000,\n",
              "                                        multi_class='ovr', penalty='l2',\n",
              "                                        random_state=1, tol=0.0001,\n",
              "                                        verbose=0))],\n",
              "                 flatten_transform=True, n_jobs=None, voting='hard',\n",
              "                 weights=None)"
            ]
          },
          "metadata": {
            "tags": []
          },
          "execution_count": 347
        }
      ]
    },
    {
      "cell_type": "code",
      "metadata": {
        "id": "ntGkqSRealnw"
      },
      "source": [
        "vc3=VotingClassifier(estimators=model_list1)\n"
      ],
      "execution_count": null,
      "outputs": []
    },
    {
      "cell_type": "code",
      "metadata": {
        "colab": {
          "base_uri": "https://localhost:8080/"
        },
        "id": "OOGINEkdalqC",
        "outputId": "0f733050-c9a6-43bd-f3a9-0d061eb31f07"
      },
      "source": [
        "vc3.fit(X_sample2,y_sample2)\n",
        "y_pred22=vc1.predict(X_test_ss)\n",
        "print(classification_report(y_test,y_pred22))\n"
      ],
      "execution_count": null,
      "outputs": [
        {
          "output_type": "stream",
          "text": [
            "              precision    recall  f1-score   support\n",
            "\n",
            "           0       0.99      0.85      0.92     14354\n",
            "           1       0.06      0.66      0.11       207\n",
            "\n",
            "    accuracy                           0.85     14561\n",
            "   macro avg       0.53      0.75      0.51     14561\n",
            "weighted avg       0.98      0.85      0.91     14561\n",
            "\n"
          ],
          "name": "stdout"
        }
      ]
    },
    {
      "cell_type": "markdown",
      "metadata": {
        "id": "aDI4_U42340v"
      },
      "source": [
        "**From above fig we cn see our model accuracy with gimi index is 85%**"
      ]
    },
    {
      "cell_type": "markdown",
      "metadata": {
        "id": "xQrpwt4gc2PM"
      },
      "source": [
        "**soft voting**"
      ]
    },
    {
      "cell_type": "code",
      "metadata": {
        "id": "X5RYd4M5alvs"
      },
      "source": [
        "vc4=VotingClassifier(estimators=model_list1,voting=\"soft\")"
      ],
      "execution_count": null,
      "outputs": []
    },
    {
      "cell_type": "code",
      "metadata": {
        "id": "jLTExA4WtM0j"
      },
      "source": [
        "vc4.fit(X_sample2,y_sample2)\n",
        "y_pred23=vc1.predict(X_test_ss)"
      ],
      "execution_count": null,
      "outputs": []
    },
    {
      "cell_type": "code",
      "metadata": {
        "colab": {
          "base_uri": "https://localhost:8080/"
        },
        "id": "gHP7-iepuDsK",
        "outputId": "d83ffd7e-880d-424f-ac3a-cea58b1acbd1"
      },
      "source": [
        "print(classification_report(y_test,y_pred23))"
      ],
      "execution_count": null,
      "outputs": [
        {
          "output_type": "stream",
          "text": [
            "              precision    recall  f1-score   support\n",
            "\n",
            "           0       0.99      0.85      0.92     14354\n",
            "           1       0.06      0.66      0.11       207\n",
            "\n",
            "    accuracy                           0.85     14561\n",
            "   macro avg       0.53      0.75      0.51     14561\n",
            "weighted avg       0.98      0.85      0.91     14561\n",
            "\n"
          ],
          "name": "stdout"
        }
      ]
    },
    {
      "cell_type": "markdown",
      "metadata": {
        "id": "QXutnMzL4Nyl"
      },
      "source": [
        "**From above fig we cn see our model accuracy with gimi index is 85%**"
      ]
    },
    {
      "cell_type": "code",
      "metadata": {
        "colab": {
          "base_uri": "https://localhost:8080/",
          "height": 283
        },
        "id": "42DIfHHBtnsH",
        "outputId": "661c40f7-21c5-4bc7-f879-4eb128f04e5b"
      },
      "source": [
        "mat23=confusion_matrix(y_test,y_pred23)\n",
        "sns.heatmap(mat23,square=True,annot=True,fmt='d')"
      ],
      "execution_count": null,
      "outputs": [
        {
          "output_type": "execute_result",
          "data": {
            "text/plain": [
              "<matplotlib.axes._subplots.AxesSubplot at 0x7fa38f9a2150>"
            ]
          },
          "metadata": {
            "tags": []
          },
          "execution_count": 362
        },
        {
          "output_type": "display_data",
          "data": {
            "image/png": "[encoded data removed]",
            "text/plain": [
              "<Figure size 432x288 with 2 Axes>"
            ]
          },
          "metadata": {
            "tags": [],
            "needs_background": "light"
          }
        }
      ]
    },
    {
      "cell_type": "markdown",
      "metadata": {
        "id": "ba3xbXnq4T4V"
      },
      "source": [
        "**ConclusionIn**\n",
        "\n",
        "this project, we have used different ways of addressing the task with unbalanced data.Like Supervisedlearning LinearSVC, Adaboost, GradientBoosting ,DecisionTreeClassifier,Logistic Regression and RandomForest.As per their's result we conclude that Random forest is the best algorithm model since it's giving highaccuracy than other's. The highest accuracy is 95%"
      ]
    }
  ]
}